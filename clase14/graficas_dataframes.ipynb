{
 "cells": [
  {
   "cell_type": "markdown",
   "metadata": {},
   "source": [
    "# Gráficas desde archivo"
   ]
  },
  {
   "cell_type": "code",
   "execution_count": null,
   "metadata": {},
   "outputs": [],
   "source": [
    "import matplotlib.pyplot as plt\n",
    "import pandas as pd"
   ]
  },
  {
   "cell_type": "markdown",
   "metadata": {},
   "source": [
    "Abriendo el archivo a analizar"
   ]
  },
  {
   "cell_type": "code",
   "execution_count": null,
   "metadata": {},
   "outputs": [],
   "source": [
    "df = pd.read_csv('titanic.csv')\n",
    "df.head()"
   ]
  },
  {
   "cell_type": "code",
   "execution_count": null,
   "metadata": {},
   "outputs": [],
   "source": [
    "cantidades=df[\"survived\"].value_counts() \n",
    "cantidades"
   ]
  },
  {
   "cell_type": "code",
   "execution_count": null,
   "metadata": {},
   "outputs": [],
   "source": [
    "df.sex.value_counts()"
   ]
  },
  {
   "cell_type": "code",
   "execution_count": null,
   "metadata": {},
   "outputs": [],
   "source": [
    "# tamaño en pixeles? pulgadas? o una proporción?\n",
    "plt.figure(figsize=(30,20))\n",
    "\n",
    "# Grid de 2x2. primer gráfico en la posición (0,0)\n",
    "plt.subplot2grid((2,2),(0,0))\n",
    "df.survived.value_counts().plot.bar(alpha=0.8)\n",
    "plt.title('Sobrevivieron - Cantidad')\n",
    "\n",
    "plt.subplot2grid((2,2),(0,1))\n",
    "df.survived.value_counts(normalize=True).plot.bar(alpha=0.3)\n",
    "plt.title('Sobrevivieron- Porcentaje')\n",
    "\n",
    "plt.subplot2grid((2,2),(1,0))\n",
    "df.sex.value_counts().plot.bar(alpha=0.5)\n",
    "plt.title('Sexo - Cantidad')\n",
    "\n",
    "plt.subplot2grid((2,2),(1,1))\n",
    "plt.bar(cantidades[0],cantidades[1], color=\"blue\", alpha=0.5, linewidth = 3, label = 'Barra 1')\n",
    "plt.title('Dos Barras juntas')\n",
    "\n",
    "plt.xlabel('Eje X')\n",
    "plt.ylabel('Eje Y')\n",
    "plt.legend()\n",
    "plt.grid()"
   ]
  },
  {
   "cell_type": "code",
   "execution_count": null,
   "metadata": {},
   "outputs": [],
   "source": [
    "df.pclass.describe()"
   ]
  },
  {
   "cell_type": "code",
   "execution_count": null,
   "metadata": {},
   "outputs": [],
   "source": [
    "df.pclass.unique()"
   ]
  },
  {
   "cell_type": "markdown",
   "metadata": {},
   "source": [
    "Para usar el gráfico de distribución kde, es necesario tener disponible la biblioteca **scipy**. Instalarla si no se tiene instalada\n",
    "```bash\n",
    "pip install scipy\n",
    "```"
   ]
  },
  {
   "cell_type": "code",
   "execution_count": null,
   "metadata": {},
   "outputs": [],
   "source": [
    "# Gráfica de distribución tipo kde (estimación de densidad kernel)\n",
    "plt.figure(figsize=(30,10))\n",
    "\n",
    "classes = list(df.pclass.unique())\n",
    "for class_i in classes:\n",
    "    df.age[df.pclass == class_i].plot.kde()\n",
    "plt.legend()\n",
    "plt.show()"
   ]
  },
  {
   "cell_type": "code",
   "execution_count": null,
   "metadata": {},
   "outputs": [],
   "source": [
    "df.plot.scatter(x='age',y='pclass',color='red')\n",
    "plt.show()"
   ]
  },
  {
   "cell_type": "code",
   "execution_count": null,
   "metadata": {},
   "outputs": [],
   "source": [
    "df.age.hist(color='red')\n",
    "plt.show()"
   ]
  }
 ],
 "metadata": {
  "interpreter": {
   "hash": "aff35f7389d7e3d9eefdab8d6ee9cbeea8954c45d329bbe62fa514d288e678ef"
  },
  "kernelspec": {
   "display_name": "Python 3.9.5 64-bit",
   "language": "python",
   "name": "python3"
  },
  "language_info": {
   "codemirror_mode": {
    "name": "ipython",
    "version": 3
   },
   "file_extension": ".py",
   "mimetype": "text/x-python",
   "name": "python",
   "nbconvert_exporter": "python",
   "pygments_lexer": "ipython3",
   "version": "3.9.5"
  },
  "orig_nbformat": 4
 },
 "nbformat": 4,
 "nbformat_minor": 2
}
