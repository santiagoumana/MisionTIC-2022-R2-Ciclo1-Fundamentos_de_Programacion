{
 "cells": [
  {
   "cell_type": "markdown",
   "metadata": {},
   "source": [
    "# Gráficas con la biblioteca **matplotlib**"
   ]
  },
  {
   "cell_type": "markdown",
   "metadata": {},
   "source": [
    "## Instalación\n",
    "\n",
    "En una consola o terminal, ejecutar el siguiente comando:\n",
    "```bash\n",
    "pip install matplotlib\n",
    "```"
   ]
  },
  {
   "cell_type": "markdown",
   "metadata": {},
   "source": [
    "## Importar matplotlib a nuestro código"
   ]
  },
  {
   "cell_type": "code",
   "execution_count": null,
   "metadata": {},
   "outputs": [],
   "source": [
    "import matplotlib.pyplot as plt"
   ]
  },
  {
   "cell_type": "markdown",
   "metadata": {},
   "source": [
    "## Usando listas"
   ]
  },
  {
   "cell_type": "code",
   "execution_count": null,
   "metadata": {},
   "outputs": [],
   "source": [
    "x1=[2,5,6,14]\n",
    "y1= [11,22,33,44]\n",
    "\n",
    "x2=[2,5,6,15]\n",
    "y2=[4,12,18,45]\n",
    "\n",
    "x3=list(range(16))\n",
    "y3=list(map(lambda x: x**2+2*x-1, x3))"
   ]
  },
  {
   "cell_type": "markdown",
   "metadata": {},
   "source": [
    "### Line"
   ]
  },
  {
   "cell_type": "code",
   "execution_count": null,
   "metadata": {},
   "outputs": [],
   "source": [
    "plt.plot(x1,y1,'o-', color=\"blue\", linewidth = 3, label = 'Linea 1')\n",
    "plt.plot(x2,y2, color=\"red\", linewidth = 3, label = 'Linea 2')\n",
    "plt.plot(x3,y3,'.-', color=\"yellow\", linewidth = 1, label = 'Linea 3')\n",
    "\n",
    "plt.title('Dos Graficas juntas')\n",
    "plt.xlabel('Eje X')\n",
    "plt.ylabel('Eje Y')\n",
    "plt.legend()\n",
    "plt.grid()\n",
    "plt.show()"
   ]
  },
  {
   "cell_type": "markdown",
   "metadata": {},
   "source": [
    "### Bar"
   ]
  },
  {
   "cell_type": "code",
   "execution_count": null,
   "metadata": {},
   "outputs": [],
   "source": [
    "plt.bar(x1,y1, color=\"blue\", linewidth = 3, label = 'Barra 1')\n",
    "plt.bar(x2,y2, color=\"green\", linewidth = 3, label = 'Barra 2')\n",
    "\n",
    "plt.title('Dos Barras juntas')\n",
    "plt.xlabel('Eje X')\n",
    "plt.ylabel('Eje Y')\n",
    "plt.legend()\n",
    "plt.grid()\n",
    "plt.show()"
   ]
  },
  {
   "cell_type": "markdown",
   "metadata": {},
   "source": [
    "### Histogram"
   ]
  },
  {
   "cell_type": "code",
   "execution_count": null,
   "metadata": {},
   "outputs": [],
   "source": [
    "datos = [20,22,21,20,23,25,28,40,22,23,22,15,16,18,18,19,21,22,24,4,12,17,17,22,30,]\n",
    "rangobin=[0,10,20,20,30,40]\n",
    "\n",
    "plt.hist(datos, rangobin, histtype='bar',rwidth=0.8, color='lightgreen')\n",
    "\n",
    "plt.title('Histograma')\n",
    "plt.xlabel('Rango de edades')\n",
    "plt.ylabel('Personas en rango')\n",
    "plt.yticks(range(0, 16, 1)) # Poner los saltos en el eje y\n",
    "plt.show()"
   ]
  },
  {
   "cell_type": "code",
   "execution_count": null,
   "metadata": {},
   "outputs": [],
   "source": [
    "edades = [12, 15, 13, 12, 18, 20, 19, 20, 13, 12, 13, 17, 15, 16, 13, 14, 13, 17, 19]\n",
    "\n",
    "intervalos = range(min(edades), max(edades) + 2) #calculamos los extremos de los intervalos\n",
    "\n",
    "plt.hist(x=edades, bins=intervalos, color='#F2AB6D', rwidth=0.85)\n",
    "plt.title('Histograma de edades')\n",
    "plt.xlabel('Edades')\n",
    "plt.ylabel('Frecuencia')\n",
    "plt.xticks(intervalos)\n",
    "\n",
    "plt.show()"
   ]
  },
  {
   "cell_type": "markdown",
   "metadata": {},
   "source": [
    "### Scatter"
   ]
  },
  {
   "cell_type": "code",
   "execution_count": null,
   "metadata": {},
   "outputs": [],
   "source": [
    "plt.scatter(x1,y1, color=\"blue\",  label = 'Puntos 1')\n",
    "plt.scatter(x3,y3, color=\"red\",  label = 'Puntos 2')\n",
    "\n",
    "plt.title('Dos Graficas juntas')\n",
    "plt.xlabel('Eje X')\n",
    "plt.ylabel('Eje Y')\n",
    "plt.legend()\n",
    "plt.grid()\n",
    "plt.show()"
   ]
  },
  {
   "cell_type": "markdown",
   "metadata": {},
   "source": [
    "### Pie"
   ]
  },
  {
   "cell_type": "code",
   "execution_count": null,
   "metadata": {},
   "outputs": [],
   "source": [
    "valores =[20,40,60,80]\n",
    "\n",
    "plt.pie(valores, labels=['Prekinder', 'kinder', 'primaria', 'secundaria'], \n",
    "        colors=['red','purple','blue','orange'],\n",
    "        startangle=90, shadow=True, explode=(0.1,0,0,0), autopct='%1.1f%%')\n",
    "plt.title('Grafico circular')\n",
    "plt.show()"
   ]
  }
 ],
 "metadata": {
  "interpreter": {
   "hash": "aff35f7389d7e3d9eefdab8d6ee9cbeea8954c45d329bbe62fa514d288e678ef"
  },
  "kernelspec": {
   "display_name": "Python 3.9.5 64-bit",
   "language": "python",
   "name": "python3"
  },
  "language_info": {
   "codemirror_mode": {
    "name": "ipython",
    "version": 3
   },
   "file_extension": ".py",
   "mimetype": "text/x-python",
   "name": "python",
   "nbconvert_exporter": "python",
   "pygments_lexer": "ipython3",
   "version": "3.9.5"
  },
  "orig_nbformat": 4
 },
 "nbformat": 4,
 "nbformat_minor": 2
}
