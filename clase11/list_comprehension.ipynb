{
 "cells": [
  {
   "cell_type": "markdown",
   "metadata": {},
   "source": [
    "# List Comprehension\n"
   ]
  },
  {
   "cell_type": "markdown",
   "metadata": {},
   "source": [
    "Lista: `[<dato> <recorrido for> <filtro if>]`  \n",
    "Tupla: `tuple(<dato> <recorrido for> <filtro if>)`  \n",
    "Conjunto: `{<dato> <recorrido for> <filtro if>}`  \n",
    "Diccionario: `{<key>:<value> <recorrido for> <filtro if>}`  "
   ]
  },
  {
   "cell_type": "code",
   "execution_count": 1,
   "metadata": {},
   "outputs": [
    {
     "name": "stdout",
     "output_type": "stream",
     "text": [
      "['manzana', 'banano', 'cereza', 'mango']\n"
     ]
    }
   ],
   "source": [
    "frutas = [\"manzana\", \"banano\", \"cereza\", \"kiwi\", \"mango\"]\n",
    "\n",
    "lista=[]\n",
    "for fruta in frutas:\n",
    "    if \"a\" in fruta:\n",
    "        lista.append(fruta)\n",
    "\n",
    "print(lista)"
   ]
  },
  {
   "cell_type": "code",
   "execution_count": 4,
   "metadata": {},
   "outputs": [
    {
     "name": "stdout",
     "output_type": "stream",
     "text": [
      "['manzana', 'banano', 'cereza', 'mango']\n"
     ]
    }
   ],
   "source": [
    "frutas = [\"manzana\", \"banano\", \"cereza\", \"kiwi\", \"mango\"]\n",
    "lista = [fruta for fruta in frutas if \"a\" in fruta]\n",
    "\n",
    "print(lista)"
   ]
  },
  {
   "cell_type": "code",
   "execution_count": 5,
   "metadata": {},
   "outputs": [
    {
     "name": "stdout",
     "output_type": "stream",
     "text": [
      "['banano', 'cereza', 'kiwi', 'mango']\n"
     ]
    }
   ],
   "source": [
    "lista = [x for x in frutas if x != \"manzana\"] \n",
    "\n",
    "print(lista)"
   ]
  },
  {
   "cell_type": "code",
   "execution_count": 7,
   "metadata": {},
   "outputs": [
    {
     "name": "stdout",
     "output_type": "stream",
     "text": [
      "[4, 3, 2, 1, 0]\n"
     ]
    }
   ],
   "source": [
    "lista = [x for x in range(10) if x < 5] \n",
    "lista.reverse()\n",
    "print(lista)"
   ]
  },
  {
   "cell_type": "code",
   "execution_count": 8,
   "metadata": {},
   "outputs": [
    {
     "name": "stdout",
     "output_type": "stream",
     "text": [
      "['MANZANA', 'BANANO', 'CEREZA', 'KIWI', 'MANGO']\n"
     ]
    }
   ],
   "source": [
    "frutas = [\"manzana\", \"banano\", \"cereza\", \"kiwi\", \"mango\"]\n",
    "lista = [x.upper() for x in frutas] #la var x la convierte a mayusc\n",
    "\n",
    "print(lista)"
   ]
  },
  {
   "cell_type": "code",
   "execution_count": 10,
   "metadata": {},
   "outputs": [
    {
     "name": "stdout",
     "output_type": "stream",
     "text": [
      "[30, 50, 70, 50, 70, 90, 70, 90, 110]\n"
     ]
    }
   ],
   "source": [
    "lista = [ x + y for x in [10,30,50] for y in [20,40,60]]\n",
    "\n",
    "print(lista)"
   ]
  },
  {
   "cell_type": "code",
   "execution_count": 9,
   "metadata": {},
   "outputs": [
    {
     "name": "stdout",
     "output_type": "stream",
     "text": [
      "[30, 50, 70, 50, 70, 90, 70, 90, 110]\n"
     ]
    }
   ],
   "source": [
    "#forma trad\n",
    "lista = []\n",
    "for x in [10,30,50]: #cada vard de x tomay + cada de y\n",
    "    for y in [20,40,60]:\n",
    "        lista.append(x + y)\n",
    "print(lista)"
   ]
  },
  {
   "cell_type": "code",
   "execution_count": 11,
   "metadata": {},
   "outputs": [
    {
     "name": "stdout",
     "output_type": "stream",
     "text": [
      "['manzana', 'naranja', 'cereza', 'kiwi', 'mango']\n"
     ]
    }
   ],
   "source": [
    "frutas = [\"manzana\", \"banano\", \"cereza\", \"kiwi\", \"mango\"]\n",
    "lista = [x if x != \"banano\" else \"naranja\" for x in frutas] \n",
    "\n",
    "print(lista)"
   ]
  },
  {
   "cell_type": "markdown",
   "metadata": {},
   "source": [
    "**Ojo**: condicional en 1 linea:  \n",
    "`<valor verdadero> if <condicion> else <valor falso>`"
   ]
  },
  {
   "cell_type": "code",
   "execution_count": 12,
   "metadata": {},
   "outputs": [
    {
     "name": "stdout",
     "output_type": "stream",
     "text": [
      "['naranja', 'naranja', 'naranja', 'kiwi', 'naranja']\n"
     ]
    }
   ],
   "source": [
    "lista = [x if 'a' not in x else \"naranja\" for x in frutas] \n",
    "\n",
    "print(lista)"
   ]
  },
  {
   "cell_type": "markdown",
   "metadata": {},
   "source": [
    "## Otros ejemplos\n"
   ]
  },
  {
   "cell_type": "code",
   "execution_count": 14,
   "metadata": {},
   "outputs": [
    {
     "name": "stdout",
     "output_type": "stream",
     "text": [
      "['E', 'o', 'e', 'e', 'e', 'e', 'u', 'e', 'e', 'e', 'e', 'a', 'e']\n"
     ]
    }
   ],
   "source": [
    "oracion = 'El cohete se devuelve desde marte'\n",
    "vocales = [i for i in oracion if i.lower() in 'aeiou']\n",
    "\n",
    "print(vocales)"
   ]
  },
  {
   "cell_type": "code",
   "execution_count": null,
   "metadata": {},
   "outputs": [],
   "source": [
    "def es_consonante(letra: str):\n",
    "    vocales = 'aeiou'\n",
    "    return letra.isalpha() and letra.lower() not in vocales\n",
    "consonantes = [i for i in oracion if es_consonante(i)]\n",
    "\n",
    "print(consonantes)"
   ]
  },
  {
   "cell_type": "code",
   "execution_count": null,
   "metadata": {},
   "outputs": [],
   "source": [
    "precios_originales = [1250, -9450, 10220, 3780, -5920, 1160]\n",
    "precios = [i if i > 0 else 0 for i in precios_originales]\n",
    "\n",
    "print(precios)"
   ]
  },
  {
   "cell_type": "markdown",
   "metadata": {},
   "source": [
    "### Con conjuntos"
   ]
  },
  {
   "cell_type": "code",
   "execution_count": null,
   "metadata": {},
   "outputs": [],
   "source": [
    "oracion = 'El cohete se devuelve desde marte'\n",
    "vocales_usadas = {i for i in oracion if i in 'aeiou'}\n",
    "\n",
    "print(vocales_usadas)"
   ]
  },
  {
   "cell_type": "markdown",
   "metadata": {},
   "source": [
    "### Con diccionarios"
   ]
  },
  {
   "cell_type": "code",
   "execution_count": null,
   "metadata": {},
   "outputs": [],
   "source": [
    "cuadrados = { i: i ** 2 for i in range(10)}\n",
    "\n",
    "print(cuadrados)"
   ]
  },
  {
   "cell_type": "markdown",
   "metadata": {},
   "source": [
    "### Con tuplas"
   ]
  },
  {
   "cell_type": "code",
   "execution_count": null,
   "metadata": {},
   "outputs": [],
   "source": [
    "numeros = tuple(str(i) for i in range(10))\n",
    "\n",
    "print(numeros)"
   ]
  }
 ],
 "metadata": {
  "interpreter": {
   "hash": "e6104bf604ca1a37923b4f279a3bc03307071c215727ed52dcf746e90ba65021"
  },
  "kernelspec": {
   "display_name": "Python 3.10.4 64-bit",
   "language": "python",
   "name": "python3"
  },
  "language_info": {
   "codemirror_mode": {
    "name": "ipython",
    "version": 3
   },
   "file_extension": ".py",
   "mimetype": "text/x-python",
   "name": "python",
   "nbconvert_exporter": "python",
   "pygments_lexer": "ipython3",
   "version": "3.10.4"
  },
  "orig_nbformat": 4
 },
 "nbformat": 4,
 "nbformat_minor": 2
}
