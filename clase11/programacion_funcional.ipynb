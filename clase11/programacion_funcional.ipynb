{
 "cells": [
  {
   "cell_type": "markdown",
   "metadata": {},
   "source": [
    "# Programación funcional"
   ]
  },
  {
   "cell_type": "markdown",
   "metadata": {},
   "source": [
    "## Definición de funciones (clásico)"
   ]
  },
  {
   "cell_type": "markdown",
   "metadata": {},
   "source": [
    "### Función sin parámetros"
   ]
  },
  {
   "cell_type": "code",
   "execution_count": null,
   "metadata": {},
   "outputs": [],
   "source": [
    "def saludar_al_mundo():\n",
    "    return \"Hola Mundo\"\n",
    "\n",
    "print(saludar_al_mundo())"
   ]
  },
  {
   "cell_type": "markdown",
   "metadata": {},
   "source": [
    "### Función con parámetros"
   ]
  },
  {
   "cell_type": "code",
   "execution_count": null,
   "metadata": {},
   "outputs": [],
   "source": [
    "def saludar_alguien(quien):\n",
    "    return \"Hola \"+str(quien)\n",
    "\n",
    "print(saludar_alguien(\"Cesar\"))"
   ]
  },
  {
   "cell_type": "markdown",
   "metadata": {},
   "source": [
    "### Función con parámetro opcional"
   ]
  },
  {
   "cell_type": "code",
   "execution_count": null,
   "metadata": {},
   "outputs": [],
   "source": [
    "def saludar_alguien_adicional(quien, adicional = \"!\"):\n",
    "    return \"Hola \"+str(quien)+str(adicional)\n",
    "\n",
    "print(saludar_alguien_adicional(\"Cesar\"))\n",
    "print(saludar_alguien_adicional(\"Mundo\", \"*\"))\n",
    "print(saludar_alguien_adicional(adicional=\" :)\", quien=\"Andres\"))"
   ]
  },
  {
   "cell_type": "markdown",
   "metadata": {},
   "source": [
    "### Retornar más de 1 valor"
   ]
  },
  {
   "cell_type": "code",
   "execution_count": null,
   "metadata": {},
   "outputs": [],
   "source": [
    "def retornar_varios_valores():\n",
    "    return \"César\", \"Díaz\", 41, \"Pereira\"\n",
    "\n",
    "valores = retornar_varios_valores() \n",
    "nombre, apellido, edad, ciudad = valores\n",
    "print(nombre, apellido, edad, ciudad, sep=\"\\n\")"
   ]
  },
  {
   "cell_type": "markdown",
   "metadata": {},
   "source": [
    "### Recibir cualquier cantidad de parámetros en una tupla (*args)"
   ]
  },
  {
   "cell_type": "code",
   "execution_count": null,
   "metadata": {},
   "outputs": [],
   "source": [
    "def suma_variable(*args):\n",
    "    valor = 0\n",
    "    for arg in args:\n",
    "        if isinstance(arg, str):\n",
    "            arg = ord(arg)\n",
    "        elif not isinstance(arg, int) and not isinstance(arg, float):\n",
    "            continue\n",
    "        valor += arg\n",
    "    return valor\n",
    "\n",
    "print(\"Suma variable:\", suma_variable(1,5,3,4,8,9,\"A\", [10, 20],10,2,6,7))"
   ]
  },
  {
   "cell_type": "markdown",
   "metadata": {},
   "source": [
    "### Recibir cualquier cantidad de parámetros en una tupla con un dato obligatorio"
   ]
  },
  {
   "cell_type": "code",
   "execution_count": null,
   "metadata": {},
   "outputs": [],
   "source": [
    "def promedio_estudiante(codigo, *notas):\n",
    "    promedio = round(sum(notas)/len(notas),1)\n",
    "    return f\"El estudiante {codigo} obtuvo una nota con promedio {promedio}\"\n",
    "\n",
    "print(\"Nota final:\", promedio_estudiante(\"1025\", 2.5, 3.1, 4.0, 2.0, 4.0))"
   ]
  },
  {
   "cell_type": "markdown",
   "metadata": {},
   "source": [
    "### Recibir cualquier cantidad de parámetros en un diccionario (**kwargs)"
   ]
  },
  {
   "cell_type": "code",
   "execution_count": null,
   "metadata": {},
   "outputs": [],
   "source": [
    "def imprimir_diccionario(**kwargs):\n",
    "    print(kwargs)\n",
    "\n",
    "imprimir_diccionario(nombre=\"César\", apellido=\"Díaz\", edad=41)"
   ]
  },
  {
   "cell_type": "markdown",
   "metadata": {},
   "source": [
    "### Alcance (scope) variables"
   ]
  },
  {
   "cell_type": "code",
   "execution_count": null,
   "metadata": {},
   "outputs": [],
   "source": [
    "nombre = \"Cesar\"\n",
    "edad = 41\n",
    "def imprimir_nombre():\n",
    "    nombre = \"Andres\"\n",
    "    print(\"Nombre en función:\", nombre, edad)\n",
    "\n",
    "imprimir_nombre()\n",
    "print(\"Nombre fuera de función:\", nombre, edad)"
   ]
  },
  {
   "cell_type": "markdown",
   "metadata": {},
   "source": [
    "### Scope global"
   ]
  },
  {
   "cell_type": "code",
   "execution_count": null,
   "metadata": {},
   "outputs": [],
   "source": [
    "nombre = \"Cesar\"\n",
    "def imprimir_nombre_global():\n",
    "    global nombre\n",
    "    nombre = \"Andres\"\n",
    "    print(\"Nombre en función global:\", nombre)\n",
    "\n",
    "imprimir_nombre_global()\n",
    "print(\"Nombre fuera de función global:\", nombre)"
   ]
  },
  {
   "cell_type": "markdown",
   "metadata": {},
   "source": [
    "### Funciones anidadas"
   ]
  },
  {
   "cell_type": "code",
   "execution_count": null,
   "metadata": {},
   "outputs": [],
   "source": [
    "def funcion_padre():\n",
    "    nombre = \"Cesar\"\n",
    "    def funcion_hijo():\n",
    "        nombre = \"Manuel\"\n",
    "        return f\"Soy la función de {nombre}\"\n",
    "    return f\"{nombre}; {funcion_hijo()}\"\n",
    "\n",
    "print(\"Función anidada:\",funcion_padre())"
   ]
  },
  {
   "cell_type": "markdown",
   "metadata": {},
   "source": [
    "## Programación funcional"
   ]
  },
  {
   "cell_type": "markdown",
   "metadata": {},
   "source": [
    "### Funciones Lambda (anónimas)\n",
    "```Python\n",
    "lambda [parametros]: [valor retorna]\n",
    "```"
   ]
  },
  {
   "cell_type": "code",
   "execution_count": null,
   "metadata": {},
   "outputs": [],
   "source": [
    "def incrementar(x): \n",
    "    return x + 1\n",
    "\n",
    "incremento = lambda x: x + 1\n",
    "\n",
    "print(\"Incremento de 9:\", incremento(9), incrementar(9))"
   ]
  },
  {
   "cell_type": "markdown",
   "metadata": {},
   "source": [
    "#### Otros ejemplos"
   ]
  },
  {
   "cell_type": "code",
   "execution_count": null,
   "metadata": {},
   "outputs": [],
   "source": [
    "cubo = lambda x: x**3\n",
    "\n",
    "print(cubo(3))"
   ]
  },
  {
   "cell_type": "code",
   "execution_count": null,
   "metadata": {},
   "outputs": [],
   "source": [
    "raiz_cuadrada = lambda x : x**(1/2)\n",
    "\n",
    "print(raiz_cuadrada(121))"
   ]
  },
  {
   "cell_type": "code",
   "execution_count": null,
   "metadata": {},
   "outputs": [],
   "source": [
    "diferencia_cuadrado = lambda x1, x2 = 0: (x1 - x2)**2\n",
    "\n",
    "print(diferencia_cuadrado(10))\n",
    "print(diferencia_cuadrado(10, 8))"
   ]
  },
  {
   "cell_type": "code",
   "execution_count": null,
   "metadata": {},
   "outputs": [],
   "source": [
    "nombre_completo = lambda nombres, apellidos: f\"{nombres} {apellidos}\"\n",
    "\n",
    "print(nombre_completo(\"César Augusto\", \"Díaz Arriaga\"))"
   ]
  },
  {
   "cell_type": "code",
   "execution_count": null,
   "metadata": {},
   "outputs": [],
   "source": [
    "es_par = lambda x : x % 2 == 0\n",
    "\n",
    "print(es_par(127))\n",
    "print(es_par(128))"
   ]
  },
  {
   "cell_type": "code",
   "execution_count": null,
   "metadata": {},
   "outputs": [],
   "source": [
    "funcion_compleja = lambda x, func: x + func(x)\n",
    "\n",
    "print(funcion_compleja(2, lambda x: x * x))\n",
    "print(funcion_compleja(2, lambda x: x + 3))"
   ]
  },
  {
   "cell_type": "markdown",
   "metadata": {},
   "source": [
    "### Closures (envolturas): Crear una función que genera funciones"
   ]
  },
  {
   "cell_type": "code",
   "execution_count": null,
   "metadata": {},
   "outputs": [],
   "source": [
    "def construir_multiplos(factor):\n",
    "  return lambda valor : valor * factor\n",
    "\n",
    "multiplos_de_2 = construir_multiplos(2)\n",
    "multiplos_de_7 = construir_multiplos(7)\n",
    "\n",
    "print(multiplos_de_2(10))\n",
    "print(multiplos_de_7(2))"
   ]
  },
  {
   "cell_type": "markdown",
   "metadata": {},
   "source": [
    "### Funciones internas"
   ]
  },
  {
   "cell_type": "code",
   "execution_count": null,
   "metadata": {},
   "outputs": [],
   "source": [
    "def outer_func(x):\n",
    "    y = 4\n",
    "    def inner_func(z):\n",
    "        print(f\"x = {x}, y = {y}, z = {z}\")\n",
    "        return x + y + z\n",
    "    return inner_func\n",
    "\n",
    "for i in range(3):\n",
    "    closure = outer_func(i)\n",
    "    print(f\"closure({i+5}) = {closure(i+5)}\")"
   ]
  },
  {
   "cell_type": "code",
   "execution_count": null,
   "metadata": {},
   "outputs": [],
   "source": [
    "def generar_operacion(operador):\n",
    "    def suma(*args):\n",
    "        valor = 0\n",
    "        for num in args:\n",
    "            valor += num\n",
    "        return valor\n",
    "    def resta(a, b):\n",
    "        return a - b\n",
    "    def multiplicacion(*args):\n",
    "        valor = 1\n",
    "        for num in args:\n",
    "            valor *= num\n",
    "        return valor\n",
    "    \n",
    "    if operador == \"+\":\n",
    "        return suma\n",
    "    elif operador == \"-\":\n",
    "        return resta\n",
    "    elif operador == '*':\n",
    "        return multiplicacion\n",
    "\n",
    "operacion = generar_operacion(\"*\")\n",
    "print(operacion(6, 7, 10, 25))"
   ]
  }
 ],
 "metadata": {
  "interpreter": {
   "hash": "aff35f7389d7e3d9eefdab8d6ee9cbeea8954c45d329bbe62fa514d288e678ef"
  },
  "kernelspec": {
   "display_name": "Python 3.9.5 64-bit",
   "language": "python",
   "name": "python3"
  },
  "language_info": {
   "codemirror_mode": {
    "name": "ipython",
    "version": 3
   },
   "file_extension": ".py",
   "mimetype": "text/x-python",
   "name": "python",
   "nbconvert_exporter": "python",
   "pygments_lexer": "ipython3",
   "version": "3.9.5"
  },
  "orig_nbformat": 4
 },
 "nbformat": 4,
 "nbformat_minor": 2
}
