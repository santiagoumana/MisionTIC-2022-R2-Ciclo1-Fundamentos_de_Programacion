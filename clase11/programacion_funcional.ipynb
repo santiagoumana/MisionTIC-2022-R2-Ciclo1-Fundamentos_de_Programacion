{
 "cells": [
  {
   "cell_type": "markdown",
   "metadata": {},
   "source": [
    "# Programación funcional"
   ]
  },
  {
   "cell_type": "markdown",
   "metadata": {},
   "source": [
    "## Definición de funciones (clásico)"
   ]
  },
  {
   "cell_type": "markdown",
   "metadata": {},
   "source": [
    "### Función sin parámetros"
   ]
  },
  {
   "cell_type": "code",
   "execution_count": 1,
   "metadata": {},
   "outputs": [
    {
     "name": "stdout",
     "output_type": "stream",
     "text": [
      "Hola Mundo\n"
     ]
    }
   ],
   "source": [
    "def saludar_al_mundo():\n",
    "    return \"Hola Mundo\"\n",
    "\n",
    "print(saludar_al_mundo())"
   ]
  },
  {
   "cell_type": "markdown",
   "metadata": {},
   "source": [
    "### Función con parámetros"
   ]
  },
  {
   "cell_type": "code",
   "execution_count": 2,
   "metadata": {},
   "outputs": [
    {
     "name": "stdout",
     "output_type": "stream",
     "text": [
      "Hola Cesar\n"
     ]
    }
   ],
   "source": [
    "def saludar_alguien(quien):\n",
    "    return \"Hola \"+ str(quien)\n",
    "\n",
    "print(saludar_alguien(\"Cesar\"))"
   ]
  },
  {
   "cell_type": "markdown",
   "metadata": {},
   "source": [
    "### Función con parámetro opcional"
   ]
  },
  {
   "cell_type": "code",
   "execution_count": 3,
   "metadata": {},
   "outputs": [
    {
     "name": "stdout",
     "output_type": "stream",
     "text": [
      "Hola Cesar!\n",
      "Hola Mundo*\n",
      "Hola Andres :)\n"
     ]
    }
   ],
   "source": [
    "def saludar_alguien_adicional(quien, adicional = \"!\"):\n",
    "    return \"Hola \"+ str(quien) + str(adicional)\n",
    "\n",
    "print(saludar_alguien_adicional(\"Cesar\"))\n",
    "print(saludar_alguien_adicional(\"Mundo\", \"*\"))\n",
    "print(saludar_alguien_adicional(adicional=\" :)\", quien=\"Andres\"))"
   ]
  },
  {
   "cell_type": "markdown",
   "metadata": {},
   "source": [
    "### Retornar más de 1 valor"
   ]
  },
  {
   "cell_type": "code",
   "execution_count": 4,
   "metadata": {},
   "outputs": [
    {
     "name": "stdout",
     "output_type": "stream",
     "text": [
      "César\n",
      "Díaz\n",
      "41\n",
      "Pereira\n"
     ]
    }
   ],
   "source": [
    "def retornar_varios_valores():\n",
    "    return \"César\", \"Díaz\", 41, \"Pereira\"\n",
    "\n",
    "valores = retornar_varios_valores() \n",
    "nombre, apellido, edad, ciudad = valores\n",
    "print(nombre, apellido, edad, ciudad, sep=\"\\n\")"
   ]
  },
  {
   "cell_type": "markdown",
   "metadata": {},
   "source": [
    "### Recibir cualquier cantidad de parámetros en una tupla (*args)"
   ]
  },
  {
   "cell_type": "code",
   "execution_count": 10,
   "metadata": {},
   "outputs": [
    {
     "name": "stdout",
     "output_type": "stream",
     "text": [
      "Suma variable: 216\n"
     ]
    }
   ],
   "source": [
    "def suma_variable(*args):\n",
    "    valor = 0\n",
    "    for arg in args:\n",
    "        if isinstance(arg, str):\n",
    "            arg = ord(arg)\n",
    "        elif isinstance(arg, list):\n",
    "            arg = sum(arg)\n",
    "        elif not isinstance(arg, int) and not isinstance(arg, float):\n",
    "            continue\n",
    "        valor += arg\n",
    "    return valor\n",
    "\n",
    "print(\"Suma variable:\", suma_variable(1,5,3,4,8,9,\"A\", [10, 20],10,2,6,7,\"B\"))"
   ]
  },
  {
   "cell_type": "code",
   "execution_count": 5,
   "metadata": {},
   "outputs": [
    {
     "data": {
      "text/plain": [
       "65"
      ]
     },
     "execution_count": 5,
     "metadata": {},
     "output_type": "execute_result"
    }
   ],
   "source": [
    "ord(\"A\")"
   ]
  },
  {
   "cell_type": "markdown",
   "metadata": {},
   "source": [
    "### Recibir cualquier cantidad de parámetros en una tupla con un dato obligatorio"
   ]
  },
  {
   "cell_type": "code",
   "execution_count": 11,
   "metadata": {},
   "outputs": [
    {
     "name": "stdout",
     "output_type": "stream",
     "text": [
      "Nota final: El estudiante 1025 obtuvo una nota con promedio 2.8\n"
     ]
    }
   ],
   "source": [
    "def promedio_estudiante(codigo, *notas): #* ese parametro guarda de forma dinamica el resto de parametros\n",
    "    promedio = round(sum(notas)/len(notas),1)\n",
    "    return f\"El estudiante {codigo} obtuvo una nota con promedio {promedio}\"\n",
    "\n",
    "print(\"Nota final:\", promedio_estudiante(\"1025\", 2.5, 3.1,))"
   ]
  },
  {
   "cell_type": "markdown",
   "metadata": {},
   "source": [
    "### Recibir cualquier cantidad de parámetros en un diccionario (**kwargs)"
   ]
  },
  {
   "cell_type": "code",
   "execution_count": null,
   "metadata": {},
   "outputs": [],
   "source": [
    "def imprimir_diccionario(**kwargs):\n",
    "    if \"correo\" not in kwargs[\"correo\"] == None:\n",
    "        kwargs[\"correo\"] = \"N/A\"\n",
    "    print(kwargs)\n",
    "\n",
    "imprimir_diccionario(nombre=\"César\", apellido=\"Díaz\", edad=41, ciudad = \"pereira\")\n",
    "imprimir_diccionario(nombre=\"César\", apellido=\"Díaz\", edad=41, ciudad = \"pereira\" altura =1.83, peso=50)\n"
   ]
  },
  {
   "cell_type": "code",
   "execution_count": null,
   "metadata": {},
   "outputs": [],
   "source": [
    "def agregar_usuario(nombre, apellido, edad, ciudad, correo):\n",
    "    print(nombre, apellido, edad, ciudad, correo)\n",
    "\n",
    "agregar_usuario(\"cesar, \"diaz\", 41, \"pereira\" \"correo@gmail.com\")"
   ]
  },
  {
   "cell_type": "code",
   "execution_count": null,
   "metadata": {},
   "outputs": [],
   "source": [
    "dict = {}\n",
    "dict[\"nombre\"] = input(\"ingrese su nombre: \")\n",
    "dict[\"edad\"] = int(\"ingrese su edad: \")\n",
    "print(dict)\n",
    "\n",
    "\n"
   ]
  },
  {
   "cell_type": "code",
   "execution_count": null,
   "metadata": {},
   "outputs": [],
   "source": [
    "tupla = input(\"ingrese su nombre: \"), int(\"ingrese su edad: \"))"
   ]
  },
  {
   "cell_type": "markdown",
   "metadata": {},
   "source": [
    "### Alcance (scope) variables"
   ]
  },
  {
   "cell_type": "code",
   "execution_count": 4,
   "metadata": {},
   "outputs": [
    {
     "name": "stdout",
     "output_type": "stream",
     "text": [
      "Nombre en función: Andres 41\n",
      "Nombre fuera de función: cesar 41\n",
      "otro nombre: Andres\n"
     ]
    }
   ],
   "source": [
    "nombre = \"diana\"\n",
    "def otra():\n",
    "    nombre = \"cesar\"\n",
    "    edad = 41\n",
    "    def imprimir_nombre():\n",
    "        global nombre\n",
    "        nombre = \"Andres\"\n",
    "        edad = 41\n",
    "        print(\"Nombre en función:\", nombre, edad)\n",
    "\n",
    "    imprimir_nombre()\n",
    "    print(\"Nombre fuera de función:\", nombre, edad)\n",
    "\n",
    "otra()\n",
    "print(\"otro nombre:\", nombre)\n"
   ]
  },
  {
   "cell_type": "markdown",
   "metadata": {},
   "source": [
    "### Scope global"
   ]
  },
  {
   "cell_type": "code",
   "execution_count": 2,
   "metadata": {},
   "outputs": [
    {
     "name": "stdout",
     "output_type": "stream",
     "text": [
      "Nombre en función global: Andres 42\n",
      "Nombre fuera de función global: Andres 42\n"
     ]
    }
   ],
   "source": [
    "nombre = \"Cesar\"\n",
    "edad = 41\n",
    "def imprimir_nombre_global():\n",
    "    global nombre, edad  #global hace referencia a la var golobal, modificar un a var local esta en nivel superior\n",
    "    nombre = \"Andres\"\n",
    "    edad += 1\n",
    "    print(\"Nombre en función global:\", nombre, edad)\n",
    "\n",
    "imprimir_nombre_global()\n",
    "print(\"Nombre fuera de función global:\", nombre, edad)"
   ]
  },
  {
   "cell_type": "markdown",
   "metadata": {},
   "source": [
    "### Funciones anidadas"
   ]
  },
  {
   "cell_type": "code",
   "execution_count": 10,
   "metadata": {},
   "outputs": [
    {
     "name": "stdout",
     "output_type": "stream",
     "text": [
      "hola mundo\n",
      "Función anidada: Cesar; Soy la función de Manuel\n"
     ]
    }
   ],
   "source": [
    "def funcion_padre():\n",
    "    nombre = \"Cesar\"\n",
    "    def funcion_hijo():\n",
    "        nombre = \"Manuel\"\n",
    "        print(otra2())\n",
    "        return f\"Soy la función de {nombre}\"\n",
    "        \n",
    "    def otra2():       \n",
    "        return \"hola mundo\"\n",
    "\n",
    "    # print(otra2())\n",
    "    return f\"{nombre}; {funcion_hijo()}\"\n",
    "\n",
    "print(\"Función anidada:\",funcion_padre())\n",
    "# print(otra2())\n",
    "# print(\"Función anidada:\",funcion_hijo())\n"
   ]
  },
  {
   "cell_type": "markdown",
   "metadata": {},
   "source": [
    "## Programación funcional"
   ]
  },
  {
   "cell_type": "markdown",
   "metadata": {},
   "source": [
    "### Funciones Lambda (anónimas)\n",
    "```Python\n",
    "lambda [parametros]: [valor retorna]\n",
    "```"
   ]
  },
  {
   "cell_type": "code",
   "execution_count": 11,
   "metadata": {},
   "outputs": [
    {
     "name": "stdout",
     "output_type": "stream",
     "text": [
      "<class 'function'>\n"
     ]
    }
   ],
   "source": [
    "def incrementar(x): \n",
    "    return x + 1\n",
    "\n",
    "incremento = lambda x: x + 1\n",
    "print(type(incremento))\n",
    "\n"
   ]
  },
  {
   "cell_type": "code",
   "execution_count": 12,
   "metadata": {},
   "outputs": [
    {
     "name": "stdout",
     "output_type": "stream",
     "text": [
      "Incremento de 9: 10 10\n"
     ]
    }
   ],
   "source": [
    "lista = [[1, 2], 2, 3]\n",
    "lista[0][1]\n",
    "\n",
    "print(\"Incremento de 9:\", incremento(9), incrementar(9))"
   ]
  },
  {
   "cell_type": "markdown",
   "metadata": {},
   "source": [
    "#### Otros ejemplos"
   ]
  },
  {
   "cell_type": "code",
   "execution_count": 14,
   "metadata": {},
   "outputs": [
    {
     "name": "stdout",
     "output_type": "stream",
     "text": [
      "343\n"
     ]
    }
   ],
   "source": [
    "cubo = lambda x: x**3\n",
    "\n",
    "print(cubo(7))"
   ]
  },
  {
   "cell_type": "code",
   "execution_count": 15,
   "metadata": {},
   "outputs": [
    {
     "name": "stdout",
     "output_type": "stream",
     "text": [
      "11.0\n"
     ]
    }
   ],
   "source": [
    "raiz_cuadrada = lambda x : x**(1/2)\n",
    "\n",
    "print(raiz_cuadrada(121))"
   ]
  },
  {
   "cell_type": "code",
   "execution_count": 16,
   "metadata": {},
   "outputs": [
    {
     "name": "stdout",
     "output_type": "stream",
     "text": [
      "100\n",
      "4\n"
     ]
    }
   ],
   "source": [
    "diferencia_cuadrado = lambda x1, x2 = 0: (x1 - x2)**2\n",
    "\n",
    "print(diferencia_cuadrado(10))\n",
    "print(diferencia_cuadrado(10, 8))"
   ]
  },
  {
   "cell_type": "code",
   "execution_count": 18,
   "metadata": {},
   "outputs": [
    {
     "name": "stdout",
     "output_type": "stream",
     "text": [
      "<built-in method upper of str object at 0x0000018AF02A2610> César Augusto\n"
     ]
    }
   ],
   "source": [
    "nombre_completo = lambda nombres, apellidos: f\"{apellidos.upper} {nombres}\"\n",
    "\n",
    "print(nombre_completo(\"César Augusto\", \"Díaz Arriaga\"))"
   ]
  },
  {
   "cell_type": "code",
   "execution_count": 19,
   "metadata": {},
   "outputs": [
    {
     "name": "stdout",
     "output_type": "stream",
     "text": [
      "False\n",
      "True\n"
     ]
    }
   ],
   "source": [
    "es_par = lambda x : x % 2 == 0\n",
    "\n",
    "print(es_par(127))\n",
    "print(es_par(128))"
   ]
  },
  {
   "cell_type": "code",
   "execution_count": 23,
   "metadata": {},
   "outputs": [
    {
     "name": "stdout",
     "output_type": "stream",
     "text": [
      "3130\n",
      "9\n"
     ]
    }
   ],
   "source": [
    "funcion_compleja = lambda x, func: x + func(x)\n",
    "\n",
    "print(funcion_compleja(5, lambda x: x ** x))\n",
    "print(funcion_compleja(3, lambda x: x + 3))\n",
    "\n"
   ]
  },
  {
   "cell_type": "code",
   "execution_count": 31,
   "metadata": {},
   "outputs": [
    {
     "name": "stdout",
     "output_type": "stream",
     "text": [
      "[0, 1, 1, 2, 3, 5, 8, 13, 21, 34, 55, 89]\n"
     ]
    }
   ],
   "source": [
    "recursiva = lambda valor: 1 if valor == 0 else valor * recursiva(valor -1)\n",
    "recursiva = lambda valor: 0 if valor ==0 else 1 if valor == 1 else recursiva(valor-1) + recursiva(valor-2)\n",
    "\n",
    "print([recursiva(i) for i in range(12)])\n"
   ]
  },
  {
   "cell_type": "code",
   "execution_count": null,
   "metadata": {},
   "outputs": [],
   "source": [
    "x = 2\n",
    "func = lambda x: x * x\n",
    "\n",
    "2 + func(2) -> (2 * 2) -> 7"
   ]
  },
  {
   "cell_type": "markdown",
   "metadata": {},
   "source": [
    "### Closures (envolturas): Crear una función que genera funciones"
   ]
  },
  {
   "cell_type": "code",
   "execution_count": null,
   "metadata": {},
   "outputs": [],
   "source": [
    "def construir_multiplos(factor):\n",
    "  return lambda valor : valor * factor\n",
    "\n",
    "multiplos_de_2 = construir_multiplos(2)\n",
    "multiplos_de_7 = construir_multiplos(7)\n",
    "\n",
    "print(multiplos_de_2(10))\n",
    "print(multiplos_de_7(2))"
   ]
  },
  {
   "cell_type": "markdown",
   "metadata": {},
   "source": [
    "### Funciones internas"
   ]
  },
  {
   "cell_type": "code",
   "execution_count": null,
   "metadata": {},
   "outputs": [],
   "source": [
    "def outer_func(x):\n",
    "    y = 4\n",
    "    def inner_func(z):\n",
    "        print(f\"x = {x}, y = {y}, z = {z}\")\n",
    "        return x + y + z\n",
    "    return inner_func\n",
    "\n",
    "for i in range(3):\n",
    "    closure = outer_func(i)\n",
    "    print(f\"closure({i+5}) = {closure(i+5)}\")"
   ]
  },
  {
   "cell_type": "code",
   "execution_count": null,
   "metadata": {},
   "outputs": [],
   "source": [
    "def generar_operacion(operador):\n",
    "    def suma(*args):\n",
    "        valor = 0\n",
    "        for num in args:\n",
    "            valor += num\n",
    "        return valor\n",
    "    def resta(a, b):\n",
    "        return a - b\n",
    "    def multiplicacion(*args):\n",
    "        valor = 1\n",
    "        for num in args:\n",
    "            valor *= num\n",
    "        return valor\n",
    "    \n",
    "    if operador == \"+\":\n",
    "        return suma\n",
    "    elif operador == \"-\":\n",
    "        return resta\n",
    "    elif operador == '*':\n",
    "        return multiplicacion\n",
    "\n",
    "operacion = generar_operacion(\"*\")\n",
    "print(operacion(6, 7, 10, 25))"
   ]
  }
 ],
 "metadata": {
  "interpreter": {
   "hash": "e6104bf604ca1a37923b4f279a3bc03307071c215727ed52dcf746e90ba65021"
  },
  "kernelspec": {
   "display_name": "Python 3.10.4 64-bit",
   "language": "python",
   "name": "python3"
  },
  "language_info": {
   "codemirror_mode": {
    "name": "ipython",
    "version": 3
   },
   "file_extension": ".py",
   "mimetype": "text/x-python",
   "name": "python",
   "nbconvert_exporter": "python",
   "pygments_lexer": "ipython3",
   "version": "3.10.4"
  },
  "orig_nbformat": 4
 },
 "nbformat": 4,
 "nbformat_minor": 2
}
