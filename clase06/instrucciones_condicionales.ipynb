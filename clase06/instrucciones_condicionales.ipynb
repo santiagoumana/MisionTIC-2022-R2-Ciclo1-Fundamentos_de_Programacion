{
 "cells": [
  {
   "cell_type": "markdown",
   "metadata": {},
   "source": [
    "# Instrucciones condicionales en Python\n",
    "\n",
    "```Python\n",
    "if <condicion>:\n",
    "    <instrucciones>\n",
    "elif <condicion>:\n",
    "    <instrucciones>\n",
    "else:\n",
    "    <instrucciones>\n",
    "```"
   ]
  },
  {
   "cell_type": "markdown",
   "metadata": {},
   "source": [
    "## Decisiones simples"
   ]
  },
  {
   "cell_type": "code",
   "execution_count": null,
   "metadata": {},
   "outputs": [],
   "source": [
    "#hora = int(input(\"¿Qué hora del dia es (0-23)?:\"))\n",
    "hora = 10\n",
    "\n",
    "if (hora >= 12):\n",
    "    print(\"Estas en horas de la tarde\")\n",
    "else:\n",
    "    print(\"Aún es de mañana\")"
   ]
  },
  {
   "cell_type": "markdown",
   "metadata": {},
   "source": [
    "## Decisiones en secuencia"
   ]
  },
  {
   "cell_type": "code",
   "execution_count": 2,
   "metadata": {},
   "outputs": [
    {
     "name": "stdout",
     "output_type": "stream",
     "text": [
      "El número 0 es positivo\n",
      "El número 0 es negativo\n",
      "El número 0 es cero\n"
     ]
    }
   ],
   "source": [
    "#num = int(input(\"Ingrese un valor numérico:\"))\n",
    "num = 0\n",
    "\n",
    "if num >= 0:\n",
    "    print(\"El número\", num, \"es positivo\")\n",
    "\n",
    "if num <= 0:\n",
    "    print(\"El número\", num, \"es negativo\")\n",
    "\n",
    "if num == 0:\n",
    "    print(\"El número\", num, \"es cero\")"
   ]
  },
  {
   "cell_type": "markdown",
   "metadata": {},
   "source": [
    "## Decisiones en cascada"
   ]
  },
  {
   "cell_type": "code",
   "execution_count": 18,
   "metadata": {},
   "outputs": [
    {
     "name": "stdout",
     "output_type": "stream",
     "text": [
      "Está entre 5 y 10\n"
     ]
    }
   ],
   "source": [
    "num = 5\n",
    "if num > 0:\n",
    "    if num < 5:\n",
    "        print(\"Está entre 0 y 5\")\n",
    "    \n",
    "    elif num < 10:\n",
    "            print(\"Está entre 5 y 10\") \n",
    "    else:      \n",
    "            print(\"El numero es mayor a 10\")\n",
    "else:           \n",
    "    print(\"El numero es negativo\")\n"
   ]
  },
  {
   "cell_type": "code",
   "execution_count": 1,
   "metadata": {},
   "outputs": [
    {
     "name": "stdout",
     "output_type": "stream",
     "text": [
      "El número tiene 3 dígitos\n"
     ]
    }
   ],
   "source": [
    "#num = int(input(\"Ingrese un valor numérico:\"))\n",
    "num = 352\n",
    "\n",
    "if num < 0:\n",
    "    num *= -1\n",
    "\n",
    "if num >= 0 and num <= 9: # 0 <= num <= 9\n",
    "    print(\"El número tiene 1 dígito\")\n",
    "else:\n",
    "    if num >= 10 and num <= 99:\n",
    "        print(\"El número tiene 2 dígitos\")\n",
    "    else:\n",
    "        if num >= 100 and num <= 999:\n",
    "            print(\"El número tiene 3 dígitos\")\n",
    "        else:\n",
    "            if num >= 1000 and num <= 9999:\n",
    "                print(\"El número tiene 4 dígitos\")\n",
    "            else:\n",
    "                print(\"El número tiene más de 4 dígitos\")"
   ]
  },
  {
   "cell_type": "code",
   "execution_count": 19,
   "metadata": {},
   "outputs": [
    {
     "name": "stdout",
     "output_type": "stream",
     "text": [
      "El número tiene 3 dígitos\n",
      "Aqui continua el programa\n"
     ]
    }
   ],
   "source": [
    "# num = int(input(\"Ingrese un valor numérico:\"))\n",
    "num = 999\n",
    "\n",
    "if num < 0:\n",
    "    num *= -1\n",
    "\n",
    "if num >= 0 and num <= 9:\n",
    "    print(\"El número tiene 1 dígito\")\n",
    "elif num >= 10 and num <= 99:\n",
    "    print(\"El número tiene 2 dígitos\")\n",
    "elif num >= 100 and num <= 999:\n",
    "    print(\"El número tiene 3 dígitos\")\n",
    "elif num >= 1000 and num <= 9999:\n",
    "    print(\"El número tiene 4 dígitos\")\n",
    "else:\n",
    "    print(\"El número tiene más de 4 dígitos\")\n",
    "\n",
    "print(\"Aqui continua el programa\")"
   ]
  },
  {
   "cell_type": "markdown",
   "metadata": {},
   "source": [
    "## Decisiones anidadas"
   ]
  },
  {
   "cell_type": "code",
   "execution_count": null,
   "metadata": {},
   "outputs": [],
   "source": [
    "#num = int(input(\"Ingrese un valor numérico:\"))\n",
    "num = 10\n",
    "\n",
    "if num > 0:\n",
    "    if num >= 10 and num <= 99:\n",
    "        print(\"El número es positivo y tiene dos dígitos\")\n",
    "    else:\n",
    "        print(\"El número es positivo y no tiene dos dígitos\")\n",
    "else:\n",
    "    if num >= -999 and num <= -100:\n",
    "        print(\"El número es negativo y tiene tres dígitos\")\n",
    "    else:\n",
    "        print(\"El número es negativo y no tiene tres dígitos\")"
   ]
  }
 ],
 "metadata": {
  "interpreter": {
   "hash": "e6104bf604ca1a37923b4f279a3bc03307071c215727ed52dcf746e90ba65021"
  },
  "kernelspec": {
   "display_name": "Python 3.10.4 64-bit",
   "language": "python",
   "name": "python3"
  },
  "language_info": {
   "codemirror_mode": {
    "name": "ipython",
    "version": 3
   },
   "file_extension": ".py",
   "mimetype": "text/x-python",
   "name": "python",
   "nbconvert_exporter": "python",
   "pygments_lexer": "ipython3",
   "version": "3.10.4"
  },
  "orig_nbformat": 4
 },
 "nbformat": 4,
 "nbformat_minor": 2
}
