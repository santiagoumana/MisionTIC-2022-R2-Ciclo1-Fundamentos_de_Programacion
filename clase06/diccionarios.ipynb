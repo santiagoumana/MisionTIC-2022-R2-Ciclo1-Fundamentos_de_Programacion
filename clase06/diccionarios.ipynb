{
 "cells": [
  {
   "cell_type": "markdown",
   "metadata": {},
   "source": [
    "# Manejo de Diccionarios"
   ]
  },
  {
   "cell_type": "markdown",
   "metadata": {},
   "source": [
    "## Definición"
   ]
  },
  {
   "cell_type": "code",
   "execution_count": 1,
   "metadata": {},
   "outputs": [
    {
     "name": "stdout",
     "output_type": "stream",
     "text": [
      "{'key': 'value', 'nombre': 'Cesar', 'nacionalidad': 'Colombiano', 'edad': 41}\n"
     ]
    }
   ],
   "source": [
    "profesor = {}\n",
    "\n",
<<<<<<< HEAD
    "profesor = dict()\n",
    "\n",
=======
    "profesor = dict()"
   ]
  },
  {
   "cell_type": "code",
   "execution_count": null,
   "metadata": {},
   "outputs": [],
   "source": [
>>>>>>> 618e3a222ed655478e810ea12cb4f9fe2467d469
    "profesor = {\n",
    "    \"key\": \"value\",\n",
    "    \"nombre\": \"Cesar\",\n",
    "    \"nacionalidad\": \"Colombiano\",\n",
    "    \"edad\": 41\n",
    "}\n",
    "\n",
    "print(profesor)"
   ]
  },
  {
   "cell_type": "code",
   "execution_count": 2,
   "metadata": {},
   "outputs": [
    {
     "name": "stdout",
     "output_type": "stream",
     "text": [
      "{'edad': 41,\n",
      " 'key': 'value',\n",
      " 'nacionalidad': 'Colombiano',\n",
      " 'nombre': 'Cesar'}\n"
     ]
    }
   ],
   "source": [
    "import pprint\n",
    "\n",
    "pp = pprint.PrettyPrinter(width=41, compact=True)\n",
    "pp.pprint(profesor)"
   ]
  },
  {
   "cell_type": "markdown",
   "metadata": {},
   "source": [
    "## Manipulación de diccionarios"
   ]
  },
  {
   "cell_type": "markdown",
   "metadata": {},
   "source": [
    "### Modificando el valor de una llave"
   ]
  },
  {
   "cell_type": "code",
   "execution_count": 3,
   "metadata": {},
   "outputs": [
    {
     "name": "stdout",
     "output_type": "stream",
     "text": [
      "{'key': 'value', 'nombre': 'Cesar Diaz', 'nacionalidad': 'Colombiano', 'edad': 41}\n"
     ]
    }
   ],
   "source": [
    "profesor[\"nombre\"] = \"César Díaz\"\n",
    "\n",
    "print(profesor)"
   ]
  },
  {
   "cell_type": "code",
   "execution_count": 6,
   "metadata": {},
   "outputs": [
    {
     "name": "stdout",
     "output_type": "stream",
     "text": [
      "{'key': 'value', 'nombre': 'Cesar DiazArriaga Arriaga', 'nacionalidad': 'Colombiano', 'edad': 44}\n"
     ]
    }
   ],
   "source": [
    "profesor[\"edad\"] += 1\n",
    "profesor[\"nombre\"] += \"Arriaga\"\n",
    "\n",
    "\n",
    "print(profesor)"
   ]
  },
  {
   "cell_type": "markdown",
   "metadata": {},
   "source": [
    "### Agregando un nuevo dato al diccionario"
   ]
  },
  {
   "cell_type": "code",
   "execution_count": 7,
   "metadata": {},
   "outputs": [
    {
     "name": "stdout",
     "output_type": "stream",
     "text": [
      "{'key': 'value', 'nombre': 'Cesar DiazArriaga Arriaga', 'nacionalidad': 'Colombiano', 'edad': 44, 'estudiante': {'nombre': 'Edwin', 'nota': 3.0}}\n"
     ]
    }
   ],
   "source": [
    "profesor[\"estudiante\"] = { \"nombre\": \"Edwin\", \"nota\": 3.0}\n",
    "\n",
    "print(profesor)"
   ]
  },
  {
   "cell_type": "markdown",
   "metadata": {},
   "source": [
    "### Eliminando datos de un diccionario"
   ]
  },
  {
   "cell_type": "code",
   "execution_count": 12,
   "metadata": {},
   "outputs": [
    {
     "name": "stdout",
     "output_type": "stream",
     "text": [
      "{'nombre': 'Cesar DiazArriaga Arriaga', 'nacionalidad': 'Colombiano', 'edad': 44, 'estudiante': {'nombre': 'Edwin', 'nota': 3.0}, 'key': None}\n"
     ]
    }
   ],
   "source": [
    "#del profesor[\"key\"]\n",
    "profesor[\"key\"] = None\n",
    "print(profesor)"
   ]
  },
  {
   "cell_type": "markdown",
   "metadata": {},
   "source": [
    "### Extrayendo información del diccionario"
   ]
  },
  {
   "cell_type": "code",
   "execution_count": 13,
   "metadata": {},
   "outputs": [
    {
     "name": "stdout",
     "output_type": "stream",
     "text": [
      "Nombre: Cesar DiazArriaga Arriaga\n"
     ]
    }
   ],
   "source": [
    "print(\"Nombre:\", profesor[\"nombre\"])"
   ]
  },
  {
   "cell_type": "code",
   "execution_count": 16,
   "metadata": {},
   "outputs": [
    {
     "name": "stdout",
     "output_type": "stream",
     "text": [
      "Nombre estudiante: 3.0\n"
     ]
    }
   ],
   "source": [
    "print(\"Nombre estudiante:\", profesor[\"estudiante\"][\"nota\"])"
   ]
  },
  {
   "cell_type": "markdown",
   "metadata": {},
   "source": [
    "## Pasar información a una función por parámetro"
   ]
  },
  {
   "cell_type": "code",
   "execution_count": 17,
   "metadata": {},
   "outputs": [],
   "source": [
    "def calcular_promedio(nombre: str, nota1: float, nota2: float, nota3: float, nota4: float):\n",
    "    promedio = (nota1 + nota2 + nota3 + nota4) / 4\n",
    "    return f\"El estudiante {nombre} ha obtenido la nota de {promedio:.1f}\" "
   ]
  },
  {
   "cell_type": "code",
   "execution_count": 18,
   "metadata": {},
   "outputs": [
    {
     "name": "stdout",
     "output_type": "stream",
     "text": [
      "El estudiante Cesar Diaz ha obtenido la nota de 3.8\n"
     ]
    }
   ],
   "source": [
    "print(calcular_promedio(\"César Díaz\", 3.5, 4.5, 5.0, 2.1))"
   ]
  },
  {
   "cell_type": "code",
   "execution_count": 19,
   "metadata": {},
   "outputs": [],
   "source": [
    "def calcular_promedio_estudiante(estudiante: dict):\n",
    "    promedio = (estudiante[\"nota1\"] + estudiante[\"nota2\"] + estudiante[\"nota3\"] + estudiante[\"nota4\"]) / 4\n",
    "    return f\"El estudiante {estudiante['nombre']} ha obtenido la nota de {promedio:.1f}\" "
   ]
  },
  {
   "cell_type": "code",
   "execution_count": 24,
   "metadata": {},
   "outputs": [
    {
     "name": "stdout",
     "output_type": "stream",
     "text": [
      "El estudiante Cesar Diaz ha obtenido la nota de 3.8\n"
     ]
    }
   ],
   "source": [
    "cesar = {\n",
    "    \"nombre\": \"César Díaz\",\n",
    "    \"nota1\": 3.5,\n",
    "    \"nota2\": 4.5,\n",
    "    \"nota3\": 5.0,\n",
    "    \"nota4\": 2.1\n",
    "}\n",
    "print(calcular_promedio_estudiante(cesar))\n",
    "\n"
   ]
  },
  {
   "cell_type": "code",
   "execution_count": null,
   "metadata": {},
   "outputs": [],
   "source": [
    "alex = {\n",
    "    \"nombre\": \"Alexande Ramirez\",\n",
    "    \"nota1\": 3.5,\n",
    "    \"nota2\": 4.5,\n",
    "    \"nota3\": 5.0,\n",
    "    \"nota4\": 2.1\n",
    "}\n",
    "print(calcular_promedio_estudiante(alex))\n",
    "print(calcular_promedio(alex[\"nombre\"], + alex[\"nota1\"], + alex[\"nota2\"], + alex[\"nota3\"]), + alex[\"nota4\"])"
   ]
  },
  {
   "cell_type": "code",
   "execution_count": null,
   "metadata": {},
   "outputs": [],
   "source": []
  }
 ],
 "metadata": {
  "interpreter": {
   "hash": "e6104bf604ca1a37923b4f279a3bc03307071c215727ed52dcf746e90ba65021"
  },
  "kernelspec": {
   "display_name": "Python 3.10.4 64-bit",
   "language": "python",
   "name": "python3"
  },
  "language_info": {
   "codemirror_mode": {
    "name": "ipython",
    "version": 3
   },
   "file_extension": ".py",
   "mimetype": "text/x-python",
   "name": "python",
   "nbconvert_exporter": "python",
   "pygments_lexer": "ipython3",
   "version": "3.10.4"
  },
  "orig_nbformat": 4
 },
 "nbformat": 4,
 "nbformat_minor": 2
}
