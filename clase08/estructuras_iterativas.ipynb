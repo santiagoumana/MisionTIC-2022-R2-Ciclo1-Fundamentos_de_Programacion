{
 "cells": [
  {
   "cell_type": "markdown",
   "metadata": {},
   "source": [
    "# Estructuras iterativas\n",
    "Las computadoras se utilizan a menudo para realizar tareas repetitivas. Repetir tareas idénticas o similares sin\n",
    "cometer errores es algo que los ordenadores hacen bien y la gente lo hace mal."
   ]
  },
  {
   "cell_type": "markdown",
   "metadata": {},
   "source": [
    "## Ciclo `while`"
   ]
  },
  {
   "cell_type": "markdown",
   "metadata": {},
   "source": [
    "```Python\n",
    "<inicialización>\n",
    "while <condicion>:\n",
    "    <cuerpo>\n",
    "    <avance>\n",
    "```"
   ]
  },
  {
   "cell_type": "code",
   "execution_count": null,
   "metadata": {},
   "outputs": [],
   "source": [
    "n = 5\n",
    "while n > 0:\n",
    "    print(n)\n",
    "    n = n - 1\n",
    "print('Despegue!')"
   ]
  },
  {
   "cell_type": "code",
   "execution_count": 1,
   "metadata": {},
   "outputs": [],
   "source": [
    "def factorial(n: int) -> int:\n",
    "    if n < 0:\n",
    "        return \"Error\"\n",
    "    resultado = 1\n",
    "    numero_actual = 2\n",
    "    while numero_actual <= n:\n",
    "        resultado *= numero_actual \n",
    "        numero_actual += 1\n",
    "    return resultado"
   ]
  },
  {
   "cell_type": "code",
   "execution_count": 7,
   "metadata": {},
   "outputs": [
    {
     "data": {
      "text/plain": [
       "6"
      ]
     },
     "execution_count": 7,
     "metadata": {},
     "output_type": "execute_result"
    }
   ],
   "source": [
    "factorial(3)"
   ]
  },
  {
   "cell_type": "markdown",
   "metadata": {},
   "source": [
    "### Tenga mucho cuidado con:\n"
   ]
  },
  {
   "cell_type": "markdown",
   "metadata": {},
   "source": [
    "- Alejarse de terminación: "
   ]
  },
  {
   "cell_type": "code",
   "execution_count": null,
   "metadata": {},
   "outputs": [],
   "source": [
    "i = 1\n",
    "while i > 0:\n",
    "    print(i)\n",
    "    i = i + 1\n",
    "print(\"Terminé\")"
   ]
  },
  {
   "cell_type": "markdown",
   "metadata": {},
   "source": [
    "- Brincarse la meta:"
   ]
  },
  {
   "cell_type": "code",
   "execution_count": null,
   "metadata": {},
   "outputs": [],
   "source": [
    "i = 1\n",
    "while i != 10:\n",
    "    print(i)\n",
    "    i = i + 2\n",
    "print(\"Terminé\")"
   ]
  },
  {
   "cell_type": "markdown",
   "metadata": {},
   "source": [
    "- Problemas de indentación"
   ]
  },
  {
   "cell_type": "code",
   "execution_count": null,
   "metadata": {},
   "outputs": [],
   "source": [
    "i = 1\n",
    "while i < 10:\n",
    "    print(i)\n",
    "i = i + 1\n",
    "print(\"Terminé\")"
   ]
  },
  {
   "cell_type": "markdown",
   "metadata": {},
   "source": [
    "- Olvidar el avance"
   ]
  },
  {
   "cell_type": "code",
   "execution_count": null,
   "metadata": {},
   "outputs": [],
   "source": [
    "i = 1\n",
    "while i < 10:\n",
    "    print(i)\n",
    "print(\"Terminé\")"
   ]
  },
  {
   "cell_type": "markdown",
   "metadata": {},
   "source": [
    "### Ciclo `while` controlado por evento"
   ]
  },
  {
   "cell_type": "code",
   "execution_count": null,
   "metadata": {},
   "outputs": [],
   "source": [
    "promedio = 0.0\n",
    "total = 0\n",
    "contar = 0\n",
    "mensaje = \"Introduzca la nota de un estudiante (-1 para salir):\"\n",
    "\n",
    "nota = int(input(mensaje))\n",
    "\n",
    "while nota != -1:\n",
    "    total = total + nota\n",
    "    contar = contar + 1\n",
    "    nota = int(input(mensaje))\n",
    "\n",
    "promedio = total / contar\n",
    "print(\"Promedio de notas del grado escolar es:\", promedio)"
   ]
  },
  {
   "cell_type": "markdown",
   "metadata": {},
   "source": [
    "## Ciclo `for`"
   ]
  },
  {
   "cell_type": "markdown",
   "metadata": {},
   "source": [
    "```Python\n",
    "for <variable> in <secuencia>:\n",
    "    <cuerpo>\n",
    "```"
   ]
  },
  {
   "cell_type": "code",
   "execution_count": 8,
   "metadata": {},
   "outputs": [
    {
     "name": "stdout",
     "output_type": "stream",
     "text": [
      "Estamos en la iteración  0\n",
      "Estamos en la iteración  1\n",
      "Estamos en la iteración  2\n"
     ]
    }
   ],
   "source": [
    "for x in range(0, 3):\n",
    "    print(\"Estamos en la iteración \", x)"
   ]
  },
  {
   "cell_type": "code",
   "execution_count": 9,
   "metadata": {},
   "outputs": [
    {
     "name": "stdout",
     "output_type": "stream",
     "text": [
      "Estamos en la iteración  0\n",
      "Estamos en la iteración  2\n",
      "Estamos en la iteración  4\n",
      "Estamos en la iteración  6\n",
      "Estamos en la iteración  8\n"
     ]
    }
   ],
   "source": [
    "for x in range(0, 10, 2):\n",
    "    print(\"Estamos en la iteración \", x)"
   ]
  },
  {
   "cell_type": "code",
   "execution_count": 10,
   "metadata": {},
   "outputs": [
    {
     "name": "stdout",
     "output_type": "stream",
     "text": [
      "Estamos en la iteración  10\n",
      "Estamos en la iteración  8\n",
      "Estamos en la iteración  6\n",
      "Estamos en la iteración  4\n",
      "Estamos en la iteración  2\n"
     ]
    }
   ],
   "source": [
    "for x in range(10, 0, -2):\n",
    "    print(\"Estamos en la iteración \", x)"
   ]
  },
  {
   "cell_type": "code",
   "execution_count": 17,
   "metadata": {},
   "outputs": [
    {
     "name": "stdout",
     "output_type": "stream",
     "text": [
      "-5\n",
      "-4\n",
      "-3\n",
      "-2\n",
      "-1\n",
      "0\n",
      "1\n",
      "2\n",
      "3\n",
      "4\n",
      "despege¡\n"
     ]
    }
   ],
   "source": [
    "for x in range(-5, 5, 1): #range solo para int\n",
    "    print(x)\n",
    "print(\"despege¡\")   "
   ]
  },
  {
   "cell_type": "code",
   "execution_count": 18,
   "metadata": {},
   "outputs": [
    {
     "name": "stdout",
     "output_type": "stream",
     "text": [
      "La oración analizada es: Mary entiende muy bien Python .\n",
      "\n",
      "Palabra: Mary, en la frase su posición es: 0\n",
      "Palabra: entiende, en la frase su posición es: 1\n",
      "Palabra: muy, en la frase su posición es: 2\n",
      "Palabra: bien, en la frase su posición es: 3\n",
      "Palabra: Python, en la frase su posición es: 4\n"
     ]
    }
   ],
   "source": [
    "oracion = 'Mary entiende muy bien Python'\n",
    "frases = oracion.split()#split devuelve lista con 'mary', 'entiende', 'muy', bien', 'python'\n",
    "print(\"La oración analizada es:\", oracion, \".\\n\")\n",
    "\n",
    "for palabra in range(len(frases)): #0 1 2 3 4 \n",
    "    print(\"Palabra: {0}, en la frase su posición es: {1}\".format( frases[palabra], palabra))"
   ]
  },
  {
   "cell_type": "markdown",
   "metadata": {},
   "source": [
    "### Ciclo `for` con diccionarios"
   ]
  },
  {
   "cell_type": "code",
   "execution_count": 19,
   "metadata": {},
   "outputs": [
    {
     "name": "stdout",
     "output_type": "stream",
     "text": [
      "Fresa es de color roja\n",
      "Limón es de color verde\n",
      "Papaya es de color naranja\n",
      "Manzana es de color amarilla\n",
      "Guayaba es de color rosa\n"
     ]
    }
   ],
   "source": [
    "frutas = {'Fresa':'roja', 'Limón':'verde', 'Papaya':'naranja', 'Manzana':'amarilla', 'Guayaba':\"rosa\" }\n",
    "for nombre in frutas:\n",
    "    print(f\"{nombre} es de color {frutas[nombre]}\")"
   ]
  },
  {
   "cell_type": "code",
   "execution_count": 21,
   "metadata": {},
   "outputs": [
    {
     "name": "stdout",
     "output_type": "stream",
     "text": [
      "Fresa es de color roja\n",
      "Limón es de color verde\n",
      "Papaya es de color naranja\n",
      "Manzana es de color amarilla\n",
      "Guayaba es de color rosa\n"
     ]
    }
   ],
   "source": [
    "frutas = {'Fresa':'roja', 'Limón':'verde', 'Papaya':'naranja', 'Manzana':'amarilla', 'Guayaba':\"rosa\" }\n",
    "\n",
    "#print(frutas.items())\n",
    "\n",
    "for key, value in frutas.items(): \n",
    "    print(f\"{key} es de color {value}\")"
   ]
  },
  {
   "cell_type": "code",
   "execution_count": 23,
   "metadata": {},
   "outputs": [
    {
     "name": "stdout",
     "output_type": "stream",
     "text": [
      "Nombres         : Leonardo Jose\n",
      "Apellidos       : Caballero Garcia\n",
      "Cedula          : 26938401\n",
      "Fecha nacimiento: 03/12/1980\n",
      "Lugar nacimiento: Maracaibo, Zulia, Venezuela\n",
      "Nacionalidad    : Venezolana\n",
      "Estado civil    : Soltero\n"
     ]
    }
   ],
   "source": [
    "datos_basicos = {\n",
    "    \"nombres\":\"Leonardo Jose\",\n",
    "    \"apellidos\":\"Caballero Garcia\",\n",
    "    \"cedula\":\"26938401\",\n",
    "    \"fecha_nacimiento\":\"03/12/1980\",\n",
    "    \"lugar_nacimiento\":\"Maracaibo, Zulia, Venezuela\", \n",
    "    \"nacionalidad\":\"Venezolana\",\n",
    "    \"estado_civil\":\"Soltero\"\n",
    "}\n",
    "\n",
    "# for clave, valor in datos_basicos.items(): \n",
    "#     clave = clave.replace(\"_\", \" \")\n",
    "#     valor.replace\n",
    "#     print(f\"{clave.capitalize():16}: {valor}\")\n",
    "for clave, valor in datos_basicos:\n",
    "    valor = datos_basicos[clave] \n",
    "    print(f\"{clave.replace('_',' ').capitalize():16}: {datos_basicos[clave].replace('/','.')\")\n",
    "\n"
   ]
  },
  {
   "cell_type": "markdown",
   "metadata": {},
   "source": [
    "## Sentencia `break`"
   ]
  },
  {
   "cell_type": "code",
   "execution_count": 24,
   "metadata": {},
   "outputs": [
    {
     "name": "stdout",
     "output_type": "stream",
     "text": [
      "Actual valor de variable: 10\n",
      "Actual valor de variable: 9\n",
      "Actual valor de variable: 8\n",
      "Actual valor de variable: 7\n",
      "Actual valor de variable: 6\n",
      "se acabo el ciclo\n"
     ]
    }
   ],
   "source": [
    "variable = 10\n",
    "while variable > 0:\n",
    "    print('Actual valor de variable:', variable) \n",
    "    variable = variable - 1\n",
    "    if variable == 5:\n",
    "        break\n",
    "print(\"se acabo el ciclo\")"
   ]
  },
  {
   "cell_type": "code",
   "execution_count": 26,
   "metadata": {},
   "outputs": [
    {
     "name": "stdout",
     "output_type": "stream",
     "text": [
      "Fresa es de color roja\n",
      "Limon es de color verde\n",
      "se acabo el ciclo\n"
     ]
    }
   ],
   "source": [
    "frutas = {'Fresa':'roja', 'Limon':'verde', 'Papaya':'naranja', 'Manzana':'amarilla', 'Guayaba':\"rosa\" }\n",
    "for nombre in frutas:\n",
    "    if nombre == \"Papaya\":\n",
    "        break #rompe el cliclo for\n",
    "    print(f\"{nombre} es de color {frutas[nombre]}\")\n",
    "\n",
    "print(\"se acabo el ciclo\")\n"
   ]
  },
  {
   "cell_type": "markdown",
   "metadata": {},
   "source": [
    "## Sentencia `continue`"
   ]
  },
  {
   "cell_type": "code",
   "execution_count": 27,
   "metadata": {},
   "outputs": [
    {
     "name": "stdout",
     "output_type": "stream",
     "text": [
      "Actual valor de variable: 9\n",
      "Actual valor de variable: 8\n",
      "Actual valor de variable: 7\n",
      "Actual valor de variable: 6\n",
      "Actual valor de variable: 4\n",
      "Actual valor de variable: 3\n",
      "Actual valor de variable: 2\n",
      "Actual valor de variable: 1\n",
      "Actual valor de variable: 0\n"
     ]
    }
   ],
   "source": [
    "variable = 10\n",
    "while variable > 0:\n",
    "    variable = variable - 1\n",
    "    if variable == 5:\n",
    "        continue\n",
    "    print('Actual valor de variable:', variable) "
   ]
  },
  {
   "cell_type": "code",
   "execution_count": null,
   "metadata": {},
   "outputs": [],
   "source": [
    "frutas = {'Fresa':'roja', 'Limon':'verde', 'Papaya':'naranja', 'Manzana':'amarilla', 'Guayaba':\"rosa\" }\n",
    "for nombre in frutas:\n",
    "    if nombre == \"Papaya\":\n",
    "        continue #ignora y va a la otra interaccion\n",
    "    print(f\"{nombre} es de color {frutas[nombre]}\")"
   ]
  },
  {
   "cell_type": "markdown",
   "metadata": {},
   "source": [
    "## Ejemplos adicionales"
   ]
  },
  {
   "cell_type": "markdown",
   "metadata": {},
   "source": [
    "1. Extrae vocales del mensaje"
   ]
  },
  {
   "cell_type": "code",
   "execution_count": 33,
   "metadata": {},
   "outputs": [
    {
     "name": "stdout",
     "output_type": "stream",
     "text": [
      "o a o O e A u "
     ]
    }
   ],
   "source": [
    "mensaje = \"Hola, comO estAs tu?\"\n",
    "vocales = 'aeiou'\n",
    "for letra in mensaje:\n",
    "     if letra in vocales + vocales.upper(): #in solo es en colecciones\n",
    "            print(letra, end=\" \")\n",
    "\n"
   ]
  },
  {
   "cell_type": "markdown",
   "metadata": {},
   "source": [
    "2. Extrae consonantes del mensaje"
   ]
  },
  {
   "cell_type": "code",
   "execution_count": 34,
   "metadata": {},
   "outputs": [
    {
     "name": "stdout",
     "output_type": "stream",
     "text": [
      "H l c m s t s t "
     ]
    }
   ],
   "source": [
    "\n",
    "mensaje = \"Hola, como estas tu?\"\n",
    "vocales = 'aeiou'\n",
    "for letra in mensaje:\n",
    "     if letra.lower() not in vocales and letra.isalpha(): #isalpha consonantes\n",
    "            print(letra, end=\" \")   "
   ]
  },
  {
   "cell_type": "markdown",
   "metadata": {},
   "source": [
    "3. Leer números enteros de teclado, hasta que el usuario ingrese el 0. Finalmente, mostrar la sumatoria de todos los números ingresados."
   ]
  },
  {
   "cell_type": "code",
   "execution_count": null,
   "metadata": {},
   "outputs": [],
   "source": []
  },
  {
   "cell_type": "markdown",
   "metadata": {},
   "source": [
    "4. Leer números enteros positivos de teclado, hasta que el usuario ingrese el 0. Informar cuál fue el mayor número ingresado."
   ]
  },
  {
   "cell_type": "code",
   "execution_count": null,
   "metadata": {},
   "outputs": [],
   "source": []
  },
  {
   "cell_type": "markdown",
   "metadata": {},
   "source": [
    "5. Escriba un programa que acepte una secuencia de lineas e imprima todas las lineas convertidas en mayusculas. Deje una línea en blanco para indicar que ha finalizado la entrada de lineas. \n",
    "\n",
    "Por ejemplo, si la entrada es:\n",
    "```\n",
    "De tal palo tal astilla\n",
    "En casa de herrero, azadon de palo\n",
    "A todo marrano le llega su noche buena\n",
    "```\n",
    "Entonces la salida sería:\n",
    "```\n",
    "DE TAL PALO TAL ASTILLA\n",
    "EN CASA DE HERRERO, AZADON DE PALO\n",
    "A TODO MARRANO LE LLEGA SU NOCHE BUENA\n",
    "```"
   ]
  },
  {
   "cell_type": "code",
   "execution_count": 1,
   "metadata": {},
   "outputs": [
    {
     "data": {
      "text/plain": [
       "''"
      ]
     },
     "execution_count": 1,
     "metadata": {},
     "output_type": "execute_result"
    }
   ],
   "source": [
    "def ejercicio5():\n",
    "#algoritmo\n",
    "    mensaje = \"\"\n",
    "    cadena = input()\n",
    "\n",
    "    while cadena != \"\":\n",
    "        mensaje += cadena + \"\\n\"\n",
    "        cadena = input()\n",
    "\n",
    "    return mensaje.upper()\n",
    "\n",
    "ejercicio5()"
   ]
  },
  {
   "cell_type": "markdown",
   "metadata": {},
   "source": [
    "6. Escriba un programa que administre una cuenta bancaria, usando una bitácora de operaciones.\n",
    "La bitácora de operaciones tiene la siguiente forma:\n",
    "```\n",
    "D 100\n",
    "R 50\n",
    "```\n",
    "`D 100` significa que depositó 100 pesos\n",
    "`R 50` significa que retiró 50 pesos\n",
    "\n",
    "Ejemplo de una entrada:\n",
    "```\n",
    "D 200\n",
    "D 200\n",
    "R 100\n",
    "D 50\n",
    "```\n",
    "Introducir una linea vacia indica que ha finalizado la bitacora.\n",
    "La salida de éste programa sería:  \n",
    "`350`"
   ]
  },
  {
   "cell_type": "code",
   "execution_count": null,
   "metadata": {},
   "outputs": [],
   "source": []
  }
 ],
 "metadata": {
  "interpreter": {
   "hash": "e6104bf604ca1a37923b4f279a3bc03307071c215727ed52dcf746e90ba65021"
  },
  "kernelspec": {
   "display_name": "Python 3.10.4 64-bit",
   "language": "python",
   "name": "python3"
  },
  "language_info": {
   "codemirror_mode": {
    "name": "ipython",
    "version": 3
   },
   "file_extension": ".py",
   "mimetype": "text/x-python",
   "name": "python",
   "nbconvert_exporter": "python",
   "pygments_lexer": "ipython3",
   "version": "3.10.4"
  },
  "orig_nbformat": 4
 },
 "nbformat": 4,
 "nbformat_minor": 2
}
