{
 "cells": [
  {
   "cell_type": "markdown",
   "metadata": {},
   "source": [
    "# Programación Orientada a Objetos - POO\n",
    "Este paradigma de programación nos permite organizar el código de una manera que se asemeja bastante a como pensamos en la vida real, utilizando **clases**. Estas nos permiten agrupar un conjunto de variables y funciones que veremos a continuación.\n",
    "\n",
    "Cosas de lo más cotidianas como un _perro_ o un _coche_ pueden ser representadas con clases. Estas clases tienen diferentes **_características_**, que en el caso del perro podrían ser la edad, el nombre o la raza. Llamaremos a estas características, **atributos**.\n",
    "\n",
    "Por otro lado, las clases tienen un conjunto de funcionalidades o cosas que pueden hacer. En el caso del perro podría ser andar o ladrar. Llamaremos a estas funcionalidades **métodos**."
   ]
  },
  {
   "cell_type": "markdown",
   "metadata": {},
   "source": [
    "## Clase\n",
    "También llamadas **_plantillas de objetos_**, contienen los métodos y atributos que van a tener todos los objetos que serán creados a partir de esta _plantilla_."
   ]
  },
  {
   "cell_type": "code",
   "execution_count": null,
   "metadata": {},
   "outputs": [],
   "source": [
    "class Animal:\n",
    "    def __init__(self, especie, edad):\n",
    "        self.especie = especie\n",
    "        self.edad = edad\n",
    "\n",
    "    def hablar(self):\n",
    "        pass\n",
    "\n",
    "    def moverse(self):\n",
    "        pass\n",
    "\n",
    "    def describeme(self):\n",
    "        print(f\"Soy un Animal de la especie {self.especie}, tipo {type(self).__name__} y edad {self.edad} años\")"
   ]
  },
  {
   "cell_type": "markdown",
   "metadata": {},
   "source": [
    "El método `__init__()` lo llamaremos **constructor**. El método constructor es el que usamos para crear nuevos objetos.\n",
    "\n",
    "Cuando llamamos al nombre de la clase como si fuera una función `Animal()`, Python realiza el llamado del método `__init__()` de la clase.\n",
    "\n",
    "La variable `self` es usada para referenciar a los atributos y métodos del objeto creado de una clase. Todos los métodos de clase deben recibir como primer parámetro esta variable. Python asignará el valor de esa variable de forma implícita (nosotros no debemos preocuparnos por darle un valor a ese parámetro)."
   ]
  },
  {
   "cell_type": "markdown",
   "metadata": {},
   "source": [
    "### Herencia\n",
    "Se pone entre paréntesis la lista de nombres de clase separadas por coma, de las cuales heredará los atributos y métodos."
   ]
  },
  {
   "cell_type": "code",
   "execution_count": null,
   "metadata": {},
   "outputs": [],
   "source": [
    "class Vaca(Animal):\n",
    "    def hablar(self):\n",
    "        print(\"Muuu!\")\n",
    "        \n",
    "    def moverse(self):\n",
    "        print(\"Caminando con 4 patas\")"
   ]
  },
  {
   "cell_type": "markdown",
   "metadata": {},
   "source": [
    "Para crear un **objeto** de una clase debemos llamar al constructor de la clase y recibir la referencia del objeto en una variable.\n",
    "\n",
    "Si una clase no tiene definido un constructor, se pedirán los valores para el constructor del padre."
   ]
  },
  {
   "cell_type": "code",
   "execution_count": null,
   "metadata": {},
   "outputs": [],
   "source": [
    "mi_vaca = Vaca('mamífero', 23)"
   ]
  },
  {
   "cell_type": "markdown",
   "metadata": {},
   "source": [
    "Para acceder a los métodos y atributos de un objeto, debemos agregar un punto (.) a la variable que contiene el objeto y el nombre del método o atributo que se quiere acceder.\n",
    "\n",
    "Si es un **atributo**, solo debemos agregar el nombre de la variable. Si es un **método**, le agregamos el nombre de la función y los parámetros definidos (no se tiene en cuenta el parámetro `self`) "
   ]
  },
  {
   "cell_type": "code",
   "execution_count": null,
   "metadata": {},
   "outputs": [],
   "source": [
    "print(mi_vaca.especie)\n",
    "mi_vaca.hablar()\n",
    "mi_vaca.moverse()\n",
    "mi_vaca.describeme()"
   ]
  },
  {
   "cell_type": "code",
   "execution_count": null,
   "metadata": {},
   "outputs": [],
   "source": [
    "class Abeja(Animal):\n",
    "    def hablar(self):\n",
    "        print(\"Bzzzz!\")\n",
    "        \n",
    "    def moverse(self):\n",
    "        print(\"Volando\")\n",
    "\n",
    "    def picar(self):\n",
    "        print(\"Picar!\")\n",
    "\n",
    "mi_abeja = Abeja('insecto', 1)\n",
    "mi_abeja.hablar()\n",
    "mi_abeja.moverse()\n",
    "mi_abeja.describeme()\n",
    "mi_abeja.picar()"
   ]
  },
  {
   "cell_type": "markdown",
   "metadata": {},
   "source": [
    "La instrucción `super()` la usamos para hacer referencia a los métodos definidos por la clase padre. "
   ]
  },
  {
   "cell_type": "code",
   "execution_count": null,
   "metadata": {},
   "outputs": [],
   "source": [
    "class Perro(Animal):\n",
    "    def __init__(self, especie, edad, dueno):\n",
    "        super().__init__(especie, edad)\n",
    "        self.dueno = dueno\n",
    "\n",
    "    def hablar(self):\n",
    "        print(\"Guau\")\n",
    "\n",
    "    def moverse(self, pasos):\n",
    "        print(f\"Caminando {pasos} pasos\")\n",
    "\n",
    "    def __str__(self):\n",
    "        return f\"Perro[especie='{self.especie}', edad={self.edad}, dueño='{self.dueno}']\"\n",
    "\n",
    "mi_perro = Perro(\"mamífero\", 10, \"Cesar Díaz\")\n",
    "print(f\"El dueño del perro es {mi_perro.dueno}\")\n",
    "mi_perro.hablar()\n",
    "mi_perro.moverse(10)\n",
    "mi_perro.describeme()"
   ]
  },
  {
   "cell_type": "markdown",
   "metadata": {},
   "source": [
    "El método `__str__()` lo usamos para dar una representación de cadena a un objeto. Este método es la que se llamará en el momento en el que quiera imprimir un objeto."
   ]
  },
  {
   "cell_type": "code",
   "execution_count": null,
   "metadata": {},
   "outputs": [],
   "source": [
    "print(mi_vaca)\n",
    "print(mi_perro)"
   ]
  }
 ],
 "metadata": {
  "interpreter": {
   "hash": "aff35f7389d7e3d9eefdab8d6ee9cbeea8954c45d329bbe62fa514d288e678ef"
  },
  "kernelspec": {
   "display_name": "Python 3.9.5 64-bit",
   "language": "python",
   "name": "python3"
  },
  "language_info": {
   "codemirror_mode": {
    "name": "ipython",
    "version": 3
   },
   "file_extension": ".py",
   "mimetype": "text/x-python",
   "name": "python",
   "nbconvert_exporter": "python",
   "pygments_lexer": "ipython3",
   "version": "3.9.5"
  },
  "orig_nbformat": 4
 },
 "nbformat": 4,
 "nbformat_minor": 2
}
