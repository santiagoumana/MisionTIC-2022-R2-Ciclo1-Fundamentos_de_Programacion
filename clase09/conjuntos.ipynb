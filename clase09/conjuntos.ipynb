{
 "cells": [
  {
   "cell_type": "markdown",
   "metadata": {},
   "source": [
    "# Conjuntos"
   ]
  },
  {
   "cell_type": "code",
   "execution_count": null,
   "metadata": {},
   "outputs": [],
   "source": [
    "conjunto = set() #son de todo tipo se puede add stre lis tuplas float..."
   ]
  },
  {
   "cell_type": "code",
   "execution_count": 1,
   "metadata": {},
   "outputs": [
    {
     "name": "stdout",
     "output_type": "stream",
     "text": [
      "{'!', 'n', 'd', 'M', 'H', 'a', 'l', 'o', 'u', ' '}\n"
     ]
    }
   ],
   "source": [
    "conjunto = set(\"Hola Mundo!\")#crea todos los caracteres diferentes en desordenn no son index no tienen posicion\n",
    "print(conjunto)"
   ]
  },
  {
   "cell_type": "code",
   "execution_count": 2,
   "metadata": {},
   "outputs": [
    {
     "name": "stdout",
     "output_type": "stream",
     "text": [
      "{1, 2, 3, 4}\n"
     ]
    }
   ],
   "source": [
    "conjunto = {1, 2, 3, 4}\n",
    "print(conjunto)"
   ]
  },
  {
   "cell_type": "code",
   "execution_count": 4,
   "metadata": {},
   "outputs": [
    {
     "name": "stdout",
     "output_type": "stream",
     "text": [
      "{1, 2, 3, 4}\n"
     ]
    }
   ],
   "source": [
    "conjunto = set([1, 2, 3, 4, 4, 2]) #elimina todo s los repetidos\n",
    "print(conjunto)"
   ]
  },
  {
   "cell_type": "code",
   "execution_count": 5,
   "metadata": {},
   "outputs": [
    {
     "name": "stdout",
     "output_type": "stream",
     "text": [
      "{1, 2, 3, 4, 6}\n"
     ]
    }
   ],
   "source": [
    "conjunto = set((1, 2, 3, 4, 3, 6))\n",
    "print(conjunto)"
   ]
  },
  {
   "cell_type": "code",
   "execution_count": 6,
   "metadata": {},
   "outputs": [
    {
     "name": "stdout",
     "output_type": "stream",
     "text": [
      "{False, True, (1, 2), 3.14, 'Hola mundo', None}\n"
     ]
    }
   ],
   "source": [
    "conjunto = {True, 3.14, None, False, \"Hola mundo\", (1, 2)}\n",
    "print(conjunto)"
   ]
  },
  {
   "cell_type": "markdown",
   "metadata": {},
   "source": [
    "## Navegando por los elementos del conjunto\n",
    "Los conjuntos no son elementos ordenados, por lo tanto no pueden ser indexados"
   ]
  },
  {
   "cell_type": "code",
   "execution_count": 7,
   "metadata": {},
   "outputs": [
    {
     "ename": "TypeError",
     "evalue": "'set' object is not subscriptable",
     "output_type": "error",
     "traceback": [
      "\u001b[1;31m---------------------------------------------------------------------------\u001b[0m",
      "\u001b[1;31mTypeError\u001b[0m                                 Traceback (most recent call last)",
      "\u001b[1;32md:\\MT 22\\Programación\\Programs\\MisionTIC-2022-R2-Ciclo1-Fundamentos_de_Programacion\\clase09\\conjuntos.ipynb Cell 9'\u001b[0m in \u001b[0;36m<cell line: 1>\u001b[1;34m()\u001b[0m\n\u001b[1;32m----> <a href='vscode-notebook-cell:/d%3A/MT%2022/Programaci%C3%B3n/Programs/MisionTIC-2022-R2-Ciclo1-Fundamentos_de_Programacion/clase09/conjuntos.ipynb#ch0000008?line=0'>1</a>\u001b[0m \u001b[39mprint\u001b[39m(conjunto[\u001b[39m0\u001b[39;49m])\n",
      "\u001b[1;31mTypeError\u001b[0m: 'set' object is not subscriptable"
     ]
    }
   ],
   "source": [
    "print(conjunto[0]) #no puedo tomar elemetos del conjuntos, no existen posicioes"
   ]
  },
  {
   "cell_type": "code",
   "execution_count": 8,
   "metadata": {},
   "outputs": [
    {
     "name": "stdout",
     "output_type": "stream",
     "text": [
      "False\n",
      "True\n",
      "(1, 2)\n",
      "3.14\n",
      "Hola mundo\n",
      "None\n"
     ]
    }
   ],
   "source": [
    "for numero in conjunto:\n",
    "    print(numero)"
   ]
  },
  {
   "cell_type": "markdown",
   "metadata": {},
   "source": [
    "## Métodos de los conjuntos"
   ]
  },
  {
   "cell_type": "code",
   "execution_count": 9,
   "metadata": {},
   "outputs": [
    {
     "name": "stdout",
     "output_type": "stream",
     "text": [
      "{1, 2, 3, 4, 5, 7, 11, 22.000001}\n"
     ]
    }
   ],
   "source": [
    "conjunto = set([4, 3, 11, 7, 5, 2, 1, 4])\n",
    "conjunto.add(22.000001)\n",
    "print(conjunto)"
   ]
  },
  {
   "cell_type": "code",
   "execution_count": 10,
   "metadata": {},
   "outputs": [
    {
     "name": "stdout",
     "output_type": "stream",
     "text": [
      "set()\n"
     ]
    }
   ],
   "source": [
    "conjunto.clear()\n",
    "print(conjunto) #conjunto vacio clear para el cont d"
   ]
  },
  {
   "cell_type": "code",
   "execution_count": 11,
   "metadata": {},
   "outputs": [
    {
     "name": "stdout",
     "output_type": "stream",
     "text": [
      "{True, 'Carro', 4.0}\n",
      "{True, 'Carro', 4.0}\n"
     ]
    }
   ],
   "source": [
    "conjunto = set([4.0, \"Carro\", True])\n",
    "otro_conjunto = conjunto.copy()\n",
    "print(conjunto)\n",
    "print(otro_conjunto)"
   ]
  },
  {
   "cell_type": "code",
   "execution_count": 14,
   "metadata": {},
   "outputs": [
    {
     "name": "stdout",
     "output_type": "stream",
     "text": [
      "False\n"
     ]
    }
   ],
   "source": [
    "print(conjunto == otro_conjunto)  #is si son la misma var"
   ]
  },
  {
   "cell_type": "code",
   "execution_count": 13,
   "metadata": {},
   "outputs": [
    {
     "name": "stdout",
     "output_type": "stream",
     "text": [
      "{True, 4.0}\n"
     ]
    }
   ],
   "source": [
    "conjunto.discard(\"Carro\")\n",
    "print(conjunto)"
   ]
  },
  {
   "cell_type": "code",
   "execution_count": 15,
   "metadata": {},
   "outputs": [
    {
     "name": "stdout",
     "output_type": "stream",
     "text": [
      "{True, 4.0}\n"
     ]
    }
   ],
   "source": [
    "conjunto.discard(\"Camion\")#discard para eliminar\n",
    "print(conjunto)"
   ]
  },
  {
   "cell_type": "markdown",
   "metadata": {},
   "source": [
    "## Operaciones de conjunto"
   ]
  },
  {
   "cell_type": "code",
   "execution_count": 20,
   "metadata": {},
   "outputs": [
    {
     "name": "stdout",
     "output_type": "stream",
     "text": [
      "{1, 2, 3, 4, 5, 7, 11}\n",
      "{2, 4, 5, 8, 9, 11}\n"
     ]
    }
   ],
   "source": [
    "conjunto_1 = set([4, 3, 11, 7, 5, 2, 1, 4])\n",
    "conjunto_2 = set([11, 5, 9, 2, 4, 8])\n",
    "print(conjunto_1)\n",
    "print(conjunto_2)\n"
   ]
  },
  {
   "cell_type": "code",
   "execution_count": 19,
   "metadata": {},
   "outputs": [
    {
     "name": "stdout",
     "output_type": "stream",
     "text": [
      "conjunto_1 ∪ conjunto_2:  {1, 2, 3, 4, 5, 7, 8, 9, 11}\n"
     ]
    }
   ],
   "source": [
    "conjunto_union = conjunto_1.union(conjunto_2)\n",
    "print(\"conjunto_1 \\U0000222A conjunto_2: \", conjunto_union)"
   ]
  },
  {
   "cell_type": "code",
   "execution_count": 21,
   "metadata": {},
   "outputs": [
    {
     "name": "stdout",
     "output_type": "stream",
     "text": [
      "conjunto_1 ∩ conjunto_2:  {2, 11, 4, 5}\n"
     ]
    }
   ],
   "source": [
    "conjunto_interseccion = conjunto_1.intersection(conjunto_2)\n",
    "print(\"conjunto_1 \\U00002229 conjunto_2: \", conjunto_interseccion) #ascci (latinos) - unicode (tods) #hexadecimal base 16 - 0123456789ABCEDFk, #binarios base2 - 01 #oct base8 - 01234567 #dec base 10- 123456789\n",
    "#dec 100 -> 1*10^2 + 0*10^1 + 0*10^0, oct 100 -> 1*8^2 + 0*8^1 + 0*8^0, bin 100 -> 1*2^2 + 0*2^1 + 0*2^0, hex 10A -> 1*16^2 + 0*16^1 + 10*16^0 =256 + 0 + 10 = 266\n",
    "# 10101010 -> byte = 8 bites -> 256 valores 0000 0001 0010 0011 0100 0101 0110 0111 1000 1001 1010 1011 1011 1100 1101 1101 1111\n",
    "# AA - 00 = 0 ff = 255\n",
    "# 252 en octal\n",
    "# 170 en binario\n"
   ]
  },
  {
   "cell_type": "code",
   "execution_count": 22,
   "metadata": {},
   "outputs": [
    {
     "name": "stdout",
     "output_type": "stream",
     "text": [
      "{1, 2, 3, 4, 5, 7, 11}\n",
      "{2, 4, 5, 8, 9, 11}\n",
      "conjunto_1 - conjunto_2:  {1, 3, 7}\n",
      "conjunto_2 - conjunto_1:  {8, 9}\n"
     ]
    }
   ],
   "source": [
    "print(conjunto_1)\n",
    "print(conjunto_2)\n",
    "print(\"conjunto_1 - conjunto_2: \", conjunto_1.difference(conjunto_2))\n",
    "print(\"conjunto_2 - conjunto_1: \", conjunto_2.difference(conjunto_1))"
   ]
  },
  {
   "cell_type": "markdown",
   "metadata": {},
   "source": [
    "### Todos los métodos y atributos de los conjuntos"
   ]
  },
  {
   "cell_type": "code",
   "execution_count": null,
   "metadata": {},
   "outputs": [],
   "source": [
    "print(dir(conjunto_1))"
   ]
  },
  {
   "cell_type": "markdown",
   "metadata": {},
   "source": [
    "## Conjuntos inmutables\n",
    "Estos se comportan como conjuntos constantes. Despues de su creación no modifican sus elementos"
   ]
  },
  {
   "cell_type": "code",
   "execution_count": null,
   "metadata": {},
   "outputs": [],
   "source": [
    "inmutable = frozenset([4.0, \"Carro\", True, 4.0, \"Carro\"])\n",
    "print(inmutable)#crea un conjunto sin valores repetifdos"
   ]
  },
  {
   "cell_type": "code",
   "execution_count": 23,
   "metadata": {},
   "outputs": [
    {
     "ename": "NameError",
     "evalue": "name 'inmutable' is not defined",
     "output_type": "error",
     "traceback": [
      "\u001b[1;31m---------------------------------------------------------------------------\u001b[0m",
      "\u001b[1;31mNameError\u001b[0m                                 Traceback (most recent call last)",
      "\u001b[1;32md:\\MT 22\\Programación\\Programs\\MisionTIC-2022-R2-Ciclo1-Fundamentos_de_Programacion\\clase09\\conjuntos.ipynb Cell 27'\u001b[0m in \u001b[0;36m<cell line: 1>\u001b[1;34m()\u001b[0m\n\u001b[1;32m----> <a href='vscode-notebook-cell:/d%3A/MT%2022/Programaci%C3%B3n/Programs/MisionTIC-2022-R2-Ciclo1-Fundamentos_de_Programacion/clase09/conjuntos.ipynb#ch0000026?line=0'>1</a>\u001b[0m inmutable\u001b[39m.\u001b[39madd(\u001b[39m22.000001\u001b[39m)\n",
      "\u001b[1;31mNameError\u001b[0m: name 'inmutable' is not defined"
     ]
    }
   ],
   "source": [
    "inmutable.add(22.000001)"
   ]
  },
  {
   "cell_type": "markdown",
   "metadata": {},
   "source": [
    "Pero si se pueden hacer operaciones entre conjuntos"
   ]
  },
  {
   "cell_type": "code",
   "execution_count": 24,
   "metadata": {},
   "outputs": [
    {
     "name": "stdout",
     "output_type": "stream",
     "text": [
      "conjunto_inmutable_1 ∪ conjunto_inmutable_2:  frozenset({1, 2, 3, 4, 5, 7, 8, 9, 11})\n"
     ]
    }
   ],
   "source": [
    "conjunto_inmutable_1 = frozenset([4, 3, 11, 7, 5, 2, 1, 4])#no se modifican y si se pueden hacer operaciones\n",
    "conjunto_inmutable_2 = frozenset([11, 5, 9, 2, 4, 8])\n",
    "conjunto_inmutable_union = conjunto_inmutable_1.union(conjunto_inmutable_2)\n",
    "print(\"conjunto_inmutable_1 \\U0000222A conjunto_inmutable_2: \", conjunto_inmutable_union)"
   ]
  },
  {
   "cell_type": "markdown",
   "metadata": {},
   "source": [
    "### Todos los métodos y atributos de los conjuntos inmutables"
   ]
  },
  {
   "cell_type": "code",
   "execution_count": 26,
   "metadata": {},
   "outputs": [
    {
     "ename": "NameError",
     "evalue": "name 'inmutable' is not defined",
     "output_type": "error",
     "traceback": [
      "\u001b[1;31m---------------------------------------------------------------------------\u001b[0m",
      "\u001b[1;31mNameError\u001b[0m                                 Traceback (most recent call last)",
      "\u001b[1;32md:\\MT 22\\Programación\\Programs\\MisionTIC-2022-R2-Ciclo1-Fundamentos_de_Programacion\\clase09\\conjuntos.ipynb Cell 31'\u001b[0m in \u001b[0;36m<cell line: 1>\u001b[1;34m()\u001b[0m\n\u001b[1;32m----> <a href='vscode-notebook-cell:/d%3A/MT%2022/Programaci%C3%B3n/Programs/MisionTIC-2022-R2-Ciclo1-Fundamentos_de_Programacion/clase09/conjuntos.ipynb#ch0000030?line=0'>1</a>\u001b[0m \u001b[39mprint\u001b[39m(\u001b[39mdir\u001b[39m(inmutable))\n",
      "\u001b[1;31mNameError\u001b[0m: name 'inmutable' is not defined"
     ]
    }
   ],
   "source": [
    "print(dir(inmutable))"
   ]
  }
 ],
 "metadata": {
  "interpreter": {
   "hash": "e6104bf604ca1a37923b4f279a3bc03307071c215727ed52dcf746e90ba65021"
  },
  "kernelspec": {
   "display_name": "Python 3.10.4 64-bit",
   "language": "python",
   "name": "python3"
  },
  "language_info": {
   "codemirror_mode": {
    "name": "ipython",
    "version": 3
   },
   "file_extension": ".py",
   "mimetype": "text/x-python",
   "name": "python",
   "nbconvert_exporter": "python",
   "pygments_lexer": "ipython3",
   "version": "3.10.4"
  },
  "orig_nbformat": 4
 },
 "nbformat": 4,
 "nbformat_minor": 2
}
