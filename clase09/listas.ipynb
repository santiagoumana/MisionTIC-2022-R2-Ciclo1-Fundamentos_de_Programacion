{
 "cells": [
  {
   "cell_type": "markdown",
   "metadata": {},
   "source": [
    "# Listas"
   ]
  },
  {
   "cell_type": "code",
   "execution_count": null,
   "metadata": {},
   "outputs": [],
   "source": [
    "lista = []\n",
    "\n",
    "lista = list()"
   ]
  },
  {
   "cell_type": "code",
   "execution_count": 1,
   "metadata": {},
   "outputs": [
    {
     "name": "stdout",
     "output_type": "stream",
     "text": [
      "['H', 'o', 'l', 'a', ' ', 'M', 'u', 'n', 'd', 'o', '!']\n"
     ]
    }
   ],
   "source": [
    "lista = list(\"Hola Mundo!\")\n",
    "print(lista)"
   ]
  },
  {
   "cell_type": "code",
   "execution_count": null,
   "metadata": {},
   "outputs": [],
   "source": [
    "lista = [1, 2.5, 'MisiónTIC2022', [5,6], {\"nombre\":\"Cesar\", \"apellido\":\"Diaz\"}, True]"
   ]
  },
  {
   "cell_type": "markdown",
   "metadata": {},
   "source": [
    "## Navegando en la lista"
   ]
  },
  {
   "cell_type": "code",
   "execution_count": 2,
   "metadata": {},
   "outputs": [
    {
     "name": "stdout",
     "output_type": "stream",
     "text": [
      "H\n"
     ]
    }
   ],
   "source": [
    "print(lista[0])"
   ]
  },
  {
   "cell_type": "code",
   "execution_count": 3,
   "metadata": {},
   "outputs": [
    {
     "name": "stdout",
     "output_type": "stream",
     "text": [
      "o\n"
     ]
    }
   ],
   "source": [
    "print(lista[1])"
   ]
  },
  {
   "cell_type": "code",
   "execution_count": 4,
   "metadata": {},
   "outputs": [
    {
     "name": "stdout",
     "output_type": "stream",
     "text": [
      "l\n"
     ]
    }
   ],
   "source": [
    "print(lista[2])"
   ]
  },
  {
   "cell_type": "code",
   "execution_count": 5,
   "metadata": {},
   "outputs": [
    {
     "ename": "IndexError",
     "evalue": "string index out of range",
     "output_type": "error",
     "traceback": [
      "\u001b[1;31m---------------------------------------------------------------------------\u001b[0m",
      "\u001b[1;31mIndexError\u001b[0m                                Traceback (most recent call last)",
      "\u001b[1;32md:\\MT 22\\Programación\\Programs\\MisionTIC-2022-R2-Ciclo1-Fundamentos_de_Programacion\\clase09\\listas.ipynb Cell 9'\u001b[0m in \u001b[0;36m<cell line: 1>\u001b[1;34m()\u001b[0m\n\u001b[1;32m----> <a href='vscode-notebook-cell:/d%3A/MT%2022/Programaci%C3%B3n/Programs/MisionTIC-2022-R2-Ciclo1-Fundamentos_de_Programacion/clase09/listas.ipynb#ch0000008?line=0'>1</a>\u001b[0m \u001b[39mprint\u001b[39m(lista[\u001b[39m2\u001b[39;49m][\u001b[39m5\u001b[39;49m])\n",
      "\u001b[1;31mIndexError\u001b[0m: string index out of range"
     ]
    }
   ],
   "source": [
    "print(lista[2][5])"
   ]
  },
  {
   "cell_type": "code",
   "execution_count": 6,
   "metadata": {},
   "outputs": [
    {
     "name": "stdout",
     "output_type": "stream",
     "text": [
      "a\n"
     ]
    }
   ],
   "source": [
    "print(lista[3])"
   ]
  },
  {
   "cell_type": "code",
   "execution_count": 7,
   "metadata": {},
   "outputs": [
    {
     "name": "stdout",
     "output_type": "stream",
     "text": [
      "a\n"
     ]
    }
   ],
   "source": [
    "print(lista[3][0])"
   ]
  },
  {
   "cell_type": "code",
   "execution_count": 8,
   "metadata": {},
   "outputs": [
    {
     "ename": "IndexError",
     "evalue": "string index out of range",
     "output_type": "error",
     "traceback": [
      "\u001b[1;31m---------------------------------------------------------------------------\u001b[0m",
      "\u001b[1;31mIndexError\u001b[0m                                Traceback (most recent call last)",
      "\u001b[1;32md:\\MT 22\\Programación\\Programs\\MisionTIC-2022-R2-Ciclo1-Fundamentos_de_Programacion\\clase09\\listas.ipynb Cell 12'\u001b[0m in \u001b[0;36m<cell line: 1>\u001b[1;34m()\u001b[0m\n\u001b[1;32m----> <a href='vscode-notebook-cell:/d%3A/MT%2022/Programaci%C3%B3n/Programs/MisionTIC-2022-R2-Ciclo1-Fundamentos_de_Programacion/clase09/listas.ipynb#ch0000011?line=0'>1</a>\u001b[0m \u001b[39mprint\u001b[39m(lista[\u001b[39m3\u001b[39;49m][\u001b[39m1\u001b[39;49m])\n",
      "\u001b[1;31mIndexError\u001b[0m: string index out of range"
     ]
    }
   ],
   "source": [
    "print(lista[3][1])"
   ]
  },
  {
   "cell_type": "code",
   "execution_count": 9,
   "metadata": {},
   "outputs": [
    {
     "ename": "TypeError",
     "evalue": "string indices must be integers",
     "output_type": "error",
     "traceback": [
      "\u001b[1;31m---------------------------------------------------------------------------\u001b[0m",
      "\u001b[1;31mTypeError\u001b[0m                                 Traceback (most recent call last)",
      "\u001b[1;32md:\\MT 22\\Programación\\Programs\\MisionTIC-2022-R2-Ciclo1-Fundamentos_de_Programacion\\clase09\\listas.ipynb Cell 13'\u001b[0m in \u001b[0;36m<cell line: 1>\u001b[1;34m()\u001b[0m\n\u001b[1;32m----> <a href='vscode-notebook-cell:/d%3A/MT%2022/Programaci%C3%B3n/Programs/MisionTIC-2022-R2-Ciclo1-Fundamentos_de_Programacion/clase09/listas.ipynb#ch0000012?line=0'>1</a>\u001b[0m \u001b[39mprint\u001b[39m(lista[\u001b[39m4\u001b[39;49m][\u001b[39m\"\u001b[39;49m\u001b[39mnombre\u001b[39;49m\u001b[39m\"\u001b[39;49m] \u001b[39m+\u001b[39m \u001b[39m\"\u001b[39m\u001b[39m \u001b[39m\u001b[39m\"\u001b[39m \u001b[39m+\u001b[39m lista[\u001b[39m4\u001b[39m][\u001b[39m\"\u001b[39m\u001b[39mapellido\u001b[39m\u001b[39m\"\u001b[39m])\n",
      "\u001b[1;31mTypeError\u001b[0m: string indices must be integers"
     ]
    }
   ],
   "source": [
    "print(lista[4][\"nombre\"] + \" \" + lista[4][\"apellido\"])"
   ]
  },
  {
   "cell_type": "markdown",
   "metadata": {},
   "source": [
    "## Sublistas"
   ]
  },
  {
   "cell_type": "code",
   "execution_count": 10,
   "metadata": {},
   "outputs": [
    {
     "name": "stdout",
     "output_type": "stream",
     "text": [
      "['o', 'l', 'a', ' ', 'M']\n"
     ]
    }
   ],
   "source": [
    "print(lista[1:6])"
   ]
  },
  {
   "cell_type": "code",
   "execution_count": 11,
   "metadata": {},
   "outputs": [
    {
     "name": "stdout",
     "output_type": "stream",
     "text": [
      "['o', 'a', 'M']\n"
     ]
    }
   ],
   "source": [
    "print(lista[1:6:2])"
   ]
  },
  {
   "cell_type": "code",
   "execution_count": 13,
   "metadata": {},
   "outputs": [
    {
     "name": "stdout",
     "output_type": "stream",
     "text": [
      "[' ', 'M', 'u', 'n', 'd', 'o', '!']\n"
     ]
    }
   ],
   "source": [
    "print(lista[4:]) "
   ]
  },
  {
   "cell_type": "markdown",
   "metadata": {},
   "source": [
    "## Crear una lista"
   ]
  },
  {
   "cell_type": "code",
   "execution_count": null,
   "metadata": {},
   "outputs": [],
   "source": [
    "lista = []\n",
    "lista = list()"
   ]
  },
  {
   "cell_type": "code",
   "execution_count": 14,
   "metadata": {},
   "outputs": [
    {
     "name": "stdout",
     "output_type": "stream",
     "text": [
      "['Pepe', 25]\n"
     ]
    }
   ],
   "source": [
    "nombre = \"Pepe\"\n",
    "edad = 25\n",
    "lista = [nombre, edad]\n",
    "print(lista)"
   ]
  },
  {
   "cell_type": "markdown",
   "metadata": {},
   "source": [
    "## Un ejemplo un poco mas interesante :)"
   ]
  },
  {
   "cell_type": "code",
   "execution_count": 15,
   "metadata": {},
   "outputs": [
    {
     "name": "stdout",
     "output_type": "stream",
     "text": [
      "[['Ana', 'Bernardo'], [22.0, 21]]\n"
     ]
    }
   ],
   "source": [
    "nombres = [\"Ana\", \"Bernardo\"]\n",
    "edades = [22.0, 21]\n",
    "lista = [nombres, edades] #lista anidada lista dentro de listas\n",
    "print(lista)"
   ]
  },
  {
   "cell_type": "code",
   "execution_count": 16,
   "metadata": {},
   "outputs": [
    {
     "name": "stdout",
     "output_type": "stream",
     "text": [
      "[['Ana', 'Bernardo', 'Cristina'], [22.0, 21]]\n"
     ]
    }
   ],
   "source": [
    "nombres += [\"Cristina\"] #se le cocatena critina\n",
    "print(lista)"
   ]
  },
  {
   "cell_type": "markdown",
   "metadata": {},
   "source": [
    "## Recorrer los elementos de una lista\n",
    "```Python\n",
    "for <elemento> in <lista>:\n",
    "    <sentencias usando elemento>\n",
    "```"
   ]
  },
  {
   "cell_type": "code",
   "execution_count": 17,
   "metadata": {},
   "outputs": [
    {
     "name": "stdout",
     "output_type": "stream",
     "text": [
      "['Ana', 'Bernardo', 'Cristina'] -> 3\n",
      "Ana -> 3\n",
      "Bernardo -> 8\n",
      "Cristina -> 8\n",
      "[22.0, 21] -> 2\n",
      "22.0 no es una colección\n",
      "21 no es una colección\n"
     ]
    }
   ],
   "source": [
    "for elemento in lista:\n",
    "    tam = len(elemento)\n",
    "    print(elemento, tam, sep=\" -> \")\n",
    "    if tam > 0:\n",
    "        for dato in elemento:\n",
    "            type(dato) # <class 'int'>\n",
    "            if isinstance(dato, int) or isinstance(dato, float): #insisntance valida como preposicion o bool si la var en su cont tien tipo int o float, devuelve un bool\n",
    "                print(dato, \"no es una colección\")\n",
    "            else:\n",
    "                print(dato, len(dato), sep=\" -> \")"
   ]
  },
  {
   "cell_type": "code",
   "execution_count": 18,
   "metadata": {},
   "outputs": [
    {
     "name": "stdout",
     "output_type": "stream",
     "text": [
      "2\n",
      "3\n",
      "8\n"
     ]
    }
   ],
   "source": [
    "print(len(lista))\n",
    "print(len(lista[0]))\n",
    "print(len(lista[0][1]))"
   ]
  },
  {
   "cell_type": "markdown",
   "metadata": {},
   "source": [
    "## Métodos de las listas"
   ]
  },
  {
   "cell_type": "markdown",
   "metadata": {},
   "source": [
    "### Agregar elementos a una lista"
   ]
  },
  {
   "cell_type": "code",
   "execution_count": 19,
   "metadata": {},
   "outputs": [
    {
     "name": "stdout",
     "output_type": "stream",
     "text": [
      "[2.5, 3.6, 4, 5, 6]\n",
      "[2.5, 3.6, 4, 5, 6, 5]\n"
     ]
    }
   ],
   "source": [
    "versiones = [2.5, 3.6, 4, 5]\n",
    "\n",
    "versiones = versiones + [6]\n",
    "print(versiones)\n",
    "\n"
   ]
  },
  {
   "cell_type": "code",
   "execution_count": 20,
   "metadata": {},
   "outputs": [
    {
     "name": "stdout",
     "output_type": "stream",
     "text": [
      "[2.5, 3.6, 4, 5, 6, 5, 5]\n"
     ]
    }
   ],
   "source": [
    "versiones += [5]\n",
    "print(versiones)"
   ]
  },
  {
   "cell_type": "code",
   "execution_count": 21,
   "metadata": {},
   "outputs": [
    {
     "name": "stdout",
     "output_type": "stream",
     "text": [
      "[2.5, 3.6, 4, 5, 6, 5, 5, 7]\n"
     ]
    }
   ],
   "source": [
    "versiones.append(7) #append add al final\n",
    "print(versiones)"
   ]
  },
  {
   "cell_type": "markdown",
   "metadata": {},
   "source": [
    "### Contar elementos repetidos en la lista"
   ]
  },
  {
   "cell_type": "code",
   "execution_count": 22,
   "metadata": {},
   "outputs": [
    {
     "name": "stdout",
     "output_type": "stream",
     "text": [
      "5 -> 3\n"
     ]
    }
   ],
   "source": [
    "print(\"5 ->\", versiones.count(5))"
   ]
  },
  {
   "cell_type": "code",
   "execution_count": 24,
   "metadata": {},
   "outputs": [
    {
     "name": "stdout",
     "output_type": "stream",
     "text": [
      "6 -> 0\n"
     ]
    }
   ],
   "source": [
    "print(\"6 ->\", versiones.count(8))"
   ]
  },
  {
   "cell_type": "markdown",
   "metadata": {},
   "source": [
    "### Extender la lista con otra secuencia (colección)"
   ]
  },
  {
   "cell_type": "code",
   "execution_count": 26,
   "metadata": {},
   "outputs": [
    {
     "name": "stdout",
     "output_type": "stream",
     "text": [
      "[2.5, 3.6, 4, 5, 6, 5, 5, 7, 4, 8, 9, [4, 8, 9]]\n"
     ]
    }
   ],
   "source": [
    "versiones.extend([4, 8, 9]) #append add el elemnt complet\n",
    "print(versiones)"
   ]
  },
  {
   "cell_type": "code",
   "execution_count": 27,
   "metadata": {},
   "outputs": [
    {
     "name": "stdout",
     "output_type": "stream",
     "text": [
      "[2.5, 3.6, 4, 5, 6, 5, 5, 7, 4, 8, 9, [4, 8, 9], 5, 6]\n"
     ]
    }
   ],
   "source": [
    "versiones.extend(range(5,7)) #add 5 y 6 \n",
    "print(versiones)"
   ]
  },
  {
   "cell_type": "markdown",
   "metadata": {},
   "source": [
    "### Encontrar la posición de un elemento"
   ]
  },
  {
   "cell_type": "code",
   "execution_count": 28,
   "metadata": {},
   "outputs": [
    {
     "name": "stdout",
     "output_type": "stream",
     "text": [
      "2\n"
     ]
    }
   ],
   "source": [
    "print(versiones.index(4))"
   ]
  },
  {
   "cell_type": "code",
   "execution_count": 29,
   "metadata": {},
   "outputs": [
    {
     "name": "stdout",
     "output_type": "stream",
     "text": [
      "8\n"
     ]
    }
   ],
   "source": [
    "print(versiones.index(4, 3))"
   ]
  },
  {
   "cell_type": "code",
   "execution_count": 31,
   "metadata": {},
   "outputs": [
    {
     "name": "stdout",
     "output_type": "stream",
     "text": [
      "8\n"
     ]
    }
   ],
   "source": [
    "print(versiones.index(4, 8)) #si en la list no hay elemts sale error"
   ]
  },
  {
   "cell_type": "markdown",
   "metadata": {},
   "source": [
    "### Insertar un elemento en una posición en la lista"
   ]
  },
  {
   "cell_type": "code",
   "execution_count": 33,
   "metadata": {},
   "outputs": [
    {
     "name": "stdout",
     "output_type": "stream",
     "text": [
      "[3.6, 4, 5, 6, 5, 5, 7, 4, 8, 9, [4, 8, 9], 5, 6]\n",
      "[3.6, 4, 3.7, 5, 6, 5, 5, 7, 4, 8, 9, [4, 8, 9], 5, 6]\n"
     ]
    }
   ],
   "source": [
    "print(versiones)\n",
    "versiones.insert(2, 3.7) #insert es add un new elemnt, in te position 2\n",
    "print(versiones)"
   ]
  },
  {
   "cell_type": "markdown",
   "metadata": {},
   "source": [
    "### Eliminar el último elemento de la lista"
   ]
  },
  {
   "cell_type": "code",
   "execution_count": 35,
   "metadata": {},
   "outputs": [
    {
     "name": "stdout",
     "output_type": "stream",
     "text": [
      "Extrae 5 y queda [3.6, 4, 3.7, 5, 6, 5, 5, 7, 4, 8, 9, [4, 8, 9]]\n"
     ]
    }
   ],
   "source": [
    "ultimo = versiones.pop(5) #borrar tal posicion\n",
    "print(f\"Extrae {ultimo} y queda {versiones}\")"
   ]
  },
  {
   "cell_type": "code",
   "execution_count": 36,
   "metadata": {},
   "outputs": [
    {
     "name": "stdout",
     "output_type": "stream",
     "text": [
      "Extrae 5  y queda [3.6, 4, 3.7, 5, 6, 5, 7, 4, 8, 9, [4, 8, 9]]\n"
     ]
    }
   ],
   "source": [
    "elemento = versiones.pop(5) #extrae el valor de la position, se valida que exista el indice\n",
    "print(f\"Extrae {elemento}  y queda {versiones}\")"
   ]
  },
  {
   "cell_type": "markdown",
   "metadata": {},
   "source": [
    "### Eliminar un elemento dentro de la lista (enviando el elemento)"
   ]
  },
  {
   "cell_type": "code",
   "execution_count": 40,
   "metadata": {},
   "outputs": [
    {
     "name": "stdout",
     "output_type": "stream",
     "text": [
      "[3.6, 4, 3.7, 6, 5, 7, 4, 8, 9, [4, 8, 9]]\n",
      "[3.6, 4, 3.7, 6, 5, 7, 4, 8, 9]\n"
     ]
    }
   ],
   "source": [
    "print(versiones)\n",
    "versiones.reverse()\n",
    "versiones.remove(5)\n",
    "versiones.reverse()\n",
    "print(versiones)"
   ]
  },
  {
   "cell_type": "markdown",
   "metadata": {},
   "source": [
    "### Invertir una lista"
   ]
  },
  {
   "cell_type": "code",
   "execution_count": 41,
   "metadata": {},
   "outputs": [
    {
     "name": "stdout",
     "output_type": "stream",
     "text": [
      "[3.6, 4, 3.7, 6, 5, 7, 4, 8, 9]\n",
      "[9, 8, 4, 7, 5, 6, 3.7, 4, 3.6]\n"
     ]
    }
   ],
   "source": [
    "print(versiones)\n",
    "versiones.reverse()\n",
    "print(versiones)"
   ]
  },
  {
   "cell_type": "code",
   "execution_count": null,
   "metadata": {},
   "outputs": [],
   "source": [
    "while versiones.count(4) > 0:\n",
    "    versiones.remove(4)"
   ]
  },
  {
   "cell_type": "markdown",
   "metadata": {},
   "source": [
    "### Ordenar la la lista"
   ]
  },
  {
   "cell_type": "code",
   "execution_count": 42,
   "metadata": {},
   "outputs": [
    {
     "name": "stdout",
     "output_type": "stream",
     "text": [
      "[3.6, 3.7, 4, 4, 5, 6, 7, 8, 9]\n"
     ]
    }
   ],
   "source": [
    "versiones.sort()#los devuelve ordenados\n",
    "print(versiones)"
   ]
  },
  {
   "cell_type": "code",
   "execution_count": 43,
   "metadata": {},
   "outputs": [
    {
     "name": "stdout",
     "output_type": "stream",
     "text": [
      "[9, 8, 7, 6, 5, 4, 4, 3.7, 3.6]\n"
     ]
    }
   ],
   "source": [
    "versiones.sort(reverse=True)#ordenados forma descendndente\n",
    "print(versiones) "
   ]
  },
  {
   "cell_type": "markdown",
   "metadata": {},
   "source": [
    "### Borrar el contenido de una lista"
   ]
  },
  {
   "cell_type": "code",
   "execution_count": 44,
   "metadata": {},
   "outputs": [
    {
     "name": "stdout",
     "output_type": "stream",
     "text": [
      "[]\n"
     ]
    }
   ],
   "source": [
    "versiones.clear() \n",
    "print(versiones)"
   ]
  },
  {
   "cell_type": "markdown",
   "metadata": {},
   "source": [
    "### Eliminar una variable de python (y la lista tambien)"
   ]
  },
  {
   "cell_type": "code",
   "execution_count": 48,
   "metadata": {},
   "outputs": [],
   "source": [
    "del versiones #del es para delete la var\n",
    "\n"
   ]
  },
  {
   "cell_type": "code",
   "execution_count": null,
   "metadata": {},
   "outputs": [],
   "source": [
    "versiones = \"hola\"\n",
    "print(versiones)"
   ]
  },
  {
   "cell_type": "markdown",
   "metadata": {},
   "source": [
    "### Todos los métodos y atributos de las listas"
   ]
  },
  {
   "cell_type": "code",
   "execution_count": 50,
   "metadata": {},
   "outputs": [
    {
     "name": "stdout",
     "output_type": "stream",
     "text": [
      "['__add__', '__class__', '__class_getitem__', '__contains__', '__delattr__', '__delitem__', '__dir__', '__doc__', '__eq__', '__format__', '__ge__', '__getattribute__', '__getitem__', '__gt__', '__hash__', '__iadd__', '__imul__', '__init__', '__init_subclass__', '__iter__', '__le__', '__len__', '__lt__', '__mul__', '__ne__', '__new__', '__reduce__', '__reduce_ex__', '__repr__', '__reversed__', '__rmul__', '__setattr__', '__setitem__', '__sizeof__', '__str__', '__subclasshook__', 'append', 'clear', 'copy', 'count', 'extend', 'index', 'insert', 'pop', 'remove', 'reverse', 'sort']\n",
      "[6]\n",
      "[]\n"
     ]
    }
   ],
   "source": [
    "print(dir(list())) #los atributos de la list con _ y las ' son las funciones\n",
    "\n",
    "l =[]\n",
    "m = l.copy() #las 2 var ocupan the same memory, copia todo el ocntenido\n",
    "\n",
    "l.append(6)\n",
    "print(l)\n",
    "print(m)"
   ]
  },
  {
   "cell_type": "markdown",
   "metadata": {},
   "source": [
    "## Funciones útiles para crear listas "
   ]
  },
  {
   "cell_type": "code",
   "execution_count": 51,
   "metadata": {},
   "outputs": [
    {
     "name": "stdout",
     "output_type": "stream",
     "text": [
      "['H', 'o', 'l', 'a', ',', ' ', 'c', 'o', 'm', 'o', ' ', 'e', 's', 't', 'a', 's', ' ', 't', 'u', '?']\n"
     ]
    }
   ],
   "source": [
    "mensaje = \"Hola, como estas tu?\"\n",
    "lista = list(mensaje)\n",
    "print(lista)"
   ]
  },
  {
   "cell_type": "code",
   "execution_count": null,
   "metadata": {},
   "outputs": [],
   "source": [
    "lista = mensaje.split() #list con str sepradas con espacios\n",
    "print(lista)"
   ]
  }
 ],
 "metadata": {
  "interpreter": {
   "hash": "e6104bf604ca1a37923b4f279a3bc03307071c215727ed52dcf746e90ba65021"
  },
  "kernelspec": {
   "display_name": "Python 3.10.4 64-bit",
   "language": "python",
   "name": "python3"
  },
  "language_info": {
   "codemirror_mode": {
    "name": "ipython",
    "version": 3
   },
   "file_extension": ".py",
   "mimetype": "text/x-python",
   "name": "python",
   "nbconvert_exporter": "python",
   "pygments_lexer": "ipython3",
   "version": "3.10.4"
  },
  "orig_nbformat": 4
 },
 "nbformat": 4,
 "nbformat_minor": 2
}
