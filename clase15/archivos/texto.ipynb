{
 "cells": [
  {
   "cell_type": "markdown",
   "metadata": {},
   "source": [
    "# Archivos de texto"
   ]
  },
  {
   "cell_type": "markdown",
   "metadata": {},
   "source": [
    "Creación de archivo desde cero. Escribir varias lineas"
   ]
  },
  {
   "cell_type": "code",
   "execution_count": null,
   "metadata": {},
   "outputs": [],
   "source": [
    "def crear_archivo_ejemplo1(nombre_archivo = \"archivo_texto_1.txt\"):\n",
    "    archivo = open(nombre_archivo, \"w\")\n",
    "\n",
    "    # \\n, \\t, \\b, \\r, \\\\, \\r\\n\n",
    "    archivo.write(\"Hola Mundo!\")\n",
    "    archivo.write(\"\\n\") # Cambio de linea\n",
    "    archivo.write(\"Este es mi primer archivo\\n\")\n",
    "    archivo.write(\"Esta linea es la ultima!\\n\")\n",
    "    archivo.write(\"Otra prueba de escritura\\n\")\n",
    "    archivo.write(\"La expresión es {}\\n\".format(1+5))\n",
    "\n",
    "    archivo.close()"
   ]
  },
  {
   "cell_type": "code",
   "execution_count": null,
   "metadata": {},
   "outputs": [],
   "source": [
    "crear_archivo_ejemplo1()"
   ]
  },
  {
   "cell_type": "markdown",
   "metadata": {},
   "source": [
    "Lectura linea por linea, eliminando cambio de linea"
   ]
  },
  {
   "cell_type": "code",
   "execution_count": null,
   "metadata": {},
   "outputs": [],
   "source": [
    "def leer_archivo_ejemplo1(nombre_archivo = \"archivo_texto_1.txt\"):\n",
    "    archivo = open(nombre_archivo, \"r\")\n",
    "\n",
    "    for linea in archivo:\n",
    "        print(linea, end=\"\")\n",
    "\n",
    "    archivo.close()\n",
    "    print(\"Archivo leído\")"
   ]
  },
  {
   "cell_type": "code",
   "execution_count": null,
   "metadata": {},
   "outputs": [],
   "source": [
    "leer_archivo_ejemplo1()"
   ]
  },
  {
   "cell_type": "markdown",
   "metadata": {},
   "source": [
    "Agregar lineas al final con print."
   ]
  },
  {
   "cell_type": "code",
   "execution_count": null,
   "metadata": {},
   "outputs": [],
   "source": [
    "def crear_archivo_ejemplo2(mensaje, nombre_archivo = \"archivo_texto_2.txt\"):\n",
    "    archivo = open(nombre_archivo, \"a\")\n",
    "\n",
    "    print(mensaje, file=archivo)\n",
    "\n",
    "    archivo.close()"
   ]
  },
  {
   "cell_type": "code",
   "execution_count": null,
   "metadata": {},
   "outputs": [],
   "source": [
    "crear_archivo_ejemplo2(f\"Nueva linea de texto {10**3}\")"
   ]
  },
  {
   "cell_type": "markdown",
   "metadata": {},
   "source": [
    "Lectura de todas las lineas a una lista, usando with"
   ]
  },
  {
   "cell_type": "code",
   "execution_count": null,
   "metadata": {},
   "outputs": [],
   "source": [
    "def leer_archivo_ejemplo2(nombre_archivo = \"archivo_texto_2.txt\"):\n",
    "    with open(nombre_archivo, \"r\") as archivo:\n",
    "        lineas = archivo.readlines()\n",
    "        for linea in lineas:\n",
    "            print(linea.strip(\"\\n\"))\n",
    "\n",
    "    print(\"Archivo leído\")"
   ]
  },
  {
   "cell_type": "code",
   "execution_count": null,
   "metadata": {},
   "outputs": [],
   "source": [
    "leer_archivo_ejemplo2()"
   ]
  }
 ],
 "metadata": {
  "interpreter": {
   "hash": "aff35f7389d7e3d9eefdab8d6ee9cbeea8954c45d329bbe62fa514d288e678ef"
  },
  "kernelspec": {
   "display_name": "Python 3.9.5 64-bit",
   "language": "python",
   "name": "python3"
  },
  "language_info": {
   "codemirror_mode": {
    "name": "ipython",
    "version": 3
   },
   "file_extension": ".py",
   "mimetype": "text/x-python",
   "name": "python",
   "nbconvert_exporter": "python",
   "pygments_lexer": "ipython3",
   "version": "3.9.5"
  },
  "orig_nbformat": 4
 },
 "nbformat": 4,
 "nbformat_minor": 2
}
