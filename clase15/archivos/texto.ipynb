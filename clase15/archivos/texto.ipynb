{
 "cells": [
  {
   "cell_type": "markdown",
   "metadata": {},
   "source": [
    "# Archivos de texto"
   ]
  },
  {
   "cell_type": "markdown",
   "metadata": {},
   "source": [
    "Creación de archivo desde cero. Escribir varias lineas"
   ]
  },
  {
   "cell_type": "code",
   "execution_count": 2,
   "metadata": {},
   "outputs": [],
   "source": [
    "def crear_archivo_ejemplo1(nombre_archivo = \"archivo_texto_1.txt\"):\n",
    "    archivo = open(nombre_archivo, \"w\", encoding=\"utf16\") \n",
    "\n",
    "    # \\n, \\t, \\b, \\r, \\\\, \\r\\n\n",
    "    archivo.write(\"Hola Mundo!\")\n",
    "    archivo.write(\"\\n\") # Cambio de linea\n",
    "    archivo.write(\"Este es mi primer archivo\\n\")\n",
    "    archivo.write(\"Esta linea es la ultima!\\n\")\n",
    "    archivo.write(\"Otra prueba de escritura\\n\")\n",
    "    archivo.write(\"La expresión es {}\\n\".format(1+5))\n",
    "\n",
    "    archivo.close()"
   ]
  },
  {
   "cell_type": "code",
   "execution_count": 3,
   "metadata": {},
   "outputs": [],
   "source": [
    "crear_archivo_ejemplo1()"
   ]
  },
  {
   "cell_type": "markdown",
   "metadata": {},
   "source": [
    "Lectura linea por linea, eliminando cambio de linea"
   ]
  },
  {
   "cell_type": "code",
   "execution_count": 8,
   "metadata": {},
   "outputs": [],
   "source": [
    "def leer_archivo_ejemplo1(nombre_archivo = \"archivo_texto_1.txt\"):\n",
    "    archivo = open(nombre_archivo, \"r\")\n",
    "\n",
    "    for linea in archivo:\n",
    "        print(linea, end=\"\")\n",
    "\n",
    "    archivo.close()\n",
    "    print(\"Archivo leído\")"
   ]
  },
  {
   "cell_type": "code",
   "execution_count": 9,
   "metadata": {},
   "outputs": [
    {
     "name": "stdout",
     "output_type": "stream",
     "text": [
      "ÿþH\u0000o\u0000l\u0000a\u0000 \u0000M\u0000u\u0000n\u0000d\u0000o\u0000!\u0000\n",
      "\u0000\n",
      "\u0000E\u0000s\u0000t\u0000e\u0000 \u0000e\u0000s\u0000 \u0000m\u0000i\u0000 \u0000p\u0000r\u0000i\u0000m\u0000e\u0000r\u0000 \u0000a\u0000r\u0000c\u0000h\u0000i\u0000v\u0000o\u0000\n",
      "\u0000\n",
      "\u0000E\u0000s\u0000t\u0000a\u0000 \u0000l\u0000i\u0000n\u0000e\u0000a\u0000 \u0000e\u0000s\u0000 \u0000l\u0000a\u0000 \u0000u\u0000l\u0000t\u0000i\u0000m\u0000a\u0000!\u0000\n",
      "\u0000\n",
      "\u0000O\u0000t\u0000r\u0000a\u0000 \u0000p\u0000r\u0000u\u0000e\u0000b\u0000a\u0000 \u0000d\u0000e\u0000 \u0000e\u0000s\u0000c\u0000r\u0000i\u0000t\u0000u\u0000r\u0000a\u0000\n",
      "\u0000\n",
      "\u0000L\u0000a\u0000 \u0000e\u0000x\u0000p\u0000r\u0000e\u0000s\u0000i\u0000ó\u0000n\u0000 \u0000e\u0000s\u0000 \u00006\u0000\n",
      "\u0000\n",
      "\u0000Archivo leído\n"
     ]
    }
   ],
   "source": [
    "leer_archivo_ejemplo1()"
   ]
  },
  {
   "cell_type": "markdown",
   "metadata": {},
   "source": [
    "Agregar lineas al final con print."
   ]
  },
  {
   "cell_type": "code",
   "execution_count": 10,
   "metadata": {},
   "outputs": [],
   "source": [
    "def crear_archivo_ejemplo2(mensaje, nombre_archivo = \"archivo_texto_2.txt\"):\n",
    "    archivo = open(nombre_archivo, \"a\")\n",
    "\n",
    "    print(mensaje, file=archivo)\n",
    "\n",
    "    archivo.close()"
   ]
  },
  {
   "cell_type": "code",
   "execution_count": 11,
   "metadata": {},
   "outputs": [],
   "source": [
    "crear_archivo_ejemplo2(\"hola mundo\")\n"
   ]
  },
  {
   "cell_type": "code",
   "execution_count": 12,
   "metadata": {},
   "outputs": [],
   "source": [
    "crear_archivo_ejemplo2(f\"Nueva linea de texto {10**3}\")"
   ]
  },
  {
   "cell_type": "markdown",
   "metadata": {},
   "source": [
    "Lectura de todas las lineas a una lista, usando with"
   ]
  },
  {
   "cell_type": "code",
   "execution_count": 14,
   "metadata": {},
   "outputs": [],
   "source": [
    "def leer_archivo_ejemplo2(nombre_archivo = \"archivo_texto_2.txt\"):\n",
    "    with open(nombre_archivo, \"r\") as archivo:\n",
    "        lineas = archivo.readlines()\n",
    "        print(lineas)\n",
    "        \n",
    "        for linea in lineas:\n",
    "            print(linea.strip(\"\\n\"))\n",
    "\n",
    "    print(\"Archivo leído\")"
   ]
  },
  {
   "cell_type": "code",
   "execution_count": 15,
   "metadata": {},
   "outputs": [
    {
     "name": "stdout",
     "output_type": "stream",
     "text": [
      "['hola mundo\\n', 'Nueva linea de texto 1000\\n']\n",
      "hola mundo\n",
      "Nueva linea de texto 1000\n",
      "Archivo leído\n"
     ]
    }
   ],
   "source": [
    "leer_archivo_ejemplo2()"
   ]
  }
 ],
 "metadata": {
  "interpreter": {
   "hash": "e6104bf604ca1a37923b4f279a3bc03307071c215727ed52dcf746e90ba65021"
  },
  "kernelspec": {
   "display_name": "Python 3.10.4 64-bit",
   "language": "python",
   "name": "python3"
  },
  "language_info": {
   "codemirror_mode": {
    "name": "ipython",
    "version": 3
   },
   "file_extension": ".py",
   "mimetype": "text/x-python",
   "name": "python",
   "nbconvert_exporter": "python",
   "pygments_lexer": "ipython3",
   "version": "3.10.4"
  },
  "orig_nbformat": 4
 },
 "nbformat": 4,
 "nbformat_minor": 2
}
