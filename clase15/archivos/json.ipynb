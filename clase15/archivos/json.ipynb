{
 "cells": [
  {
   "cell_type": "markdown",
   "metadata": {},
   "source": [
    "# Archivos JSON - JavaScript Object Notation\n",
    "\n",
    "```Python\n",
    "[{\n",
    "    \"nombre\": \"Cesar Diaz\",\n",
    "    \"email\": \"cesar.a.diaz@gmail.com\",\n",
    "    \"edad\": 41,\n",
    "    \"profesor\": true,\n",
    "    \"grupos\": [\n",
    "        { \"curso\": \"Fundamentos de programación\", \"numero\": 3},\n",
    "        { \"curso\": \"Fundamentos de programación\", \"numero\": 12},\n",
    "        { \"curso\": \"Fundamentos de programación\", \"numero\": 69}]\n",
    "},\n",
    "{\n",
    "    \"nombre\": \"Sebastian Murillo\",\n",
    "    \"email\": \"sebastian.murillo@gmail.com\",\n",
    "    \"edad\": 30,\n",
    "    \"profesor\": false,\n",
    "    \"grupo\": 3\n",
    "}]\n",
    "```"
   ]
  },
  {
   "cell_type": "markdown",
   "metadata": {},
   "source": [
    "## Ejemplo 1"
   ]
  },
  {
   "cell_type": "code",
   "execution_count": null,
   "metadata": {},
   "outputs": [],
   "source": [
    "import json"
   ]
  },
  {
   "cell_type": "markdown",
   "metadata": {},
   "source": [
    "Escribir un archivo JSON convirtiendo una lista de diccionarios"
   ]
  },
  {
   "cell_type": "code",
   "execution_count": null,
   "metadata": {},
   "outputs": [],
   "source": [
    "def crear_archivo(datos, nombre_archivo=\"usuarios.json\"):\n",
    "    with open(nombre_archivo, \"w\") as archivo:\n",
    "        json.dump(datos, archivo, indent=2)"
   ]
  },
  {
   "cell_type": "code",
   "execution_count": null,
   "metadata": {},
   "outputs": [],
   "source": [
    "datos = [{\n",
    "    \"nombre\": \"César Díaz\",\n",
    "    \"email\": \"cesar.a.diaz@gmail.com\",\n",
    "    \"edad\": 41,\n",
    "    \"profesor\": True,\n",
    "    \"grupos\": [\n",
    "        { \"curso\": \"Fundamentos de programación\", \"numero\": 3},\n",
    "        { \"curso\": \"Fundamentos de programación\", \"numero\": 12},\n",
    "        { \"curso\": \"Fundamentos de programación\", \"numero\": 69}]\n",
    "},\n",
    "{\n",
    "    \"nombre\": \"Sebastian Murillo\",\n",
    "    \"email\": \"sebastian.murillo@gmail.com\",\n",
    "    \"edad\": 30,\n",
    "    \"profesor\": False,\n",
    "    \"grupo\": 3\n",
    "}]\n",
    "crear_archivo(datos)"
   ]
  },
  {
   "cell_type": "markdown",
   "metadata": {},
   "source": [
    "Leer archivo JSON y cargarlo en un diccionario en memoria "
   ]
  },
  {
   "cell_type": "code",
   "execution_count": null,
   "metadata": {},
   "outputs": [],
   "source": [
    "def leer_archivo(nombre_archivo=\"usuarios.json\"):\n",
    "    with open(nombre_archivo) as archivo:\n",
    "        datos = json.load(archivo)\n",
    "\n",
    "        for dato in datos:\n",
    "            print(dato, type(dato))\n",
    "\n",
    "            if dato[\"profesor\"]:\n",
    "                grupos = []\n",
    "                for grupo in dato[\"grupos\"]:\n",
    "                    grupos.append(grupo[\"numero\"])\n",
    "                print(\"Los grupos del profesor son:\", grupos)"
   ]
  },
  {
   "cell_type": "code",
   "execution_count": null,
   "metadata": {},
   "outputs": [],
   "source": [
    "leer_archivo()"
   ]
  },
  {
   "cell_type": "markdown",
   "metadata": {},
   "source": [
    "## Ejemplo 2"
   ]
  },
  {
   "cell_type": "code",
   "execution_count": null,
   "metadata": {},
   "outputs": [],
   "source": [
    "def procesar_archivo(datos, nombre_archivo = \"tareas.json\"):\n",
    "    with open(nombre_archivo, \"w\") as archivo:\n",
    "        json.dump(datos, archivo, indent=2)\n",
    "\n",
    "    with open(nombre_archivo, \"r\") as archivo:\n",
    "        dato = json.load(archivo)\n",
    "        print(dato, type(dato))"
   ]
  },
  {
   "cell_type": "code",
   "execution_count": null,
   "metadata": {},
   "outputs": [],
   "source": [
    "datos = {\n",
    "    '01': {\n",
    "        'descripcion': 'Ir a mercar',\n",
    "        'estado': 'pendiente',\n",
    "        'tiempo': 60\n",
    "        },\n",
    "    '02': {\n",
    "        'descripcion': 'Estudiar',\n",
    "        'estado': 'pendiente',\n",
    "        'tiempo': 180\n",
    "        },\n",
    "    '03': {\n",
    "        'descripcion': 'Hacer ejercicio',\n",
    "        'estado': 'pendiente',\n",
    "        'tiempo': 50\n",
    "        },\n",
    "    \"04\": {\n",
    "        'descripcion': \"Clase de programacion\",\n",
    "        'estado': 'En curso',\n",
    "        'tiempo': 120\n",
    "        }\n",
    "}\n",
    "procesar_archivo(datos)"
   ]
  }
 ],
 "metadata": {
  "interpreter": {
   "hash": "aff35f7389d7e3d9eefdab8d6ee9cbeea8954c45d329bbe62fa514d288e678ef"
  },
  "kernelspec": {
   "display_name": "Python 3.9.5 64-bit",
   "language": "python",
   "name": "python3"
  },
  "language_info": {
   "codemirror_mode": {
    "name": "ipython",
    "version": 3
   },
   "file_extension": ".py",
   "mimetype": "text/x-python",
   "name": "python",
   "nbconvert_exporter": "python",
   "pygments_lexer": "ipython3",
   "version": "3.9.5"
  },
  "orig_nbformat": 4
 },
 "nbformat": 4,
 "nbformat_minor": 2
}
