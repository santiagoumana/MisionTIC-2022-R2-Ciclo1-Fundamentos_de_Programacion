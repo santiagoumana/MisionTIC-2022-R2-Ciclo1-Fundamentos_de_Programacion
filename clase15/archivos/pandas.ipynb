{
 "cells": [
  {
   "cell_type": "markdown",
   "metadata": {},
   "source": [
    "# Procesando archivos con Pandas"
   ]
  },
  {
   "cell_type": "code",
   "execution_count": null,
   "metadata": {},
   "outputs": [],
   "source": [
    "import pandas as pd\n",
    "import matplotlib.pyplot as plt"
   ]
  },
  {
   "cell_type": "code",
   "execution_count": null,
   "metadata": {},
   "outputs": [],
   "source": [
    "df = pd.DataFrame({\n",
    "    \"Nombre\": [\"Cesar Díaz\", \"Sebastian Murillo\", \"Nataly Rodriguez\", \"Betsy Gamboa\"],\n",
    "    \"Edad\": [41, 32, 25, 19],\n",
    "    \"Profesor\": [True, False, False, False],\n",
    "    \"Nota\": [5.0, 3.5, 4.0, 3.7]\n",
    "})\n",
    "df\n"
   ]
  },
  {
   "cell_type": "markdown",
   "metadata": {},
   "source": [
    "Guardar archivo desde pandas"
   ]
  },
  {
   "cell_type": "code",
   "execution_count": null,
   "metadata": {},
   "outputs": [],
   "source": [
    "def guardar_archivo(df, nombre_archivo = \"personas.csv\"):\n",
    "    extension = nombre_archivo.split(\".\")[-1]\n",
    "    if extension == \"csv\":\n",
    "        df.to_csv(nombre_archivo, sep=\";\", index_label=\"Index\")\n",
    "    elif extension == \"xlsx\":\n",
    "        df.to_excel(nombre_archivo, index_label=\"Index\")\n",
    "    else:\n",
    "        print(\"Error en el formato del archivo a generar\")"
   ]
  },
  {
   "cell_type": "code",
   "execution_count": null,
   "metadata": {},
   "outputs": [],
   "source": [
    "guardar_archivo(df)"
   ]
  },
  {
   "cell_type": "code",
   "execution_count": null,
   "metadata": {},
   "outputs": [],
   "source": [
    "guardar_archivo(df, \"personas.xlsx\")"
   ]
  },
  {
   "cell_type": "markdown",
   "metadata": {},
   "source": [
    "Cargando archivo a pandas"
   ]
  },
  {
   "cell_type": "code",
   "execution_count": null,
   "metadata": {},
   "outputs": [],
   "source": [
    "def leer_archivo(nombre_archivo = \"personas.csv\"):\n",
    "    extension = nombre_archivo.split(\".\")[-1]\n",
    "    if extension == \"csv\":\n",
    "        df = pd.read_csv(nombre_archivo, sep=\";\", index_col=\"Index\")\n",
    "    elif extension == \"xlsx\":\n",
    "        df = pd.read_excel(nombre_archivo, index_col=\"Index\")\n",
    "    else:\n",
    "        return \"Error en el formato\"\n",
    "    return df"
   ]
  },
  {
   "cell_type": "code",
   "execution_count": null,
   "metadata": {},
   "outputs": [],
   "source": [
    "df = leer_archivo()\n",
    "df"
   ]
  },
  {
   "cell_type": "code",
   "execution_count": null,
   "metadata": {},
   "outputs": [],
   "source": [
    "print(df.describe())"
   ]
  },
  {
   "cell_type": "code",
   "execution_count": null,
   "metadata": {},
   "outputs": [],
   "source": [
    "df.plot.bar(x=\"Nombre\", y=\"Edad\")\n",
    "plt.show()"
   ]
  },
  {
   "cell_type": "code",
   "execution_count": null,
   "metadata": {},
   "outputs": [],
   "source": [
    "df = leer_archivo(\"personas.xlsx\")\n",
    "df"
   ]
  }
 ],
 "metadata": {
  "interpreter": {
   "hash": "aff35f7389d7e3d9eefdab8d6ee9cbeea8954c45d329bbe62fa514d288e678ef"
  },
  "kernelspec": {
   "display_name": "Python 3.9.5 64-bit",
   "language": "python",
   "name": "python3"
  },
  "language_info": {
   "codemirror_mode": {
    "name": "ipython",
    "version": 3
   },
   "file_extension": ".py",
   "mimetype": "text/x-python",
   "name": "python",
   "nbconvert_exporter": "python",
   "pygments_lexer": "ipython3",
   "version": "3.9.5"
  },
  "orig_nbformat": 4
 },
 "nbformat": 4,
 "nbformat_minor": 2
}
