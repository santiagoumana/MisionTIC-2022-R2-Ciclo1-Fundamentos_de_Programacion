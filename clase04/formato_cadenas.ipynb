{
 "cells": [
  {
   "cell_type": "markdown",
   "metadata": {},
   "source": [
    "# Formateando cadenas\n",
    "[Ver manual](https://docs.python.org/es/3/tutorial/inputoutput.html)\n",
    "\n",
    "Hay diferentes métodos de presentar la salida de un programa, los datos pueden ser impresos de una forma legible por humanos."
   ]
  },
  {
   "cell_type": "markdown",
   "metadata": {},
   "source": [
    "## Formatear cadenas literales (_f-strings_)\n",
    "Permiten incluir el valor de las expresiones de Python dentro de una cadena prefijando la cadena con f o F y escribiendo expresiones como {expresion}.\n",
    "\n",
    "La expresión puede ir seguida de un especificador de formato opcional . Esto permite un mayor control sobre cómo se formatea el valor."
   ]
  },
  {
   "cell_type": "code",
   "execution_count": 1,
   "metadata": {},
   "outputs": [
    {
     "name": "stdout",
     "output_type": "stream",
     "text": [
      "El valor de PI es aproximadamente 3.14.\n"
     ]
    }
   ],
   "source": [
    "import math\n",
    "print(f\"El valor de PI es aproximadamente {math.pi:.2f}.\")"
   ]
  },
  {
   "cell_type": "code",
   "execution_count": 7,
   "metadata": {},
   "outputs": [
    {
     "name": "stdout",
     "output_type": "stream",
     "text": [
      "Mi establo contiene 15 unidades de caballos\n"
     ]
    }
   ],
   "source": [
    "cantidad = 15\n",
    "animales = \"caballos\"\n",
    "print(f\"Mi establo contiene {cantidad} unidades de {animales}\")"
   ]
  },
  {
   "cell_type": "markdown",
   "metadata": {},
   "source": [
    "## Método _format()_\n",
    "Las llaves y caracteres dentro de las mismas (llamados campos de formato) son reemplazadas con los objetos pasados en el método `str.format()`. "
   ]
  },
  {
   "cell_type": "code",
   "execution_count": null,
   "metadata": {},
   "outputs": [],
   "source": [
    "print(\"El valor de PI es aproximadamente {:.3f}.\".format(math.pi))"
   ]
  },
  {
   "cell_type": "code",
   "execution_count": 10,
   "metadata": {},
   "outputs": [
    {
     "name": "stdout",
     "output_type": "stream",
     "text": [
      "Mi establo contiene 15 unidades de caballos.\n",
      "Mi establo contiene 10 unidades de ratas.\n",
      "Mi establo contiene 50 unidades de conejos.\n"
     ]
    }
   ],
   "source": [
    "salida = \"Mi establo contiene {} unidades de {}.\"\n",
    "cantidad = 15\n",
    "animales = \"caballos\"\n",
    "print(salida.format(cantidad, animales))\n",
    "print(salida.format(10, \"ratas\"))\n",
    "print(salida.format(50, \"conejos\"))\n",
    "\n"
   ]
  },
  {
   "cell_type": "markdown",
   "metadata": {},
   "source": [
    "Un número en las llaves se refiere a la posición del objeto pasado en el método `str.format()`."
   ]
  },
  {
   "cell_type": "code",
   "execution_count": 5,
   "metadata": {},
   "outputs": [
    {
     "name": "stdout",
     "output_type": "stream",
     "text": [
      "Mi establo contiene 15 unidades de caballos.\n",
      "En mi rancho de caballos tengo un total de 15 ejemplares\n"
     ]
    }
   ],
   "source": [
    "cantidad = 2567\n",
    "animales = \"caballos\"\n",
    "print(\"Mi establo contiene {0} unidades de {1}.\".format(cantidad, animales))\n",
    "print(\"En mi rancho de {1} tengo un total de {0} ejemplares\".format(cantidad, animales))"
   ]
  },
  {
   "cell_type": "markdown",
   "metadata": {},
   "source": [
    "Si se usan argumentos nombrados en el método `str.format()`, sus valores se referencian usando el nombre del argumento."
   ]
  },
  {
   "cell_type": "code",
   "execution_count": null,
   "metadata": {},
   "outputs": [],
   "source": [
    "cantidad = int(input(\"Cantidad: \"))\n",
    "animales = \"caballos\"\n",
    "print(\"Mi establo contiene {units} unidades de {animals}.\".format(units=cantidad, animals=animales))"
   ]
  },
  {
   "cell_type": "markdown",
   "metadata": {},
   "source": [
    "## Interpolación de cadenas (_%_)\n",
    "El operador **% (módulo)** también se puede utilizar para formatear cadenas de caracteres. \n",
    "\n",
    "'texto formateado' % valores, las instancias de % en cadena de caracteres se reemplazan con cero o más elementos de valores.\n",
    "\n",
    "[Formateo de cadenas al estilo *printf*](https://docs.python.org/es/3/library/stdtypes.html#old-string-formatting)"
   ]
  },
  {
   "cell_type": "code",
   "execution_count": null,
   "metadata": {},
   "outputs": [],
   "source": [
    "print(\"El valor de PI es aproximadamente\" + str (round (math.pi,3)))"
   ]
  },
  {
   "cell_type": "code",
   "execution_count": null,
   "metadata": {},
   "outputs": [],
   "source": [
    "cantidad = 15\n",
    "animales = \"caballos\"\n",
    "print(\"Mi establo contiene %d unidades de %s.\" % (cantidad, animales))"
   ]
  },
  {
   "cell_type": "markdown",
   "metadata": {},
   "source": [
    "## Concatenación de cadenas\n",
    "El operador **+ (suma)** tambien se utiliza para unir (concatenar) cadenas de caracteres.  \n",
    "Es necesario que todos los operandos de la concatenacion sean elementos de tipo **str**"
   ]
  },
  {
   "cell_type": "code",
   "execution_count": null,
   "metadata": {},
   "outputs": [],
   "source": [
    "print(\"El valor de PI es aproximadamente \" + str(round(math.pi,3)))"
   ]
  },
  {
   "cell_type": "code",
   "execution_count": null,
   "metadata": {},
   "outputs": [],
   "source": [
    "cantidad = 15\n",
    "animales = \"caballos\"\n",
    "print(\"Mi establo contiene \" + str(cantidad) + \" unidades de \" + animales + \".\")"
   ]
  },
  {
   "cell_type": "code",
   "execution_count": null,
   "metadata": {},
   "outputs": [],
   "source": [
    "print(\"Mi establo contiene \" + cantidad + \" unidades de \" + animales + \".\")"
   ]
  },
  {
   "cell_type": "markdown",
   "metadata": {},
   "source": [
    "## Ejemplos"
   ]
  },
  {
   "cell_type": "code",
   "execution_count": 1,
   "metadata": {},
   "outputs": [
    {
     "name": "stdout",
     "output_type": "stream",
     "text": [
      "El promedio de los números 10, 20 y 30 es 20.000\n",
      "El promedio de los números 0, 0 y 0 es 0.000\n",
      "El promedio de los números -10, 20 y -30 es -6.670\n"
     ]
    }
   ],
   "source": [
    "def promedio_numeros(num_1, num_2, num_3):\n",
    "    promedio = (num_1 + num_2 + num_3) / 3\n",
    "    return f\"El promedio de los números {num_1}, {num_2} y {num_3} es {round(promedio,2):.3f}\"\n",
    "\n",
    "print(promedio_numeros(10, 20, 30))\n",
    "print(promedio_numeros(0, 0, 0))\n",
    "print(promedio_numeros(-10, 20, -30))"
   ]
  },
  {
   "cell_type": "code",
   "execution_count": 6,
   "metadata": {},
   "outputs": [
    {
     "name": "stdout",
     "output_type": "stream",
     "text": [
      "Deseo 3 unidades de Maní salado por $ 5,000.00 pesos.\n"
     ]
    }
   ],
   "source": [
    "def imprimir_orden(cantidad, producto, precio):\n",
    "    mi_orden = \"Deseo {} unidades de {} por $ {:,.2f} pesos.\"\n",
    "    return mi_orden.format(cantidad, producto, precio)\n",
    "    # mi_orden.format(cantidad * 3, producto + 5, precio / 2)\n",
    "\n",
    "\n",
    "print(imprimir_orden(3, \"Maní salado\", 5000))"
   ]
  },
  {
   "cell_type": "code",
   "execution_count": null,
   "metadata": {},
   "outputs": [],
   "source": [
    "def imprimir_orden_2(numero, nombre, valor):\n",
    "    mi_orden = \"Por $ {precio:,.2f} quiero obtener {cantidad} unidades de {nombre}\"\n",
    "    #return mi_orden.format(cantidad=numero, producto=nombre, precio=valor)\n",
    "    return mi_orden.format(valor=valor, numero=numero, nombre=nombre)\n",
    "\n",
    "\n",
    "print(imprimir_orden_2(3, \"Maní salado\", 5000))"
   ]
  },
  {
   "cell_type": "code",
   "execution_count": null,
   "metadata": {},
   "outputs": [],
   "source": [
    "def mayor_de_numeros(num_1 = 0, num_2 = 0):\n",
    "    resultado = max(num_1, num_2)\n",
    "    return \"El valor mayor enviado es \" + str(resultado)\n",
    "\n",
    "print(mayor_de_numeros())\n",
    "print(mayor_de_numeros(10))\n",
    "print(mayor_de_numeros(10, 20))\n",
    "print(mayor_de_numeros(-1, -3))"
   ]
  },
  {
   "cell_type": "code",
   "execution_count": null,
   "metadata": {},
   "outputs": [],
   "source": [
    "def suma(num_1, num_2):\n",
    "    var_1 = num_1 + num_2\n",
    "    return \"La suma de los números {} y {} es {}\".format(num_1, num_2, var_1)\n",
    "\n",
    "print(suma(10, 20))\n",
    "print(suma(10, -20))\n",
    "print(suma(0, 0))"
   ]
  },
  {
   "cell_type": "code",
   "execution_count": null,
   "metadata": {},
   "outputs": [],
   "source": [
    "def resta(num_1, num_2):\n",
    "    var_1 = num_1 - num_2\n",
    "    return \"La resta de los números %d y %d es %d\"%(num_1, num_2, var_1)\n",
    "\n",
    "print(resta(10, 20))\n",
    "print(resta(10, -20))\n",
    "print(resta(0, 0))"
   ]
  }
 ],
 "metadata": {
  "interpreter": {
   "hash": "e6104bf604ca1a37923b4f279a3bc03307071c215727ed52dcf746e90ba65021"
  },
  "kernelspec": {
   "display_name": "Python 3.10.4 64-bit",
   "language": "python",
   "name": "python3"
  },
  "language_info": {
   "codemirror_mode": {
    "name": "ipython",
    "version": 3
   },
   "file_extension": ".py",
   "mimetype": "text/x-python",
   "name": "python",
   "nbconvert_exporter": "python",
   "pygments_lexer": "ipython3",
   "version": "3.10.4"
  },
  "orig_nbformat": 4
 },
 "nbformat": 4,
 "nbformat_minor": 2
}
