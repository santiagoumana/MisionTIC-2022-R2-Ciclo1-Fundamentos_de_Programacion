{
 "cells": [
  {
   "cell_type": "markdown",
   "metadata": {},
   "source": [
    "# Algoritmo Dijkstra\n",
    "\n",
    "El algoritmo de Dijkstra, también llamado algoritmo de caminos mínimos, es un algoritmo para la determinación del camino más corto, dado un vértice origen, hacia el resto de los vértices en un grafo que tiene pesos en cada arista. Su nombre alude a Edsger Dijkstra, científico de la computación de los Países Bajos que lo concibió en 1956 y lo publicó por primera vez en 1959.\n",
    "\n",
    "![Algoritmo Dijkstra](https://upload.wikimedia.org/wikipedia/commons/5/57/Dijkstra_Animation.gif)\n",
    "\n",
    "La idea subyacente en este algoritmo consiste en ir explorando todos los caminos más cortos que parten del vértice origen y que llevan a todos los demás vértices; cuando se obtiene el camino más corto desde el vértice origen hasta el resto de los vértices que componen el grafo, el algoritmo se detiene. Se trata de una especialización de la búsqueda de costo uniforme y, como tal, no funciona en grafos con aristas de coste negativo (al elegir siempre el nodo con distancia menor, pueden quedar excluidos de la búsqueda nodos que en próximas iteraciones bajarían el costo general del camino al pasar por una arista con costo negativo)"
   ]
  },
  {
   "cell_type": "code",
   "execution_count": 1,
   "metadata": {},
   "outputs": [],
   "source": [
    "def dijkstra(unvisited: set, distances: dict, neighbours: dict, start: str) -> tuple:\n",
    "\n",
    "    # Let distance of start vertex from start = 0. Let distance of all other vertices = infinity.\n",
    "    known = { vertex: 0 if vertex == start else float('inf') for vertex in unvisited }\n",
    "\n",
    "    # Let the previous node be unknown(none) for every vertex\n",
    "    previous = {vertex: None for vertex in unvisited}\n",
    "\n",
    "    # Repeat until there are no vertices left to visit\n",
    "    while len(unvisited) > 0:\n",
    "\n",
    "        # Visit the unvisited vertex with the smallest known distance from the start vertex\n",
    "        distance, visit = min( [ (known[candidate], candidate) for candidate in unvisited] )\n",
    "        # For the current vertex, calculate the distance from the visited vertex to each of its neighbours\n",
    "        calculated = {neighbour: distance + distances[visit, neighbour] for neighbour in neighbours[visit]}\n",
    "\n",
    "        # Update previous and known distances if the calculated distance is less than the known distance.\n",
    "        previous.update( {vertex: visit if calculated[vertex] < known[vertex] else previous[vertex] for vertex in neighbours[visit]} )\n",
    "        known.update( {vertex: calculated[vertex] if calculated[vertex] < known[vertex] else known[vertex] for vertex in neighbours[visit] })\n",
    "\n",
    "        # Remove the current vertex (visited) from the unvisited set.\n",
    "        unvisited.remove(visit)\n",
    "\n",
    "    # Return the best known distances and their corresponing previous nodes\n",
    "    return known, previous"
   ]
  },
  {
   "cell_type": "markdown",
   "metadata": {},
   "source": [
    "## Ejemplo\n",
    "![Ejemplo Dijkstra](https://upload.wikimedia.org/wikipedia/commons/c/cf/Dijkstrapaso0.jpg)"
   ]
  },
  {
   "cell_type": "code",
   "execution_count": 5,
   "metadata": {},
   "outputs": [
    {
     "name": "stdout",
     "output_type": "stream",
     "text": [
      "Distancias minimas: \n",
      " [('A', 0), ('B', 11), ('C', 9), ('D', 5), ('E', 18), ('F', 15), ('G', 17), ('Z', 23)] \n",
      "Predecesores: \n",
      " [('A', None), ('B', 'C'), ('C', 'D'), ('D', 'A'), ('E', 'F'), ('F', 'B'), ('G', 'B'), ('Z', 'E')]\n"
     ]
    }
   ],
   "source": [
    "unvisited = {'A', 'B', 'C', 'D', 'E', 'F', 'G', 'Z'}\n",
    "\n",
    "distances = {('A', 'B'): 16, ('A', 'C'): 10, ('A', 'D'):  5, \n",
    "             ('B', 'A'): 16, ('B', 'C'):  2, ('B', 'F'):  4, ('B', 'G'):  6, \n",
    "             ('C', 'A'): 10, ('C', 'B'):  2, ('C', 'D'):  4, ('C', 'E'): 10, ('C', 'F'): 12, \n",
    "             ('D', 'A'):  5, ('D', 'C'):  4, ('D', 'E'): 15, \n",
    "             ('E', 'C'): 10, ('E', 'D'): 15, ('E', 'F'):  3, ('E', 'Z'):  5,\n",
    "             ('F', 'B'):  4, ('F', 'C'): 12, ('F', 'E'):  3, ('F', 'G'):  8, ('F', 'Z'): 16, \n",
    "             ('G', 'B'):  6, ('G', 'F'):  8, ('G', 'Z'):  7, \n",
    "             ('Z', 'E'):  5, ('Z', 'F'): 16, ('Z', 'G'):  7 }\n",
    "\n",
    "neighbours = {\n",
    "                'A': ['B', 'C', 'D'],\n",
    "                'B': ['A', 'C', 'F', 'G'],\n",
    "                'C': ['A', 'B', 'D', 'E', 'F'],\n",
    "                'D': ['A', 'C', 'E'],\n",
    "                'E': ['C', 'D', 'F', 'Z'],\n",
    "                'F': ['B', 'C', 'E', 'G', 'Z'],\n",
    "                'G': ['B', 'F', 'Z'],\n",
    "                'Z': ['E', 'F', 'G'],\n",
    "              }\n",
    "\n",
    "minimas, predecesores = dijkstra(unvisited, distances, neighbours, 'A')\n",
    "minimas, predecesores = sorted(minimas.items()), sorted(predecesores.items())\n",
    "print('Distancias minimas: \\n {} \\nPredecesores: \\n {}'.format(minimas, predecesores))"
   ]
  }
 ],
 "metadata": {
  "interpreter": {
   "hash": "aff35f7389d7e3d9eefdab8d6ee9cbeea8954c45d329bbe62fa514d288e678ef"
  },
  "kernelspec": {
   "display_name": "Python 3.9.5 64-bit",
   "language": "python",
   "name": "python3"
  },
  "language_info": {
   "codemirror_mode": {
    "name": "ipython",
    "version": 3
   },
   "file_extension": ".py",
   "mimetype": "text/x-python",
   "name": "python",
   "nbconvert_exporter": "python",
   "pygments_lexer": "ipython3",
   "version": "3.9.5"
  },
  "orig_nbformat": 4
 },
 "nbformat": 4,
 "nbformat_minor": 2
}
