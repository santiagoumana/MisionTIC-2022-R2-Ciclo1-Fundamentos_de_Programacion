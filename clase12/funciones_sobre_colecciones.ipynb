{
 "cells": [
  {
   "cell_type": "markdown",
   "metadata": {},
   "source": [
    "# Funciones sobre colecciones"
   ]
  },
  {
   "cell_type": "markdown",
   "metadata": {},
   "source": [
    "## Función `map(function, iterable(s))`"
   ]
  },
  {
   "cell_type": "code",
   "execution_count": 2,
   "metadata": {},
   "outputs": [],
   "source": [
    "fruit = [\"Apple\", \"Banana\", \"Pear\", \"Apricot\", \"Orange\"]"
   ]
  },
  {
   "cell_type": "code",
   "execution_count": 3,
   "metadata": {},
   "outputs": [
    {
     "name": "stdout",
     "output_type": "stream",
     "text": [
      "[True, False, False, True, False]\n"
     ]
    }
   ],
   "source": [
    "def starts_with_A(s):\n",
    "    return s[0] == \"A\" #posicion cero de la cdnena es A\"\n",
    "\n",
    "lista = list(map(starts_with_A, fruit)) #map ocoge cada valor y lo devuelve en otra list\n",
    "print(lista)"
   ]
  },
  {
   "cell_type": "code",
   "execution_count": 4,
   "metadata": {},
   "outputs": [
    {
     "name": "stdout",
     "output_type": "stream",
     "text": [
      "[True, False, False, True, False]\n"
     ]
    }
   ],
   "source": [
    "lista = list(map(lambda s: s[0] == \"A\", fruit))\n",
    "print(lista)"
   ]
  },
  {
   "cell_type": "code",
   "execution_count": 5,
   "metadata": {},
   "outputs": [
    {
     "name": "stdout",
     "output_type": "stream",
     "text": [
      "['Elppa', 'Ananab', 'Raep', 'Tocirpa', 'Egnaro']\n"
     ]
    }
   ],
   "source": [
    "fruit = [\"Apple\", \"Banana\", \"Pear\", \"Apricot\", \"Orange\"]\n",
    "lista = list(map(lambda s: s[::-1].capitalize(), fruit))\n",
    "print(lista)"
   ]
  },
  {
   "cell_type": "markdown",
   "metadata": {},
   "source": [
    "Varias listas a la vez"
   ]
  },
  {
   "cell_type": "code",
   "execution_count": 8,
   "metadata": {},
   "outputs": [
    {
     "name": "stdout",
     "output_type": "stream",
     "text": [
      "{'d4', 'c3', 'b2', 'e5', 'a1'}\n"
     ]
    }
   ],
   "source": [
    "my_strings = ['a', 'b', 'c', 'd', 'e']\n",
    "my_numbers = [1, 2, 3, 4, 5]\n",
    "results = set(map(lambda x, y: str (x) + str (y), my_strings, my_numbers))\n",
    "print(results)\n",
    "#map coge una lista la transforma y la guarda en una nueva lista, con los mismos elemntos"
   ]
  },
  {
   "cell_type": "markdown",
   "metadata": {},
   "source": [
    "## Función `filter(function, iterable(s))`"
   ]
  },
  {
   "cell_type": "code",
   "execution_count": null,
   "metadata": {},
   "outputs": [],
   "source": [
    "fruit = [\"Apple\", \"Banana\", \"Pear\", \"Apricot\", \"Orange\"]"
   ]
  },
  {
   "cell_type": "code",
   "execution_count": 9,
   "metadata": {},
   "outputs": [
    {
     "name": "stdout",
     "output_type": "stream",
     "text": [
      "['Apple', 'Apricot']\n"
     ]
    }
   ],
   "source": [
    "lista = list(filter(starts_with_A, fruit))\n",
    "print(lista)"
   ]
  },
  {
   "cell_type": "code",
   "execution_count": 12,
   "metadata": {},
   "outputs": [
    {
     "name": "stdout",
     "output_type": "stream",
     "text": [
      "['madam', 'anutforajaroftuna', 'anitalavalatina', 'reconocer']\n"
     ]
    }
   ],
   "source": [
    "dromes = (\"demigod\", \"rewire\", \"madam\", \"freer\", \"anutforajaroftuna\", \"kiosk\", \"anita lava la tina\", \"reconocer\")\n",
    "palindromes = list(filter(lambda word: word.replace(\" \",\"\") == word[::-1], dromes))\n",
    "print(palindromes)"
   ]
  },
  {
   "cell_type": "markdown",
   "metadata": {},
   "source": [
    "## Función `reduce(function, sequence[, initial])`"
   ]
  },
  {
   "cell_type": "code",
   "execution_count": 13,
   "metadata": {},
   "outputs": [
    {
     "name": "stdout",
     "output_type": "stream",
     "text": [
      "16\n"
     ]
    }
   ],
   "source": [
    "from functools import reduce\n",
    "\n",
    "lista = [2, 4, 7, 3]\n",
    "\n",
    "valor = reduce(lambda x, y: x + y, lista)\n",
    "print(valor)"
   ]
  },
  {
   "cell_type": "code",
   "execution_count": 14,
   "metadata": {},
   "outputs": [
    {
     "name": "stdout",
     "output_type": "stream",
     "text": [
      "26\n"
     ]
    }
   ],
   "source": [
    "valor = reduce(lambda x, y: x + y, lista, 10)\n",
    "print(valor)"
   ]
  },
  {
   "cell_type": "code",
   "execution_count": 18,
   "metadata": {},
   "outputs": [
    {
     "name": "stdout",
     "output_type": "stream",
     "text": [
      "2473ABC[1, 2, 'a']\n"
     ]
    }
   ],
   "source": [
    "lista = [2, 4, 7, 3, \"ABC\", [1, 2, \"a\"]]\n",
    "valor = reduce(lambda x, y: str(x) + str(y), lista)\n",
    "print(valor)"
   ]
  },
  {
   "cell_type": "markdown",
   "metadata": {},
   "source": [
    "## Función `zip(*iterables)`"
   ]
  },
  {
   "cell_type": "code",
   "execution_count": 23,
   "metadata": {},
   "outputs": [
    {
     "name": "stdout",
     "output_type": "stream",
     "text": [
      "[(1, 'Uno'), (2, 'Dos'), (3, 'tres')]\n"
     ]
    }
   ],
   "source": [
    "a = [1, 2, 3]\n",
    "b = [\"Uno\", \"Dos\", \"tres\"]\n",
    "print(list(zip(a, b))) #zip crea lista de tuplas el primer elemnt con el primer y el segundo con el segundo, la misma posicion"
   ]
  },
  {
   "cell_type": "code",
   "execution_count": 20,
   "metadata": {},
   "outputs": [
    {
     "name": "stdout",
     "output_type": "stream",
     "text": [
      "[(1, 'Uno', 'One', 'Un'), (2, 'Dos', 'Two', 'Deux')]\n"
     ]
    }
   ],
   "source": [
    "numeros = [1, 2, 3]\n",
    "espanol = [\"Uno\", \"Dos\", \"Tres\", \"Cuatro\"]\n",
    "ingles = [\"One\", \"Two\"]\n",
    "frances = [\"Un\", \"Deux\"]\n",
    "print(list(zip(numeros, espanol, ingles, frances)))"
   ]
  },
  {
   "cell_type": "markdown",
   "metadata": {},
   "source": [
    "Cancelar el zip"
   ]
  },
  {
   "cell_type": "code",
   "execution_count": 24,
   "metadata": {},
   "outputs": [
    {
     "name": "stdout",
     "output_type": "stream",
     "text": [
      "(1, 2, 3)\n",
      "('One', 'Two', 'Three')\n"
     ]
    }
   ],
   "source": [
    "c = [(1, 'One'), (2, 'Two'), (3, 'Three')]\n",
    "a, b = zip(*c) #descomprime los elementos\n",
    "print(a)\n",
    "print(b)"
   ]
  },
  {
   "cell_type": "markdown",
   "metadata": {},
   "source": [
    "## Función `enumerate(iterables)`"
   ]
  },
  {
   "cell_type": "code",
   "execution_count": 25,
   "metadata": {},
   "outputs": [
    {
     "name": "stdout",
     "output_type": "stream",
     "text": [
      "[(0, 'Java'), (1, 'C'), (2, 'C++'), (3, 'Rust'), (4, 'Elixir')]\n"
     ]
    }
   ],
   "source": [
    "lenguajes = [\"Java\", \"C\", \"C++\", \"Rust\", \"Elixir\"]\n",
    "print(list(enumerate(lenguajes))) #enumerate la poscion y enumera la lsita"
   ]
  },
  {
   "cell_type": "code",
   "execution_count": 27,
   "metadata": {},
   "outputs": [
    {
     "name": "stdout",
     "output_type": "stream",
     "text": [
      "[(1, 'Java'), (2, 'C'), (3, 'C++'), (4, 'Rust'), (5, 'Elixir')]\n"
     ]
    }
   ],
   "source": [
    "print(list(enumerate(lenguajes, 1)))"
   ]
  },
  {
   "cell_type": "code",
   "execution_count": 28,
   "metadata": {},
   "outputs": [
    {
     "name": "stdout",
     "output_type": "stream",
     "text": [
      "{'0': 'Java', '1': 'C', '2': 'C++', '3': 'Rust', '4': 'Elixir'}\n"
     ]
    }
   ],
   "source": [
    "print({ str(indice) : lenguaje for indice, lenguaje in enumerate(lenguajes)})"
   ]
  },
  {
   "cell_type": "markdown",
   "metadata": {},
   "source": [
    "## Función `all(iterables)` y función `any(iterables)`"
   ]
  },
  {
   "cell_type": "code",
   "execution_count": 29,
   "metadata": {},
   "outputs": [
    {
     "name": "stdout",
     "output_type": "stream",
     "text": [
      "False\n",
      "True\n"
     ]
    }
   ],
   "source": [
    "print(all([True, False, True]))\n",
    "print(any([True, False, True]))\n"
   ]
  },
  {
   "cell_type": "code",
   "execution_count": 30,
   "metadata": {},
   "outputs": [
    {
     "name": "stdout",
     "output_type": "stream",
     "text": [
      "True\n",
      "False\n"
     ]
    }
   ],
   "source": [
    "print(all([]))\n",
    "print(any([]))"
   ]
  },
  {
   "cell_type": "markdown",
   "metadata": {},
   "source": [
    "### Ejercicio\n",
    "La empresa ABCD tiene hasta 100 empleados.  \n",
    "La compañía decide crear un número de identificación único UID para cada uno de sus empleados.  \n",
    "La compañía le ha asignado la tarea de validar los UIDs generados aleatoriamente.  \n",
    "Un UID válido debe cumplir con las siguientes reglas:\n",
    "* Debe contener por lo menos dos letras mayúsculas en el alfabeto inglés.\n",
    "* Debe tener por lo menos 3 dígitos.\n",
    "* Contener únicamente dígitos alfanuméricos.\n",
    "* No tener repeticiones.\n",
    "* Contener exactamente 10 caracteres.\n"
   ]
  },
  {
   "cell_type": "code",
   "execution_count": null,
   "metadata": {},
   "outputs": [],
   "source": [
    "def uid_valido(uid: str) -> str:\n",
    "    cond = []\n",
    "    # Debe contener por lo menos dos letras mayúsculas en el alfabeto inglés.\n",
    "    cond.append( len(list(filter(lambda x: x.isupper(), list(uid)))) >= 2 )\n",
    "    # Debe tener por lo menos 3 dígitos.\n",
    "    cond.append( len(list(filter(lambda x: x.isdigit(), list(uid)))) >= 3 )\n",
    "    # Contener únicamente dígitos alfanuméricos.\n",
    "    cond.append( len(list(filter(lambda x: not(x.isalnum()), list(uid)))) == 0 )\n",
    "    # No tener repeticiones.\n",
    "    cond.append( len(uid) == len(set(uid)) )\n",
    "    # Contener exactamente 10 caracteres.\n",
    "    cond.append( len(uid) == 10 )\n",
    "\n",
    "    return \"Válido\" if all(cond) else \"Inválido\"\n",
    "\n",
    "uids = [\"B1CD102354\", \"B1CDEF2354\", \"1a1A$fd*\"]\n",
    "for uid in uids:\n",
    "    print(uid_valido(uid))"
   ]
  }
 ],
 "metadata": {
  "interpreter": {
   "hash": "e6104bf604ca1a37923b4f279a3bc03307071c215727ed52dcf746e90ba65021"
  },
  "kernelspec": {
   "display_name": "Python 3.10.4 64-bit",
   "language": "python",
   "name": "python3"
  },
  "language_info": {
   "codemirror_mode": {
    "name": "ipython",
    "version": 3
   },
   "file_extension": ".py",
   "mimetype": "text/x-python",
   "name": "python",
   "nbconvert_exporter": "python",
   "pygments_lexer": "ipython3",
   "version": "3.10.4"
  },
  "orig_nbformat": 4
 },
 "nbformat": 4,
 "nbformat_minor": 2
}
