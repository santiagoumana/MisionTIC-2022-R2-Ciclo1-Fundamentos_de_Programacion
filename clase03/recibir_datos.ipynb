{
 "cells": [
  {
   "cell_type": "markdown",
   "metadata": {},
   "source": [
    "# Recibir datos del usuario"
   ]
  },
  {
   "cell_type": "code",
   "execution_count": null,
   "metadata": {},
   "outputs": [],
   "source": [
    "print(\"Ingrese su nombre:\")\n",
    "nombre = input()\n",
    "\n",
    "apellido = input(\"Ingrese su apellido: \")\n",
    "\n",
    "print(\"Su nombre completo es:\", nombre, apellido)\n",
    "print(type(nombre))\n",
    "print(type(apellido))"
   ]
  },
  {
   "cell_type": "markdown",
   "metadata": {},
   "source": [
    "## Recibir datos numéricos del usuario"
   ]
  },
  {
   "cell_type": "code",
   "execution_count": null,
   "metadata": {},
   "outputs": [],
   "source": [
    "num_1 = input(\"Ingrese el primer número:\")\n",
    "num_2 = input(\"Ingrese el segundo número:\")\n",
    "\n",
    "print(type(num_1), type(num_2))\n",
    "\n",
    "num_1 = int(num_1)\n",
    "num_2 = int(num_2)\n",
    "\n",
    "print(type(num_1), type(num_2))\n",
    "\n",
    "print(num_1, \"*\", num_2, \"=\", num_1 * num_2)"
   ]
  },
  {
   "cell_type": "markdown",
   "metadata": {},
   "source": [
    "y un poco simplificado el código:"
   ]
  },
  {
   "cell_type": "code",
   "execution_count": null,
   "metadata": {},
   "outputs": [],
   "source": [
    "num_1 = int(input(\"Ingrese el primer número entero:\"))\n",
    "num_2 = int(input(\"Ingrese el segundo número entero:\"))\n",
    "\n",
    "print(type(num_1), type(num_2))\n",
    "\n",
    "print(num_1, \"*\", num_2, \"=\", num_1 * num_2)"
   ]
  }
 ],
 "metadata": {
  "interpreter": {
   "hash": "c538cf36d1368961783812db133503b5bcd381ebafab078933f492cb36ca4168"
  },
  "kernelspec": {
   "display_name": "Python 3.9.5 64-bit",
   "language": "python",
   "name": "python3"
  },
  "language_info": {
   "codemirror_mode": {
    "name": "ipython",
    "version": 3
   },
   "file_extension": ".py",
   "mimetype": "text/x-python",
   "name": "python",
   "nbconvert_exporter": "python",
   "pygments_lexer": "ipython3",
   "version": "3.9.5"
  },
  "orig_nbformat": 4
 },
 "nbformat": 4,
 "nbformat_minor": 2
}
