{
 "cells": [
  {
   "cell_type": "markdown",
   "metadata": {},
   "source": [
    "# Definición de funciones nuevas (personalizadas)"
   ]
  },
  {
   "cell_type": "markdown",
   "metadata": {},
   "source": [
    "```python\n",
    "def NOMBRE(LISTA_DE_PARAMETROS):\n",
    "    \"\"\"DOCSTRING_DE_FUNCION\"\"\"\n",
    "    SENTENCIAS\n",
    "    RETURN [EXPRESION]\n",
    "```\n",
    "**NOMBRE**: es el nombre de la función.  \n",
    "**LISTA_DE_PARAMETROS**: es la lista de parámetros que puede recibir una función.  \n",
    "**DOCSTRING_DE_FUNCION**: es la cadena de caracteres usada para documentar la función.  \n",
    "**SENTENCIAS**: es el bloque de sentencias en código fuente Python que realizar cierta operación dada.  \n",
    "**RETURN**: es la sentencia return en código Python.  \n",
    "**EXPRESION**: es la expresión o variable que devuelve la sentencia return."
   ]
  },
  {
   "cell_type": "code",
   "execution_count": 1,
   "metadata": {},
   "outputs": [
    {
     "name": "stdout",
     "output_type": "stream",
     "text": [
      "ya esta\n",
      "esta esta mal\n"
     ]
    }
   ],
   "source": [
    "def mi_funcion():\n",
    "    print(\"Imprimiendo desde la función\")\n",
    "print(\"ya esta\")\n",
    "print(\"esta esta mal\")"
   ]
  },
  {
   "cell_type": "code",
   "execution_count": null,
   "metadata": {},
   "outputs": [],
   "source": [
    "mi_funcion()"
   ]
  },
  {
   "cell_type": "markdown",
   "metadata": {},
   "source": [
    "## Uso de parámetros"
   ]
  },
  {
   "cell_type": "code",
   "execution_count": 2,
   "metadata": {},
   "outputs": [],
   "source": [
    "def saludo(nombre):\n",
    "    print(\"Hola\", nombre)"
   ]
  },
  {
   "cell_type": "code",
   "execution_count": 3,
   "metadata": {},
   "outputs": [
    {
     "name": "stdout",
     "output_type": "stream",
     "text": [
      "Hola Cesar\n"
     ]
    }
   ],
   "source": [
    "saludo(\"Cesar\")"
   ]
  },
  {
   "cell_type": "code",
   "execution_count": 4,
   "metadata": {},
   "outputs": [
    {
     "name": "stdout",
     "output_type": "stream",
     "text": [
      "Hola Andres\n"
     ]
    }
   ],
   "source": [
    "saludo(\"Andres\")"
   ]
  },
  {
   "cell_type": "code",
   "execution_count": 5,
   "metadata": {},
   "outputs": [
    {
     "name": "stdout",
     "output_type": "stream",
     "text": [
      "Hola Pablo\n"
     ]
    }
   ],
   "source": [
    "saludo(\"Pablo\")"
   ]
  },
  {
   "cell_type": "code",
   "execution_count": null,
   "metadata": {},
   "outputs": [],
   "source": [
    "saludo([\"Cesar\", \"Pablo\", \"Andres\"])"
   ]
  },
  {
   "cell_type": "markdown",
   "metadata": {},
   "source": [
    "## Varios parámetros"
   ]
  },
  {
   "cell_type": "code",
   "execution_count": null,
   "metadata": {},
   "outputs": [],
   "source": [
    "def nombre_completo(nombre, apellido = \"Abad\"):\n",
    "    \"\"\"Generación del nombre completo de la persona\n",
    "    Parámetros\n",
    "        nombre: Identifica a la persona\n",
    "        apellido: Representa la famiilia del padre y la madre\n",
    "    Retorna\n",
    "        La unión de los dos parametros ingresados\n",
    "    \"\"\"\n",
    "     return nombre + \" \" + apellido\n",
    "   "
   ]
  },
  {
   "cell_type": "code",
   "execution_count": null,
   "metadata": {},
   "outputs": [],
   "source": [
    "print(nombre_completo(\"Cesar\", \"Diaz\"))\n",
    "print(nombre_completo(\"Andrea\", \"Martinez\"))\n",
    "print(nombre_completo(\"Carolina\"))\n",
    "print(nombre_completo(apellido=\"Noriega\", nombre = \"Paulo\"))"
   ]
  },
  {
   "cell_type": "code",
   "execution_count": null,
   "metadata": {},
   "outputs": [],
   "source": [
    "name = nombre_completo(\"Cesar\", \"Diaz\")\n",
    "print(name)"
   ]
  },
  {
   "cell_type": "code",
   "execution_count": null,
   "metadata": {},
   "outputs": [],
   "source": [
    "print(nombre_completo(\"Andrea\", \"Martinez\"))"
   ]
  },
  {
   "cell_type": "code",
   "execution_count": null,
   "metadata": {},
   "outputs": [],
   "source": [
    "\n",
    "print(nombre_completo(\"Carolina\"))"
   ]
  },
  {
   "cell_type": "code",
   "execution_count": null,
   "metadata": {},
   "outputs": [],
   "source": [
    "print(nombre_completo(apellido=\"Noriega\", nombre = \"Paulo\"))"
   ]
  },
  {
   "cell_type": "code",
   "execution_count": null,
   "metadata": {},
   "outputs": [],
   "source": [
    "print(nombre_completo(10.08, 20))"
   ]
  },
  {
   "cell_type": "code",
   "execution_count": null,
   "metadata": {},
   "outputs": [],
   "source": [
    "print(nombre_completo.__doc__)"
   ]
  }
 ],
 "metadata": {
  "interpreter": {
   "hash": "e6104bf604ca1a37923b4f279a3bc03307071c215727ed52dcf746e90ba65021"
  },
  "kernelspec": {
   "display_name": "Python 3.10.4 64-bit",
   "language": "python",
   "name": "python3"
  },
  "language_info": {
   "codemirror_mode": {
    "name": "ipython",
    "version": 3
   },
   "file_extension": ".py",
   "mimetype": "text/x-python",
   "name": "python",
   "nbconvert_exporter": "python",
   "pygments_lexer": "ipython3",
   "version": "3.10.4"
  },
  "orig_nbformat": 4
 },
 "nbformat": 4,
 "nbformat_minor": 2
}
