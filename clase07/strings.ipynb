{
 "cells": [
  {
   "cell_type": "markdown",
   "metadata": {},
   "source": [
    "# Strings"
   ]
  },
  {
   "cell_type": "markdown",
   "metadata": {},
   "source": [
    "## Carácteres especiales"
   ]
  },
  {
   "cell_type": "code",
   "execution_count": null,
   "metadata": {},
<<<<<<< HEAD
   "outputs": [
    {
     "name": "stdout",
     "output_type": "stream",
     "text": [
      "Las comillas dobles (\") delimitan cadenas.\n"
     ]
    }
   ],
=======
   "outputs": [],
>>>>>>> 618e3a222ed655478e810ea12cb4f9fe2467d469
   "source": [
    "print(\"Las comillas dobles (\\\") delimitan cadenas.\")"
   ]
  },
  {
   "cell_type": "code",
   "execution_count": null,
   "metadata": {},
<<<<<<< HEAD
   "outputs": [
    {
     "name": "stdout",
     "output_type": "stream",
     "text": [
      "Las comillas simples (') delimitan cadenas.\n"
     ]
    }
   ],
=======
   "outputs": [],
>>>>>>> 618e3a222ed655478e810ea12cb4f9fe2467d469
   "source": [
    "print('Las comillas simples (\\') delimitan cadenas.')"
   ]
  },
  {
   "cell_type": "code",
   "execution_count": null,
   "metadata": {},
   "outputs": [],
   "source": [
    "print(\"Una línea\\nOtralínea\")"
   ]
  },
  {
   "cell_type": "code",
<<<<<<< HEAD
   "execution_count": 6,
   "metadata": {},
   "outputs": [
    {
     "name": "stdout",
     "output_type": "stream",
     "text": [
      "1\t2\t3\n",
      "37\t25\t18\n",
      "1555\t2558645\t3122\n"
     ]
    }
   ],
=======
   "execution_count": null,
   "metadata": {},
   "outputs": [],
>>>>>>> 618e3a222ed655478e810ea12cb4f9fe2467d469
   "source": [
    "print(\"1\\t2\\t3\\n37\\t25\\t18\\n1555\\t2558645\\t3122\")\n",
    "\n",
    "\n"
   ]
  },
  {
   "cell_type": "code",
   "execution_count": null,
   "metadata": {},
   "outputs": [],
   "source": [
    "print(\"C:\\\\Usuarios\\\\Rodriguez\\\\Escritorio\")\n"
   ]
  },
  {
   "cell_type": "code",
   "execution_count": null,
   "metadata": {},
   "outputs": [],
   "source": [
    "print(\"Este es un carácter unicode: \\U00002229\")"
   ]
  },
  {
   "cell_type": "markdown",
   "metadata": {},
   "source": [
    "## Colección de carácteres\n",
    "```\n",
    " C e s a r _\n",
    " 0 1 2 3 4 5\n",
    "```"
   ]
  },
  {
   "cell_type": "code",
   "execution_count": 7,
   "metadata": {},
   "outputs": [
    {
     "name": "stdout",
     "output_type": "stream",
     "text": [
      "r\n"
     ]
    }
   ],
   "source": [
    "nombre = \"Cesar \"\n",
    "letra = nombre[4]\n",
    "print(letra)"
   ]
  },
  {
   "cell_type": "code",
   "execution_count": 9,
   "metadata": {},
   "outputs": [
    {
     "name": "stdout",
     "output_type": "stream",
     "text": [
      " \n"
     ]
    }
   ],
   "source": [
    "letra = nombre[5]\n",
    "print(letra)"
   ]
  },
  {
   "cell_type": "code",
   "execution_count": 10,
   "metadata": {},
   "outputs": [
    {
     "name": "stdout",
     "output_type": "stream",
     "text": [
      "6\n"
     ]
    }
   ],
   "source": [
    "longitud = len(nombre)\n",
    "print(longitud)"
   ]
  },
  {
   "cell_type": "markdown",
   "metadata": {},
   "source": [
    "## Obtener caracteres de una cadena\n",
    "```\n",
    " 0123456789012345678901234567 # 28 caracteres, indices del 0 al 27  \n",
    "\"esto es una cadena muy larga\"\n",
    "```"
   ]
  },
  {
   "cell_type": "code",
   "execution_count": 11,
   "metadata": {},
   "outputs": [
    {
     "name": "stdout",
     "output_type": "stream",
     "text": [
      "cadena[0]: a\n"
     ]
    }
   ],
   "source": [
    "cadena = \"esto es una cadena muy larga\"\n",
    "print(\"cadena[0]:\", cadena[27])"
   ]
  },
  {
   "cell_type": "code",
   "execution_count": 12,
   "metadata": {},
   "outputs": [
    {
     "name": "stdout",
     "output_type": "stream",
     "text": [
      "cadena[len(cadena) - 1]: a\n"
     ]
    }
   ],
   "source": [
    "print(\"cadena[len(cadena) - 1]:\", cadena[len(cadena) - 1])"
   ]
  },
  {
   "cell_type": "code",
   "execution_count": 15,
   "metadata": {},
   "outputs": [
    {
     "name": "stdout",
     "output_type": "stream",
     "text": [
      "cadena[-1]: a\n"
     ]
    }
   ],
   "source": [
    "print(\"cadena[-1]:\", cadena[-1])"
   ]
  },
  {
   "cell_type": "code",
   "execution_count": 16,
   "metadata": {},
   "outputs": [
    {
     "name": "stdout",
     "output_type": "stream",
     "text": [
      "cadena[-2]: g\n"
     ]
    }
   ],
   "source": [
    "print(\"cadena[-2]:\", cadena[-2])"
   ]
  },
  {
   "cell_type": "code",
   "execution_count": 17,
   "metadata": {},
   "outputs": [
    {
     "name": "stdout",
     "output_type": "stream",
     "text": [
      "cadena[13]: a\n"
     ]
    }
   ],
   "source": [
    "print(\"cadena[13]:\", cadena[13]) "
   ]
  },
  {
   "cell_type": "markdown",
   "metadata": {},
   "source": [
    "## Subcadenas\n",
    "```\n",
    " 0123456789012345678901234567 # 28 caracteres, indices del 0 al 27  \n",
    "\"esto es una cadena muy larga\"\n",
    "```"
   ]
  },
  {
   "cell_type": "code",
   "execution_count": 18,
   "metadata": {},
   "outputs": [
    {
     "name": "stdout",
     "output_type": "stream",
     "text": [
      "esto es un\n"
     ]
    }
   ],
   "source": [
    "cadena = \"esto es una cadena muy larga\"\n",
    "print(cadena[0:10]) # [0,10) i >= 0 and i < 10"
   ]
  },
  {
   "cell_type": "code",
   "execution_count": 19,
   "metadata": {},
   "outputs": [
    {
     "name": "stdout",
     "output_type": "stream",
     "text": [
      "'sto '\n"
     ]
    }
   ],
   "source": [
    "print(\"'\" + cadena[1:5] + \"'\")"
   ]
  },
  {
   "cell_type": "code",
   "execution_count": 21,
   "metadata": {},
   "outputs": [
    {
     "name": "stdout",
     "output_type": "stream",
     "text": [
      "ad\n"
     ]
    }
   ],
   "source": [
    "print(cadena[13:15])"
   ]
  },
  {
   "cell_type": "code",
   "execution_count": 22,
   "metadata": {},
   "outputs": [
    {
     "name": "stdout",
     "output_type": "stream",
     "text": [
      "uy la\n"
     ]
    }
   ],
   "source": [
    "print(cadena[20:25])"
   ]
  },
  {
   "cell_type": "code",
   "execution_count": 23,
   "metadata": {},
   "outputs": [
    {
     "name": "stdout",
     "output_type": "stream",
     "text": [
      "esto es una cad\n"
     ]
    }
   ],
   "source": [
    "print(cadena[:15])"
   ]
  },
  {
   "cell_type": "code",
   "execution_count": 24,
   "metadata": {},
   "outputs": [
    {
     "name": "stdout",
     "output_type": "stream",
     "text": [
      "ena muy larga\n"
     ]
    }
   ],
   "source": [
    "print(cadena[15:])"
   ]
  },
  {
   "cell_type": "code",
   "execution_count": 25,
   "metadata": {},
   "outputs": [
    {
     "name": "stdout",
     "output_type": "stream",
     "text": [
      "\n"
     ]
    }
   ],
   "source": [
    "print(cadena[15:15])"
   ]
  },
  {
   "cell_type": "code",
   "execution_count": 26,
   "metadata": {},
   "outputs": [
    {
     "name": "stdout",
     "output_type": "stream",
     "text": [
      "esto es una cadena muy larga\n"
     ]
    }
   ],
   "source": [
    "print(cadena[:])"
   ]
  },
  {
   "cell_type": "code",
   "execution_count": 27,
   "metadata": {},
   "outputs": [
    {
     "name": "stdout",
     "output_type": "stream",
     "text": [
      "\n"
     ]
    }
   ],
   "source": [
    "print(cadena[15:1])"
   ]
  },
  {
   "cell_type": "code",
   "execution_count": 28,
   "metadata": {},
   "outputs": [
    {
     "name": "stdout",
     "output_type": "stream",
     "text": [
      "larg\n"
     ]
    }
   ],
   "source": [
    "print(cadena[-5:-1])"
   ]
  },
  {
   "cell_type": "markdown",
   "metadata": {},
   "source": [
    "## Operadores"
   ]
  },
  {
   "cell_type": "code",
   "execution_count": 29,
   "metadata": {},
   "outputs": [
    {
     "name": "stdout",
     "output_type": "stream",
     "text": [
      "Hola Mundo!\n"
     ]
    }
   ],
   "source": [
    "# Concatenación\n",
    "print(\"Hola \" + \"Mundo!\")"
   ]
  },
  {
   "cell_type": "code",
   "execution_count": 31,
   "metadata": {},
   "outputs": [
    {
     "name": "stdout",
     "output_type": "stream",
     "text": [
      "Hola Hola Hola \n"
     ]
    }
   ],
   "source": [
    "# Repetir cadenas\n",
    "var = \"Hola \" * 3\n",
    "print(var)"
   ]
  },
  {
   "cell_type": "code",
   "execution_count": null,
   "metadata": {},
   "outputs": [],
   "source": [
    "# Formatear cadenas\n",
    "nombre = \"Cesar\"\n",
    "print(\"Hola %s\" % nombre)"
   ]
  },
  {
   "cell_type": "markdown",
   "metadata": {},
   "source": [
    "## Funciones de cadena\n",
    "```\n",
    "\"esto es una Cadena muy Larga. y esto?\"\n",
    "```"
   ]
  },
  {
   "cell_type": "code",
   "execution_count": 33,
   "metadata": {},
   "outputs": [
    {
     "name": "stdout",
     "output_type": "stream",
     "text": [
      "Esto es una cadena muy larga. y esto?\n",
      "esto es una Cadena muy Larga. y esto?\n"
     ]
    }
   ],
   "source": [
    "cadena = \"esto es una Cadena muy Larga. y esto?\"\n",
    "print(cadena.capitalize())\n",
    "print(cadena)"
   ]
  },
  {
   "cell_type": "code",
   "execution_count": 34,
   "metadata": {},
   "outputs": [
    {
     "name": "stdout",
     "output_type": "stream",
     "text": [
      "ESTO ES UNA CADENA MUY LARGA. Y ESTO?\n"
     ]
    }
   ],
   "source": [
    "print(cadena.upper())"
   ]
  },
  {
   "cell_type": "code",
   "execution_count": 35,
   "metadata": {},
   "outputs": [
    {
     "name": "stdout",
     "output_type": "stream",
     "text": [
      "esto es una cadena muy larga. y esto?\n"
     ]
    }
   ],
   "source": [
    "print(cadena.lower())"
   ]
  },
  {
   "cell_type": "code",
   "execution_count": 36,
   "metadata": {},
   "outputs": [
    {
     "name": "stdout",
     "output_type": "stream",
     "text": [
      "['esto', 'es', 'una', 'Cadena', 'muy', 'Larga.', 'y', 'esto?']\n"
     ]
    }
   ],
   "source": [
    "print(cadena.split())"
   ]
  },
  {
   "cell_type": "code",
<<<<<<< HEAD
   "execution_count": 39,
   "metadata": {},
   "outputs": [
    {
     "name": "stdout",
     "output_type": "stream",
     "text": [
      "['esto es una Cadena muy Larga', ' y esto?']\n"
     ]
    }
   ],
   "source": [
    "print(cadena.split(\".\"))\n"
   ]
  },
  {
   "cell_type": "code",
   "execution_count": 42,
   "metadata": {},
   "outputs": [
    {
     "name": "stdout",
     "output_type": "stream",
     "text": [
      "['cesar', 'correo', 'com']\n"
     ]
    }
   ],
   "source": [
    "correo = \"cesar@correo@com\"\n",
    "print(correo.split(\"@\"))\n",
    "\n"
=======
   "execution_count": null,
   "metadata": {},
   "outputs": [],
   "source": [
    "print(cadena.split(\".\"))"
>>>>>>> 618e3a222ed655478e810ea12cb4f9fe2467d469
   ]
  },
  {
   "cell_type": "code",
   "execution_count": null,
   "metadata": {},
   "outputs": [],
   "source": [
    "cadena = \"#######    esto es una Cadena muy Larga.      ##      y esto?      ######\"\n",
    "int(\"'\" ,cadena.strip(cadena[2]).strip()split(\".\") , \"'\")"
   ]
  },
  {
   "cell_type": "code",
   "execution_count": null,
   "metadata": {},
   "outputs": [],
   "source": [
    "cadena = \"######   esto es una Cadena muy Larga.            y esto?    #######\"\n",
    "print(\"'\" + cadena.strip(\"#\").strip() + \"'\")"
   ]
  },
  {
   "cell_type": "markdown",
   "metadata": {},
   "source": [
    "### Búsquedas en cadenas\n",
    "```\n",
    "\"esto es una Cadena muy Larga. y esto?\"\n",
    "```"
   ]
  },
  {
   "cell_type": "code",
   "execution_count": 52,
   "metadata": {},
   "outputs": [
    {
     "name": "stdout",
     "output_type": "stream",
     "text": [
      "14\n"
     ]
    }
   ],
   "source": [
    "cadena = \"esto es una Cadena muy Larga. y esto?\"\n",
    "print(cadena.find(\"d\"))"
   ]
  },
  {
   "cell_type": "code",
   "execution_count": 53,
   "metadata": {},
   "outputs": [
    {
     "name": "stdout",
     "output_type": "stream",
     "text": [
      "23\n"
     ]
    }
   ],
   "source": [
    "print(cadena.find(\"L\"))"
   ]
  },
  {
   "cell_type": "code",
   "execution_count": 54,
   "metadata": {},
   "outputs": [
    {
     "name": "stdout",
     "output_type": "stream",
     "text": [
      "-1\n"
     ]
    }
   ],
   "source": [
    "print(cadena.find(\"l\"))"
   ]
  },
  {
   "cell_type": "code",
   "execution_count": 55,
   "metadata": {},
   "outputs": [
    {
     "name": "stdout",
     "output_type": "stream",
     "text": [
      "10\n"
     ]
    }
   ],
   "source": [
    "print(cadena.find(\"a\"))"
   ]
  },
  {
   "cell_type": "code",
   "execution_count": 56,
   "metadata": {},
   "outputs": [
    {
     "name": "stdout",
     "output_type": "stream",
     "text": [
      "13\n"
     ]
    }
   ],
   "source": [
    "print(cadena.find(\"a\", 11)) "
   ]
  },
  {
   "cell_type": "markdown",
   "metadata": {},
   "source": [
    "### Todos los métodos y atributos de cadena"
   ]
  },
  {
   "cell_type": "code",
   "execution_count": null,
   "metadata": {},
   "outputs": [],
   "source": [
    "print(dir(cadena))"
   ]
  },
  {
   "cell_type": "markdown",
   "metadata": {},
   "source": [
    "## Ejemplos adicionales:\n"
   ]
  },
  {
   "cell_type": "markdown",
   "metadata": {},
   "source": [
    "1. Separar la cadena en 2 partes por el carácter '.' punto, donde cada parte debe estar con mayúscula inicial."
   ]
  },
  {
   "cell_type": "code",
   "execution_count": 57,
   "metadata": {},
   "outputs": [
    {
     "name": "stdout",
     "output_type": "stream",
     "text": [
      "Esto es una cadena muy larga\n",
      "Y esto?\n"
     ]
    }
   ],
   "source": [
    "cadena = \"esto es una Cadena muy Larga. y esto?\"\n",
    "pos_punto = cadena.find(\".\")\n",
    "parte_1 = cadena[:pos_punto].capitalize()\n",
    "parte_2 = cadena[pos_punto+1:].strip().capitalize()\n",
    "print(parte_1)\n",
    "print(parte_2)"
   ]
  },
  {
   "cell_type": "markdown",
   "metadata": {},
   "source": [
    "2. Iterar por una cadena con salto"
   ]
  },
  {
   "cell_type": "code",
<<<<<<< HEAD
   "execution_count": 58,
=======
   "execution_count": null,
>>>>>>> 618e3a222ed655478e810ea12cb4f9fe2467d469
   "metadata": {},
   "outputs": [],
   "source": [
    "mensaje = \"Hola, como estas tu?\"\n",
    "print(mensaje[::3])"
   ]
  },
  {
   "cell_type": "markdown",
   "metadata": {},
   "source": [
    "3. Invertir una cadena"
   ]
  },
  {
   "cell_type": "code",
   "execution_count": 59,
   "metadata": {},
   "outputs": [
    {
     "name": "stdout",
     "output_type": "stream",
     "text": [
      "?otse y .agraL yum anedaC anu se otse\n"
     ]
    }
   ],
   "source": [
    "cadena = \"esto es una Cadena muy Larga. y esto?\"\n",
    "print(cadena[::-1])"
   ]
  }
 ],
 "metadata": {
  "interpreter": {
   "hash": "e6104bf604ca1a37923b4f279a3bc03307071c215727ed52dcf746e90ba65021"
  },
  "kernelspec": {
   "display_name": "Python 3.10.4 64-bit",
   "language": "python",
   "name": "python3"
  },
  "language_info": {
   "codemirror_mode": {
    "name": "ipython",
    "version": 3
   },
   "file_extension": ".py",
   "mimetype": "text/x-python",
   "name": "python",
   "nbconvert_exporter": "python",
   "pygments_lexer": "ipython3",
   "version": "3.10.4"
  },
  "orig_nbformat": 4
 },
 "nbformat": 4,
 "nbformat_minor": 2
}
